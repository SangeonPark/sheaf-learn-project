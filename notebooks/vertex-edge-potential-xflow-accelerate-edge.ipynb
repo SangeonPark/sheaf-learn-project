{
 "cells": [
  {
   "cell_type": "code",
   "execution_count": 1,
   "id": "52d438b8-1f7b-4829-a6c2-d71dce051bdd",
   "metadata": {},
   "outputs": [],
   "source": [
    "%load_ext autoreload\n",
    "%autoreload 2"
   ]
  },
  {
   "cell_type": "code",
   "execution_count": 2,
   "id": "3860f244-f4fb-4d21-9c58-f13c1dad470e",
   "metadata": {},
   "outputs": [],
   "source": [
    "import os\n",
    "\n",
    "import torch\n",
    "import torch.nn.functional as F\n",
    "from torch.utils.data import DataLoader, random_split\n",
    "import torch.nn as nn\n",
    "import torch.optim as optim\n",
    "\n",
    "from torch_geometric.utils import from_networkx, to_networkx\n",
    "import networkx as nx\n",
    "\n",
    "import pytorch_lightning as pl\n",
    "from pytorch_lightning import LightningDataModule, LightningModule, Trainer\n",
    "from pytorch_lightning.callbacks.early_stopping import EarlyStopping\n",
    "from pytorch_lightning.callbacks import ModelCheckpoint, Callback, TQDMProgressBar\n",
    "from pytorch_lightning.loggers import WandbLogger\n",
    "\n",
    "\n",
    "\n",
    "from typing import Callable, Optional"
   ]
  },
  {
   "cell_type": "code",
   "execution_count": 3,
   "id": "35a18938-1f41-450b-8c2f-fdfe0f571ea7",
   "metadata": {},
   "outputs": [],
   "source": [
    "import sys\n",
    "sys.path.insert(0,'..')"
   ]
  },
  {
   "cell_type": "code",
   "execution_count": 4,
   "id": "99d976ff-eb17-4097-885c-2550d5c373a8",
   "metadata": {},
   "outputs": [],
   "source": [
    "from utils.heterophilic import get_dataset, get_fixed_splits, WebKB, Actor\n",
    "from project.sheaf_datamodule import SheafDataset_ForGraphs, SheafDataModule_ForGraphs\n",
    "from project.sheaf_learner import coboundary_learner_on_graph_signal\n",
    "from project.sheaf_diffusion import sheaf_diffusion\n",
    "from project.sheaf_simultaneous_sparse import sheaf_gradient_flow\n",
    "from project.sheaf_simultaneous_potential import sheaf_gradient_flow_potential\n",
    "from project.functor_stacked_energy_accelerate_edges import sheaf_gradient_flow_functor"
   ]
  },
  {
   "cell_type": "code",
   "execution_count": 5,
   "id": "71e49220-a45e-4b75-abf7-a885b5dc57ce",
   "metadata": {},
   "outputs": [
    {
     "name": "stderr",
     "output_type": "stream",
     "text": [
      "\u001b[34m\u001b[1mwandb\u001b[0m: Currently logged in as: \u001b[33msaepark\u001b[0m. Use \u001b[1m`wandb login --relogin`\u001b[0m to force relogin\n"
     ]
    },
    {
     "name": "stdout",
     "output_type": "stream",
     "text": [
      "{'method': 'random',\n",
      " 'metric': {'goal': 'maximize', 'name': 'val_acc'},\n",
      " 'parameters': {'NEdgeEnergy': {'distribution': 'categorical',\n",
      "                                'values': [1, 2, 3]},\n",
      "                'NVertEnergy': {'distribution': 'categorical',\n",
      "                                'values': [0, 1, 2, 3]},\n",
      "                'add_adjacency': {'distribution': 'categorical',\n",
      "                                  'values': [True, False]},\n",
      "                'add_channel_mixing': {'distribution': 'categorical',\n",
      "                                       'values': [True, False]},\n",
      "                'add_stalk_mixing': {'distribution': 'categorical',\n",
      "                                     'values': [True, False]},\n",
      "                'apply_spectralnorm': {'distribution': 'categorical',\n",
      "                                       'values': [True, False]},\n",
      "                'apply_symmetrize': {'distribution': 'categorical',\n",
      "                                     'values': [True, False]},\n",
      "                'batch_size': {'distribution': 'categorical', 'values': [1]},\n",
      "                'channels': {'distribution': 'categorical',\n",
      "                             'values': [2, 4, 8, 16, 32]},\n",
      "                'de': {'distribution': 'categorical', 'values': [2, 3, 4, 5]},\n",
      "                'dropout': {'distribution': 'categorical',\n",
      "                            'values': [0.0,\n",
      "                                       0.1,\n",
      "                                       0.2,\n",
      "                                       0.3,\n",
      "                                       0.4,\n",
      "                                       0.5,\n",
      "                                       0.6,\n",
      "                                       0.7,\n",
      "                                       0.8,\n",
      "                                       0.9]},\n",
      "                'dv': {'distribution': 'categorical', 'values': [2, 3, 4, 5]},\n",
      "                'first_hidden': {'distribution': 'categorical',\n",
      "                                 'values': [3000,\n",
      "                                            1500,\n",
      "                                            1000,\n",
      "                                            800,\n",
      "                                            600,\n",
      "                                            700,\n",
      "                                            500,\n",
      "                                            400,\n",
      "                                            250,\n",
      "                                            100,\n",
      "                                            50]},\n",
      "                'fold': {'distribution': 'categorical',\n",
      "                         'values': [0, 1, 2, 3, 4, 5, 6, 7, 8, 9]},\n",
      "                'free_potential': {'distribution': 'categorical',\n",
      "                                   'values': [1, 2]},\n",
      "                'input_dropout': {'distribution': 'categorical',\n",
      "                                  'values': [0.0,\n",
      "                                             0.1,\n",
      "                                             0.2,\n",
      "                                             0.3,\n",
      "                                             0.4,\n",
      "                                             0.5,\n",
      "                                             0.6,\n",
      "                                             0.7,\n",
      "                                             0.8,\n",
      "                                             0.9]},\n",
      "                'layers': {'distribution': 'categorical',\n",
      "                           'values': [1, 2, 3, 4]},\n",
      "                'learning_rate': {'distribution': 'categorical',\n",
      "                                  'values': [0.001, 0.0005, 0.005]},\n",
      "                'nonlinearoutput': {'distribution': 'categorical',\n",
      "                                    'values': [True, False]},\n",
      "                'second_hidden': {'distribution': 'categorical',\n",
      "                                  'values': [3000,\n",
      "                                             1500,\n",
      "                                             1000,\n",
      "                                             800,\n",
      "                                             600,\n",
      "                                             700,\n",
      "                                             500,\n",
      "                                             400,\n",
      "                                             250,\n",
      "                                             100,\n",
      "                                             50]},\n",
      "                'use_act': {'distribution': 'categorical',\n",
      "                            'values': [True, False]},\n",
      "                'vertex_potential_type': {'distribution': 'categorical',\n",
      "                                          'values': [0, 1]},\n",
      "                'weight_decay': {'distribution': 'log_uniform',\n",
      "                                 'max': -6.8,\n",
      "                                 'min': -9.2}}}\n"
     ]
    },
    {
     "name": "stderr",
     "output_type": "stream",
     "text": [
      "\u001b[34m\u001b[1mwandb\u001b[0m: \u001b[33mWARNING\u001b[0m Malformed sweep config detected! This may cause your sweep to behave in unexpected ways.\n",
      "\u001b[34m\u001b[1mwandb\u001b[0m: \u001b[33mWARNING\u001b[0m To avoid this, please fix the sweep config schema violations below:\n",
      "\u001b[34m\u001b[1mwandb\u001b[0m: \u001b[33mWARNING\u001b[0m   Violation 1. weight_decay uses log_uniform, where min/max specify base-e exponents. Use log_uniform_values to specify limit values.\n"
     ]
    },
    {
     "name": "stdout",
     "output_type": "stream",
     "text": [
      "Create sweep with ID: f42yrtrl\n",
      "Sweep URL: https://wandb.ai/saepark/Sweep_functor_onlyxflow_stackenergy_Jan_13_chameleon/sweeps/f42yrtrl\n"
     ]
    }
   ],
   "source": [
    "import os\n",
    "\n",
    "import torch\n",
    "import torch.nn.functional as F\n",
    "from torch.utils.data import DataLoader, random_split\n",
    "import torch.nn as nn\n",
    "import torch.optim as optim\n",
    "\n",
    "from torch_geometric.utils import from_networkx, to_networkx\n",
    "\n",
    "\n",
    "import pytorch_lightning as pl\n",
    "from pytorch_lightning import LightningDataModule, LightningModule, Trainer\n",
    "from pytorch_lightning.callbacks.early_stopping import EarlyStopping\n",
    "from pytorch_lightning.callbacks import ModelCheckpoint, Callback, TQDMProgressBar\n",
    "from pytorch_lightning.loggers import WandbLogger\n",
    "\n",
    "\n",
    "\n",
    "from typing import Callable, Optional\n",
    "\n",
    "\n",
    "import sys\n",
    "sys.path.insert(0,'..')\n",
    "from utils.heterophilic import get_dataset, get_fixed_splits, WebKB, Actor\n",
    "from project.sheaf_datamodule import SheafDataset_ForGraphs, SheafDataModule_ForGraphs\n",
    "from project.sheaf_learner import coboundary_learner_on_graph_signal\n",
    "\n",
    "from project.sheaf_edgewise_functor_version2  import sheaf_gradient_flow_functor\n",
    "\n",
    "import wandb\n",
    "\n",
    "wandb.login()\n",
    "\n",
    "dataset = get_dataset('film')\n",
    "data_source = dataset[0]\n",
    "\n",
    "\n",
    "\n",
    "\n",
    "sweep_config = {\n",
    "    'method': 'random'\n",
    "    }\n",
    "\n",
    "\n",
    "metric = {\n",
    "    'name': 'val_acc',\n",
    "    'goal': 'maximize'\n",
    "    }\n",
    "\n",
    "sweep_config['metric'] = metric\n",
    "\n",
    "parameters_dict = {\n",
    "    'dv': {\n",
    "        'distribution': 'categorical',\n",
    "        'values': [2,3,4,5]\n",
    "    },\n",
    "    'de': {\n",
    "        'distribution': 'categorical',\n",
    "        'values': [2,3,4,5]\n",
    "    },\n",
    "    'input_dropout': {\n",
    "        'distribution': 'categorical',\n",
    "        'values':[0.0, 0.1, 0.2, 0.3, 0.4, 0.5, 0.6, 0.7, 0.8, 0.9]\n",
    "        #'values':[0.0]\n",
    "    },\n",
    "    'dropout': {\n",
    "        'distribution': 'categorical',\n",
    "        #'values':[0.0, 0.1, 0.2, 0.3, 0.4, 0.5, 0.6, 0.7, 0.8, 0.9]\n",
    "        'values':[0.0, 0.1, 0.2, 0.3, 0.4, 0.5, 0.6,0.7, 0.8, 0.9]\n",
    "    },\n",
    "    'fold': {\n",
    "        'distribution': 'categorical',\n",
    "        #'values':[0,1,2,3,4,5,6,7,8,9],\n",
    "        'values':[0,1,2,3,4,5,6,7,8,9]\n",
    "    },\n",
    "    'layers':{\n",
    "        'distribution': 'categorical',\n",
    "        'values': [1,2,3,4]\n",
    "    },\n",
    "    'NVertEnergy':{\n",
    "        'distribution': 'categorical',\n",
    "        'values': [0, 1, 2, 3]\n",
    "    },\n",
    "    'NEdgeEnergy':{\n",
    "        'distribution': 'categorical',\n",
    "        'values': [1, 2, 3]\n",
    "    },\n",
    "    'channels':{\n",
    "        'distribution': 'categorical',\n",
    "        'values': [2,4,8,16,32]\n",
    "    },\n",
    "    'batch_size':{\n",
    "        'distribution': 'categorical',\n",
    "        'values': [1]\n",
    "    },\n",
    "    'first_hidden':{\n",
    "        'distribution':'categorical',\n",
    "        'values':[3000, 1500,1000,800,600, 700, 500,400,250, 100, 50]\n",
    "    },\n",
    "    'second_hidden':{\n",
    "        'distribution':'categorical',\n",
    "        'values':[3000, 1500,1000,800, 600,700,500, 400, 250,100, 50]\n",
    "    },\n",
    "    'use_act':{\n",
    "        'distribution':'categorical',\n",
    "        'values':[True, False]\n",
    "    },\n",
    "    'free_potential':{\n",
    "        'distribution':'categorical',\n",
    "        'values':[1,2]\n",
    "    },\n",
    "    'learning_rate':{\n",
    "        'distribution':'categorical',\n",
    "        'values':[1e-3, 5e-4, 5e-3]\n",
    "    },\n",
    "    'weight_decay':{\n",
    "        'distribution':'log_uniform',\n",
    "        'min':-9.2,\n",
    "        'max':-6.8\n",
    "    },\n",
    "    'nonlinearoutput':{\n",
    "        'distribution':'categorical',\n",
    "        'values':[True, False]\n",
    "    },\n",
    "    'add_adjacency':{\n",
    "        'distribution':'categorical',\n",
    "        'values':[True, False]\n",
    "    },\n",
    "    'add_stalk_mixing':{\n",
    "        'distribution':'categorical',\n",
    "        'values':[True, False]\n",
    "    },\n",
    "    'add_channel_mixing':{\n",
    "        'distribution':'categorical',\n",
    "        'values':[True, False]\n",
    "    },\n",
    "    'apply_spectralnorm':{\n",
    "        'distribution':'categorical',\n",
    "        'values':[True, False]\n",
    "    },\n",
    "    'apply_symmetrize':{\n",
    "        'distribution':'categorical',\n",
    "        'values':[True, False]\n",
    "    },\n",
    "    'vertex_potential_type':{\n",
    "        'distribution':'categorical',\n",
    "        'values':[0, 1]\n",
    "    }\n",
    "\n",
    "}\n",
    "\n",
    "sweep_config['parameters'] = parameters_dict\n",
    "\n",
    "import pprint\n",
    "pprint.pprint(sweep_config)\n",
    "sweep_id = wandb.sweep(sweep_config, project=\"Sweep_functor_onlyxflow_stackenergy_Jan_13_chameleon\")"
   ]
  },
  {
   "cell_type": "code",
   "execution_count": 6,
   "id": "9d5469d4-4532-4bf8-8a0b-c2c3247a783f",
   "metadata": {},
   "outputs": [],
   "source": [
    "dataset = get_dataset('chameleon')\n",
    "data = dataset[0]\n",
    "data = get_fixed_splits(data, 'chameleon', 0)"
   ]
  },
  {
   "cell_type": "code",
   "execution_count": 10,
   "id": "16352330-44b0-40e8-a493-ea2831ff2f5d",
   "metadata": {},
   "outputs": [
    {
     "data": {
      "text/plain": [
       "Data(x=[2277, 2325], edge_index=[2, 62742], y=[2277], train_mask=[2277], val_mask=[2277], test_mask=[2277])"
      ]
     },
     "execution_count": 10,
     "metadata": {},
     "output_type": "execute_result"
    }
   ],
   "source": [
    "data"
   ]
  },
  {
   "cell_type": "code",
   "execution_count": 8,
   "id": "c78cee42-053d-4e65-b448-2ed1ab37c3ea",
   "metadata": {},
   "outputs": [
    {
     "data": {
      "text/plain": [
       "tensor(0)"
      ]
     },
     "execution_count": 8,
     "metadata": {},
     "output_type": "execute_result"
    }
   ],
   "source": [
    "min(data.y)"
   ]
  },
  {
   "cell_type": "code",
   "execution_count": 9,
   "id": "16895a14-1b93-4635-b3c5-5149fc9ffd2f",
   "metadata": {},
   "outputs": [
    {
     "data": {
      "text/plain": [
       "tensor(4)"
      ]
     },
     "execution_count": 9,
     "metadata": {},
     "output_type": "execute_result"
    }
   ],
   "source": [
    "max(data.y)"
   ]
  },
  {
   "cell_type": "code",
   "execution_count": 6,
   "id": "b9aae9b0-14e5-46a7-a3dd-91fead6159d5",
   "metadata": {},
   "outputs": [],
   "source": [
    "graph = to_networkx(data)"
   ]
  },
  {
   "cell_type": "code",
   "execution_count": 7,
   "id": "2cbc582b-a7eb-49ef-8eba-0fcc0a8e68d6",
   "metadata": {},
   "outputs": [],
   "source": [
    "graph = graph.to_undirected()"
   ]
  },
  {
   "cell_type": "code",
   "execution_count": 8,
   "id": "45db437c-5a8c-4989-a012-7ad0d131d0b7",
   "metadata": {},
   "outputs": [
    {
     "data": {
      "text/plain": [
       "2277"
      ]
     },
     "execution_count": 8,
     "metadata": {},
     "output_type": "execute_result"
    }
   ],
   "source": [
    "len(graph)"
   ]
  },
  {
   "cell_type": "code",
   "execution_count": null,
   "id": "afed150b-51bd-4ca8-8dfc-9f1d97012dee",
   "metadata": {},
   "outputs": [],
   "source": []
  },
  {
   "cell_type": "code",
   "execution_count": 24,
   "id": "ccb80b0e-f74c-41b6-9af5-31d6b2869fea",
   "metadata": {},
   "outputs": [],
   "source": [
    "Nv = len(graph)\n",
    "Ne = graph.number_of_edges()\n",
    "#dv = 3\n",
    "#de = 2\n",
    "#final_d = dv + 2\n",
    "#hidden_channels = 4\n",
    "#edge = torch.randn(Ne, 2*final_d*hidden_channels + 2*dv*de)"
   ]
  },
  {
   "cell_type": "code",
   "execution_count": 25,
   "id": "703c1b44-a1a2-4092-9f9e-8ba38594ecfc",
   "metadata": {},
   "outputs": [
    {
     "data": {
      "text/plain": [
       "31371"
      ]
     },
     "execution_count": 25,
     "metadata": {},
     "output_type": "execute_result"
    }
   ],
   "source": [
    "Ne"
   ]
  },
  {
   "cell_type": "markdown",
   "id": "64daa19b-a041-4aec-a326-932d9fc7794c",
   "metadata": {},
   "source": [
    "edge[0]"
   ]
  },
  {
   "cell_type": "code",
   "execution_count": 26,
   "id": "29cfde37-ef30-487b-95bd-5a5d765e3653",
   "metadata": {},
   "outputs": [],
   "source": [
    "from_vertex_outgoing_edges = [ [] for _ in range(Nv) ]\n",
    "from_vertex_incoming_edges = [ [] for _ in range(Nv) ]\n",
    "from_vertex_outgoing_vertex = [ [] for _ in range(Nv) ]\n",
    "from_vertex_incoming_vertex = [ [] for _ in range(Nv) ]\n",
    "for i, (v1, v2) in enumerate(graph.edges):\n",
    "    from_vertex_outgoing_edges[v1].append(i)\n",
    "    from_vertex_incoming_edges[v2].append(i)\n",
    "    from_vertex_outgoing_vertex[v1].append(v2)\n",
    "    from_vertex_incoming_vertex[v2].append(v1)"
   ]
  },
  {
   "cell_type": "code",
   "execution_count": 27,
   "id": "f578d991-bdb6-4c7a-8b0d-a0267f129be2",
   "metadata": {},
   "outputs": [],
   "source": [
    "degree_list = []\n",
    "for i in range(Nv):\n",
    "    degree_list.append(graph.degree(i))"
   ]
  },
  {
   "cell_type": "code",
   "execution_count": 28,
   "id": "43909e20-aa46-412a-b91b-aedc907b3124",
   "metadata": {},
   "outputs": [],
   "source": [
    "degree_list = torch.tensor(degree_list)"
   ]
  },
  {
   "cell_type": "code",
   "execution_count": 29,
   "id": "69011aab-7f8a-4c8a-831b-1dddac1d4409",
   "metadata": {},
   "outputs": [],
   "source": [
    "for i in range(Nv):\n",
    "    from_vertex_outgoing_edges[i] = torch.tensor(from_vertex_outgoing_edges[i])\n",
    "    from_vertex_outgoing_vertex[i] = torch.tensor(from_vertex_outgoing_vertex[i])\n",
    "    from_vertex_incoming_edges[i] = torch.tensor(from_vertex_incoming_edges[i])\n",
    "    from_vertex_incoming_vertex[i] = torch.tensor(from_vertex_incoming_vertex[i])"
   ]
  },
  {
   "cell_type": "code",
   "execution_count": 30,
   "id": "049635a4-b140-4ac8-94d5-a9d45a8590c3",
   "metadata": {},
   "outputs": [],
   "source": [
    "mask = {'train_mask':data.train_mask, \n",
    "        'val_mask':data.val_mask, \n",
    "        'test_mask':data.test_mask\n",
    "       }"
   ]
  },
  {
   "cell_type": "code",
   "execution_count": 31,
   "id": "4ab0dc57-15f4-4a14-963f-e2ab30db6cee",
   "metadata": {},
   "outputs": [
    {
     "data": {
      "text/plain": [
       "Data(x=[2277, 2325], edge_index=[2, 62742], y=[2277], train_mask=[2277], val_mask=[2277], test_mask=[2277])"
      ]
     },
     "execution_count": 31,
     "metadata": {},
     "output_type": "execute_result"
    }
   ],
   "source": [
    "data"
   ]
  },
  {
   "cell_type": "code",
   "execution_count": 32,
   "id": "e103bfaa-0666-4a96-b16d-f0fe2b439caa",
   "metadata": {},
   "outputs": [
    {
     "data": {
      "text/plain": [
       "tensor(4)"
      ]
     },
     "execution_count": 32,
     "metadata": {},
     "output_type": "execute_result"
    }
   ],
   "source": [
    "max(data.y)"
   ]
  },
  {
   "cell_type": "code",
   "execution_count": 33,
   "id": "2a850b6a-abec-4c8e-b954-ced3f43630ba",
   "metadata": {},
   "outputs": [
    {
     "data": {
      "text/plain": [
       "tensor(0)"
      ]
     },
     "execution_count": 33,
     "metadata": {},
     "output_type": "execute_result"
    }
   ],
   "source": [
    "min(data.y)"
   ]
  },
  {
   "cell_type": "code",
   "execution_count": 34,
   "id": "381f438d-d395-488c-833e-051a25d5b93b",
   "metadata": {},
   "outputs": [
    {
     "name": "stderr",
     "output_type": "stream",
     "text": [
      "/root/projects/sheaf-learn-project/notebooks/../project/functor_stacked_energy_accelerate_edges.py:168: FutureWarning: adjacency_matrix will return a scipy.sparse array instead of a matrix in Networkx 3.0.\n",
      "  A = nx.adjacency_matrix(graph)\n",
      "<class 'networkx.utils.decorators.argmap'> compilation 4:4: FutureWarning: laplacian_matrix will return a scipy.sparse array instead of a matrix in Networkx 3.0.\n"
     ]
    }
   ],
   "source": [
    "#    def __init__(self, graph, Nv, dv, Ne, de, adjacency, max_deg, layers, input_dim, output_dim, channels, left_weights, right_weights, potential, mask, use_act, augmented, add_lp, add_hp, dropout, input_dropout, free_potential, first_hidden, second_hidden, learning_rate = 0.01):\n",
    "\n",
    "#input_dim = 2089\n",
    "input_dim = 2325\n",
    "output_dim = 5\n",
    "\n",
    "dv = 3\n",
    "de = 3\n",
    "layers = 3\n",
    "channels = 8\n",
    "left_weights = True\n",
    "right_weights = True\n",
    " \n",
    "dropout     = 0.3\n",
    "input_dropout = 0.\n",
    "free_potential = 2\n",
    "\n",
    "first_hidden =1000\n",
    "second_hidden=200\n",
    "\n",
    "NVertEnergy = 0\n",
    "NEdgeEnergy = 1\n",
    "\n",
    "learning_rate = 1e-3\n",
    "weight_decay  = 5e-4\n",
    "\n",
    "nonlinearoutput = False\n",
    "add_adjacency = True\n",
    "add_stalk_mixing = False\n",
    "add_channel_mixing = True\n",
    "activation = False\n",
    "\n",
    "apply_spectralnorm = False\n",
    "apply_symmetrize = False\n",
    "vertex_potential_type = 1\n",
    "#Towards final, \n",
    "model_diffusion = sheaf_gradient_flow_functor(graph,from_vertex_outgoing_edges, from_vertex_incoming_edges, from_vertex_outgoing_vertex, from_vertex_incoming_vertex, degree_list, graph.number_of_nodes(), dv, graph.number_of_edges(), de, layers,input_dim,output_dim, channels, left_weights, right_weights, 'radial', mask, activation,True,True,True, dropout,input_dropout,free_potential,first_hidden,second_hidden,NVertEnergy, NEdgeEnergy, nonlinearoutput,add_adjacency, add_stalk_mixing, add_channel_mixing, apply_spectralnorm, apply_symmetrize, vertex_potential_type,learning_rate, weight_decay)\n",
    "\n",
    "\n",
    "#New_Theory\n",
    "#YES ACTIVATION\n",
    "#model_diffusion = sheaf_gradient_flow_functor(graph, graph.number_of_nodes(), dv, graph.number_of_edges(), de, layers,input_dim,output_dim, channels, left_weights, right_weights, 'radial', mask, True,True,True,True, dropout,input_dropout,free_potential,first_hidden,second_hidden,learning_rate, weight_decay)\n",
    "\n",
    "#NO ACTIVATION\n",
    "#model_diffusion = sheaf_gradient_flow_functor(graph, graph.number_of_nodes(), dv, graph.number_of_edges(), de, layers,input_dim,output_dim, channels, left_weights, right_weights, 'radial', mask, False,True,True,True, dropout,input_dropout,free_potential,first_hidden,second_hidden,learning_rate, weight_decay)\n",
    "\n",
    "#STACK ENERGY, NO ACTIVATION\n",
    "#model_diffusion = sheaf_gradient_flow_functor(graph, graph.number_of_nodes(), dv, graph.number_of_edges(), de, layers,input_dim,output_dim, channels, left_weights, right_weights, 'radial', mask, False,True,True,True, dropout,input_dropout,free_potential,first_hidden,second_hidden,NVertEnergy, NEdgeEnergy, learning_rate, weight_decay)\n",
    "\n",
    "#STACK ENERGY, YES ACTIVATION\n",
    "#model_diffusion = sheaf_gradient_flow_functor(graph, graph.number_of_nodes(), dv, graph.number_of_edges(), de, layers,input_dim,output_dim, channels, left_weights, right_weights, 'radial', mask, True,True,True,True, dropout,input_dropout,free_potential,first_hidden,second_hidden,NVertEnergy, NEdgeEnergy, learning_rate, weight_decay)"
   ]
  },
  {
   "cell_type": "code",
   "execution_count": 35,
   "id": "e8dd2b1e-d4f2-414c-878e-d9aec3e20af8",
   "metadata": {},
   "outputs": [],
   "source": [
    "#model_diffusion"
   ]
  },
  {
   "cell_type": "code",
   "execution_count": 36,
   "id": "32a01b61-7baa-48df-8c52-e6504878886f",
   "metadata": {},
   "outputs": [],
   "source": [
    "#import wandb\n",
    "#wandb.finish()"
   ]
  },
  {
   "cell_type": "code",
   "execution_count": 37,
   "id": "ff56d7dd-26f9-464e-a7a5-b965fff43932",
   "metadata": {},
   "outputs": [
    {
     "name": "stderr",
     "output_type": "stream",
     "text": [
      "\u001b[34m\u001b[1mwandb\u001b[0m: Currently logged in as: \u001b[33msaepark\u001b[0m. Use \u001b[1m`wandb login --relogin`\u001b[0m to force relogin\n"
     ]
    },
    {
     "data": {
      "text/html": [
       "wandb version 0.13.8 is available!  To upgrade, please run:\n",
       " $ pip install wandb --upgrade"
      ],
      "text/plain": [
       "<IPython.core.display.HTML object>"
      ]
     },
     "metadata": {},
     "output_type": "display_data"
    },
    {
     "data": {
      "text/html": [
       "Tracking run with wandb version 0.13.5"
      ],
      "text/plain": [
       "<IPython.core.display.HTML object>"
      ]
     },
     "metadata": {},
     "output_type": "display_data"
    },
    {
     "data": {
      "text/html": [
       "Run data is saved locally in <code>./wandb/run-20230112_130346-yugb4juj</code>"
      ],
      "text/plain": [
       "<IPython.core.display.HTML object>"
      ]
     },
     "metadata": {},
     "output_type": "display_data"
    },
    {
     "data": {
      "text/html": [
       "Syncing run <strong><a href=\"https://wandb.ai/saepark/functor_accelerate_chameleon_0/runs/yugb4juj\" target=\"_blank\">iconic-frost-1</a></strong> to <a href=\"https://wandb.ai/saepark/functor_accelerate_chameleon_0\" target=\"_blank\">Weights & Biases</a> (<a href=\"https://wandb.me/run\" target=\"_blank\">docs</a>)<br/>"
      ],
      "text/plain": [
       "<IPython.core.display.HTML object>"
      ]
     },
     "metadata": {},
     "output_type": "display_data"
    }
   ],
   "source": [
    "#wandb_logger_diffusion = WandbLogger(project=\"functor_final_squirrel_0\")\n",
    "wandb_logger_diffusion = WandbLogger(project=\"functor_accelerate_chameleon_0\")"
   ]
  },
  {
   "cell_type": "code",
   "execution_count": 38,
   "id": "246b78f4-ce11-468b-b7b7-d35d4908902d",
   "metadata": {},
   "outputs": [],
   "source": [
    "early_stop_callback = EarlyStopping(monitor=\"val_loss\", min_delta=0.000, patience=200, verbose=False)\n",
    "checkpoint_callback = ModelCheckpoint(\n",
    "    monitor=\"val_loss\",\n",
    "    dirpath=\"/root/projects/temp_checkpoints/chameleon_0/edge_accelerate\",\n",
    "    filename=\"memory-functoredge-vertex-edge-Jan02-{epoch:02d}-{val_loss:.4f}-{val_acc:.4f}\",\n",
    "    save_top_k=20,\n",
    "    mode=\"min\",\n",
    ")\n",
    "class PrintCallbacks(Callback):\n",
    "    def on_init_start(self, trainer):\n",
    "        print(\"Starting to init trainer!\")\n",
    "\n",
    "    def on_init_end(self, trainer):\n",
    "        print(\"Trainer is init now\")\n",
    "\n",
    "    def on_train_end(self, trainer, pl_module):\n",
    "        print(\"Training ended\")\n"
   ]
  },
  {
   "cell_type": "code",
   "execution_count": 39,
   "id": "b35ebe72-a47c-493d-9fe7-1d8ac44e2fdc",
   "metadata": {},
   "outputs": [],
   "source": [
    "sheaf_dm = SheafDataModule_ForGraphs(data, 1 , 1)"
   ]
  },
  {
   "cell_type": "code",
   "execution_count": 40,
   "id": "dffb774d-e239-4792-ae07-07ad0c326427",
   "metadata": {},
   "outputs": [
    {
     "name": "stdout",
     "output_type": "stream",
     "text": [
      "Starting to init trainer!\n"
     ]
    },
    {
     "name": "stderr",
     "output_type": "stream",
     "text": [
      "GPU available: True (cuda), used: True\n",
      "TPU available: False, using: 0 TPU cores\n",
      "IPU available: False, using: 0 IPUs\n",
      "HPU available: False, using: 0 HPUs\n"
     ]
    },
    {
     "name": "stdout",
     "output_type": "stream",
     "text": [
      "Trainer is init now\n"
     ]
    }
   ],
   "source": [
    "trainer = Trainer(accelerator='gpu',devices=[0],callbacks=[TQDMProgressBar(refresh_rate=10),PrintCallbacks(),early_stop_callback,checkpoint_callback],logger=wandb_logger_diffusion,auto_lr_find=True)"
   ]
  },
  {
   "cell_type": "markdown",
   "id": "5ba0ac01-a92c-4740-adad-fac5be8d87b6",
   "metadata": {},
   "source": [
    "lr_finder = trainer.tuner.lr_find(model_diffusion, sheaf_dm)"
   ]
  },
  {
   "cell_type": "markdown",
   "id": "7e9c21f1-5567-4503-9f1b-c104c0ef90d6",
   "metadata": {},
   "source": [
    "## model_diffusion"
   ]
  },
  {
   "cell_type": "markdown",
   "id": "b39f1145-3537-4937-a801-f5567c80be2e",
   "metadata": {},
   "source": [
    "fig = lr_finder.plot(suggest=True)\n",
    "fig.show()"
   ]
  },
  {
   "cell_type": "code",
   "execution_count": 41,
   "id": "11bc3e0e-c0bb-4025-a0b3-40749cda9c91",
   "metadata": {},
   "outputs": [],
   "source": [
    "#new_lr = lr_finder.suggestion()\n",
    "#model_diffusion.hparams.learning_rate = 5e-3\n",
    "#model_diffusion.learning_rate = 5e-3\n",
    "#model_diffusion.hparams.learning_rate = new_lr\n",
    "#model_diffusion.learning_rate = new_lr\n",
    "#print(new_lr)"
   ]
  },
  {
   "cell_type": "code",
   "execution_count": null,
   "id": "972548d4-534a-4a65-80b6-20a8ea65794a",
   "metadata": {},
   "outputs": [
    {
     "name": "stderr",
     "output_type": "stream",
     "text": [
      "/root/miniconda3/envs/sheaflearn/lib/python3.10/site-packages/pytorch_lightning/loops/utilities.py:89: PossibleUserWarning: `max_epochs` was not set. Setting it to 1000 epochs. To train without an epoch limit, set `max_epochs=-1`.\n",
      "  rank_zero_warn(\n",
      "/root/miniconda3/envs/sheaflearn/lib/python3.10/site-packages/pytorch_lightning/trainer/configuration_validator.py:229: LightningDeprecationWarning: The `on_init_start` callback hook was deprecated in v1.6 and will be removed in v1.8.\n",
      "  rank_zero_deprecation(\n",
      "/root/miniconda3/envs/sheaflearn/lib/python3.10/site-packages/pytorch_lightning/trainer/configuration_validator.py:233: LightningDeprecationWarning: The `on_init_end` callback hook was deprecated in v1.6 and will be removed in v1.8.\n",
      "  rank_zero_deprecation(\"The `on_init_end` callback hook was deprecated in v1.6 and will be removed in v1.8.\")\n",
      "LOCAL_RANK: 0 - CUDA_VISIBLE_DEVICES: [0,1,2,3,4,5,6,7]\n",
      "\n",
      "   | Name                                | Type          | Params\n",
      "-----------------------------------------------------------------------\n",
      "0  | graph_to_sheaf                      | Linear        | 4.7 M \n",
      "1  | graph_to_sheaf2                     | Linear        | 200 K \n",
      "2  | graph_to_sheaf3                     | Linear        | 19.7 K\n",
      "3  | self_energy_channel_mixing          | Linear        | 64    \n",
      "4  | adjacent_node_energy_channel_mixing | Linear        | 64    \n",
      "5  | adjacent_node_energy_stalk_mixing   | Linear        | 25    \n",
      "6  | edge_lin_left_weights               | ModuleList    | 75    \n",
      "7  | edge_lin_right_weights              | ModuleList    | 192   \n",
      "8  | vertex_lin_left_weights             | ModuleList    | 0     \n",
      "9  | vertex_lin_right_weights            | ModuleList    | 0     \n",
      "10 | potential                           | ParameterList | 62.7 K\n",
      "11 | vertex_potential                    | ParameterList | 0     \n",
      "12 | epsilons                            | ParameterList | 15    \n",
      "13 | relative_contribution_of_energies   | ParameterList | 12    \n",
      "14 | out_layer1                          | Linear        | 3.3 K \n",
      "15 | out_layer2                          | Linear        | 6.5 K \n",
      "16 | out_final                           | Linear        | 405   \n",
      "-----------------------------------------------------------------------\n",
      "4.9 M     Trainable params\n",
      "0         Non-trainable params\n",
      "4.9 M     Total params\n",
      "19.777    Total estimated model params size (MB)\n"
     ]
    },
    {
     "data": {
      "application/vnd.jupyter.widget-view+json": {
       "model_id": "",
       "version_major": 2,
       "version_minor": 0
      },
      "text/plain": [
       "Sanity Checking: 0it [00:00, ?it/s]"
      ]
     },
     "metadata": {},
     "output_type": "display_data"
    },
    {
     "name": "stderr",
     "output_type": "stream",
     "text": [
      "/root/miniconda3/envs/sheaflearn/lib/python3.10/site-packages/pytorch_lightning/trainer/trainer.py:1892: PossibleUserWarning: The number of training batches (1) is smaller than the logging interval Trainer(log_every_n_steps=50). Set a lower value for log_every_n_steps if you want to see logs for the training epoch.\n",
      "  rank_zero_warn(\n"
     ]
    },
    {
     "data": {
      "application/vnd.jupyter.widget-view+json": {
       "model_id": "720fae73f0414714bfc24c92fe880949",
       "version_major": 2,
       "version_minor": 0
      },
      "text/plain": [
       "Training: 0it [00:00, ?it/s]"
      ]
     },
     "metadata": {},
     "output_type": "display_data"
    },
    {
     "data": {
      "application/vnd.jupyter.widget-view+json": {
       "model_id": "",
       "version_major": 2,
       "version_minor": 0
      },
      "text/plain": [
       "Validation: 0it [00:00, ?it/s]"
      ]
     },
     "metadata": {},
     "output_type": "display_data"
    },
    {
     "data": {
      "application/vnd.jupyter.widget-view+json": {
       "model_id": "",
       "version_major": 2,
       "version_minor": 0
      },
      "text/plain": [
       "Validation: 0it [00:00, ?it/s]"
      ]
     },
     "metadata": {},
     "output_type": "display_data"
    },
    {
     "data": {
      "application/vnd.jupyter.widget-view+json": {
       "model_id": "",
       "version_major": 2,
       "version_minor": 0
      },
      "text/plain": [
       "Validation: 0it [00:00, ?it/s]"
      ]
     },
     "metadata": {},
     "output_type": "display_data"
    },
    {
     "data": {
      "application/vnd.jupyter.widget-view+json": {
       "model_id": "",
       "version_major": 2,
       "version_minor": 0
      },
      "text/plain": [
       "Validation: 0it [00:00, ?it/s]"
      ]
     },
     "metadata": {},
     "output_type": "display_data"
    },
    {
     "data": {
      "application/vnd.jupyter.widget-view+json": {
       "model_id": "",
       "version_major": 2,
       "version_minor": 0
      },
      "text/plain": [
       "Validation: 0it [00:00, ?it/s]"
      ]
     },
     "metadata": {},
     "output_type": "display_data"
    },
    {
     "data": {
      "application/vnd.jupyter.widget-view+json": {
       "model_id": "",
       "version_major": 2,
       "version_minor": 0
      },
      "text/plain": [
       "Validation: 0it [00:00, ?it/s]"
      ]
     },
     "metadata": {},
     "output_type": "display_data"
    },
    {
     "data": {
      "application/vnd.jupyter.widget-view+json": {
       "model_id": "",
       "version_major": 2,
       "version_minor": 0
      },
      "text/plain": [
       "Validation: 0it [00:00, ?it/s]"
      ]
     },
     "metadata": {},
     "output_type": "display_data"
    },
    {
     "data": {
      "application/vnd.jupyter.widget-view+json": {
       "model_id": "",
       "version_major": 2,
       "version_minor": 0
      },
      "text/plain": [
       "Validation: 0it [00:00, ?it/s]"
      ]
     },
     "metadata": {},
     "output_type": "display_data"
    },
    {
     "data": {
      "application/vnd.jupyter.widget-view+json": {
       "model_id": "",
       "version_major": 2,
       "version_minor": 0
      },
      "text/plain": [
       "Validation: 0it [00:00, ?it/s]"
      ]
     },
     "metadata": {},
     "output_type": "display_data"
    },
    {
     "data": {
      "application/vnd.jupyter.widget-view+json": {
       "model_id": "",
       "version_major": 2,
       "version_minor": 0
      },
      "text/plain": [
       "Validation: 0it [00:00, ?it/s]"
      ]
     },
     "metadata": {},
     "output_type": "display_data"
    },
    {
     "data": {
      "application/vnd.jupyter.widget-view+json": {
       "model_id": "",
       "version_major": 2,
       "version_minor": 0
      },
      "text/plain": [
       "Validation: 0it [00:00, ?it/s]"
      ]
     },
     "metadata": {},
     "output_type": "display_data"
    },
    {
     "data": {
      "application/vnd.jupyter.widget-view+json": {
       "model_id": "",
       "version_major": 2,
       "version_minor": 0
      },
      "text/plain": [
       "Validation: 0it [00:00, ?it/s]"
      ]
     },
     "metadata": {},
     "output_type": "display_data"
    },
    {
     "data": {
      "application/vnd.jupyter.widget-view+json": {
       "model_id": "",
       "version_major": 2,
       "version_minor": 0
      },
      "text/plain": [
       "Validation: 0it [00:00, ?it/s]"
      ]
     },
     "metadata": {},
     "output_type": "display_data"
    },
    {
     "data": {
      "application/vnd.jupyter.widget-view+json": {
       "model_id": "",
       "version_major": 2,
       "version_minor": 0
      },
      "text/plain": [
       "Validation: 0it [00:00, ?it/s]"
      ]
     },
     "metadata": {},
     "output_type": "display_data"
    },
    {
     "data": {
      "application/vnd.jupyter.widget-view+json": {
       "model_id": "",
       "version_major": 2,
       "version_minor": 0
      },
      "text/plain": [
       "Validation: 0it [00:00, ?it/s]"
      ]
     },
     "metadata": {},
     "output_type": "display_data"
    },
    {
     "data": {
      "application/vnd.jupyter.widget-view+json": {
       "model_id": "",
       "version_major": 2,
       "version_minor": 0
      },
      "text/plain": [
       "Validation: 0it [00:00, ?it/s]"
      ]
     },
     "metadata": {},
     "output_type": "display_data"
    },
    {
     "data": {
      "application/vnd.jupyter.widget-view+json": {
       "model_id": "",
       "version_major": 2,
       "version_minor": 0
      },
      "text/plain": [
       "Validation: 0it [00:00, ?it/s]"
      ]
     },
     "metadata": {},
     "output_type": "display_data"
    },
    {
     "data": {
      "application/vnd.jupyter.widget-view+json": {
       "model_id": "",
       "version_major": 2,
       "version_minor": 0
      },
      "text/plain": [
       "Validation: 0it [00:00, ?it/s]"
      ]
     },
     "metadata": {},
     "output_type": "display_data"
    },
    {
     "data": {
      "application/vnd.jupyter.widget-view+json": {
       "model_id": "",
       "version_major": 2,
       "version_minor": 0
      },
      "text/plain": [
       "Validation: 0it [00:00, ?it/s]"
      ]
     },
     "metadata": {},
     "output_type": "display_data"
    },
    {
     "data": {
      "application/vnd.jupyter.widget-view+json": {
       "model_id": "",
       "version_major": 2,
       "version_minor": 0
      },
      "text/plain": [
       "Validation: 0it [00:00, ?it/s]"
      ]
     },
     "metadata": {},
     "output_type": "display_data"
    },
    {
     "data": {
      "application/vnd.jupyter.widget-view+json": {
       "model_id": "",
       "version_major": 2,
       "version_minor": 0
      },
      "text/plain": [
       "Validation: 0it [00:00, ?it/s]"
      ]
     },
     "metadata": {},
     "output_type": "display_data"
    },
    {
     "data": {
      "application/vnd.jupyter.widget-view+json": {
       "model_id": "",
       "version_major": 2,
       "version_minor": 0
      },
      "text/plain": [
       "Validation: 0it [00:00, ?it/s]"
      ]
     },
     "metadata": {},
     "output_type": "display_data"
    },
    {
     "data": {
      "application/vnd.jupyter.widget-view+json": {
       "model_id": "",
       "version_major": 2,
       "version_minor": 0
      },
      "text/plain": [
       "Validation: 0it [00:00, ?it/s]"
      ]
     },
     "metadata": {},
     "output_type": "display_data"
    },
    {
     "data": {
      "application/vnd.jupyter.widget-view+json": {
       "model_id": "",
       "version_major": 2,
       "version_minor": 0
      },
      "text/plain": [
       "Validation: 0it [00:00, ?it/s]"
      ]
     },
     "metadata": {},
     "output_type": "display_data"
    },
    {
     "data": {
      "application/vnd.jupyter.widget-view+json": {
       "model_id": "",
       "version_major": 2,
       "version_minor": 0
      },
      "text/plain": [
       "Validation: 0it [00:00, ?it/s]"
      ]
     },
     "metadata": {},
     "output_type": "display_data"
    },
    {
     "data": {
      "application/vnd.jupyter.widget-view+json": {
       "model_id": "",
       "version_major": 2,
       "version_minor": 0
      },
      "text/plain": [
       "Validation: 0it [00:00, ?it/s]"
      ]
     },
     "metadata": {},
     "output_type": "display_data"
    },
    {
     "data": {
      "application/vnd.jupyter.widget-view+json": {
       "model_id": "",
       "version_major": 2,
       "version_minor": 0
      },
      "text/plain": [
       "Validation: 0it [00:00, ?it/s]"
      ]
     },
     "metadata": {},
     "output_type": "display_data"
    },
    {
     "data": {
      "application/vnd.jupyter.widget-view+json": {
       "model_id": "",
       "version_major": 2,
       "version_minor": 0
      },
      "text/plain": [
       "Validation: 0it [00:00, ?it/s]"
      ]
     },
     "metadata": {},
     "output_type": "display_data"
    },
    {
     "data": {
      "application/vnd.jupyter.widget-view+json": {
       "model_id": "",
       "version_major": 2,
       "version_minor": 0
      },
      "text/plain": [
       "Validation: 0it [00:00, ?it/s]"
      ]
     },
     "metadata": {},
     "output_type": "display_data"
    },
    {
     "data": {
      "application/vnd.jupyter.widget-view+json": {
       "model_id": "",
       "version_major": 2,
       "version_minor": 0
      },
      "text/plain": [
       "Validation: 0it [00:00, ?it/s]"
      ]
     },
     "metadata": {},
     "output_type": "display_data"
    },
    {
     "data": {
      "application/vnd.jupyter.widget-view+json": {
       "model_id": "",
       "version_major": 2,
       "version_minor": 0
      },
      "text/plain": [
       "Validation: 0it [00:00, ?it/s]"
      ]
     },
     "metadata": {},
     "output_type": "display_data"
    },
    {
     "data": {
      "application/vnd.jupyter.widget-view+json": {
       "model_id": "",
       "version_major": 2,
       "version_minor": 0
      },
      "text/plain": [
       "Validation: 0it [00:00, ?it/s]"
      ]
     },
     "metadata": {},
     "output_type": "display_data"
    },
    {
     "data": {
      "application/vnd.jupyter.widget-view+json": {
       "model_id": "",
       "version_major": 2,
       "version_minor": 0
      },
      "text/plain": [
       "Validation: 0it [00:00, ?it/s]"
      ]
     },
     "metadata": {},
     "output_type": "display_data"
    },
    {
     "data": {
      "application/vnd.jupyter.widget-view+json": {
       "model_id": "",
       "version_major": 2,
       "version_minor": 0
      },
      "text/plain": [
       "Validation: 0it [00:00, ?it/s]"
      ]
     },
     "metadata": {},
     "output_type": "display_data"
    },
    {
     "data": {
      "application/vnd.jupyter.widget-view+json": {
       "model_id": "",
       "version_major": 2,
       "version_minor": 0
      },
      "text/plain": [
       "Validation: 0it [00:00, ?it/s]"
      ]
     },
     "metadata": {},
     "output_type": "display_data"
    },
    {
     "data": {
      "application/vnd.jupyter.widget-view+json": {
       "model_id": "",
       "version_major": 2,
       "version_minor": 0
      },
      "text/plain": [
       "Validation: 0it [00:00, ?it/s]"
      ]
     },
     "metadata": {},
     "output_type": "display_data"
    },
    {
     "data": {
      "application/vnd.jupyter.widget-view+json": {
       "model_id": "",
       "version_major": 2,
       "version_minor": 0
      },
      "text/plain": [
       "Validation: 0it [00:00, ?it/s]"
      ]
     },
     "metadata": {},
     "output_type": "display_data"
    },
    {
     "data": {
      "application/vnd.jupyter.widget-view+json": {
       "model_id": "",
       "version_major": 2,
       "version_minor": 0
      },
      "text/plain": [
       "Validation: 0it [00:00, ?it/s]"
      ]
     },
     "metadata": {},
     "output_type": "display_data"
    },
    {
     "data": {
      "application/vnd.jupyter.widget-view+json": {
       "model_id": "",
       "version_major": 2,
       "version_minor": 0
      },
      "text/plain": [
       "Validation: 0it [00:00, ?it/s]"
      ]
     },
     "metadata": {},
     "output_type": "display_data"
    },
    {
     "data": {
      "application/vnd.jupyter.widget-view+json": {
       "model_id": "",
       "version_major": 2,
       "version_minor": 0
      },
      "text/plain": [
       "Validation: 0it [00:00, ?it/s]"
      ]
     },
     "metadata": {},
     "output_type": "display_data"
    },
    {
     "data": {
      "application/vnd.jupyter.widget-view+json": {
       "model_id": "",
       "version_major": 2,
       "version_minor": 0
      },
      "text/plain": [
       "Validation: 0it [00:00, ?it/s]"
      ]
     },
     "metadata": {},
     "output_type": "display_data"
    },
    {
     "data": {
      "application/vnd.jupyter.widget-view+json": {
       "model_id": "",
       "version_major": 2,
       "version_minor": 0
      },
      "text/plain": [
       "Validation: 0it [00:00, ?it/s]"
      ]
     },
     "metadata": {},
     "output_type": "display_data"
    },
    {
     "data": {
      "application/vnd.jupyter.widget-view+json": {
       "model_id": "",
       "version_major": 2,
       "version_minor": 0
      },
      "text/plain": [
       "Validation: 0it [00:00, ?it/s]"
      ]
     },
     "metadata": {},
     "output_type": "display_data"
    },
    {
     "data": {
      "application/vnd.jupyter.widget-view+json": {
       "model_id": "",
       "version_major": 2,
       "version_minor": 0
      },
      "text/plain": [
       "Validation: 0it [00:00, ?it/s]"
      ]
     },
     "metadata": {},
     "output_type": "display_data"
    },
    {
     "data": {
      "application/vnd.jupyter.widget-view+json": {
       "model_id": "",
       "version_major": 2,
       "version_minor": 0
      },
      "text/plain": [
       "Validation: 0it [00:00, ?it/s]"
      ]
     },
     "metadata": {},
     "output_type": "display_data"
    },
    {
     "data": {
      "application/vnd.jupyter.widget-view+json": {
       "model_id": "",
       "version_major": 2,
       "version_minor": 0
      },
      "text/plain": [
       "Validation: 0it [00:00, ?it/s]"
      ]
     },
     "metadata": {},
     "output_type": "display_data"
    },
    {
     "data": {
      "application/vnd.jupyter.widget-view+json": {
       "model_id": "e51a466a89884027ab5fbd3c755ae41a",
       "version_major": 2,
       "version_minor": 0
      },
      "text/plain": [
       "Validation: 0it [00:00, ?it/s]"
      ]
     },
     "metadata": {},
     "output_type": "display_data"
    },
    {
     "data": {
      "application/vnd.jupyter.widget-view+json": {
       "model_id": "6cfa244c386b4b86929b9ce3ac918fdb",
       "version_major": 2,
       "version_minor": 0
      },
      "text/plain": [
       "Validation: 0it [00:00, ?it/s]"
      ]
     },
     "metadata": {},
     "output_type": "display_data"
    },
    {
     "data": {
      "application/vnd.jupyter.widget-view+json": {
       "model_id": "75fded7994ab4be7b9162c99ff0a5cf4",
       "version_major": 2,
       "version_minor": 0
      },
      "text/plain": [
       "Validation: 0it [00:00, ?it/s]"
      ]
     },
     "metadata": {},
     "output_type": "display_data"
    },
    {
     "data": {
      "application/vnd.jupyter.widget-view+json": {
       "model_id": "e0ca4cea0be14c37a5a95a732c05add4",
       "version_major": 2,
       "version_minor": 0
      },
      "text/plain": [
       "Validation: 0it [00:00, ?it/s]"
      ]
     },
     "metadata": {},
     "output_type": "display_data"
    },
    {
     "data": {
      "application/vnd.jupyter.widget-view+json": {
       "model_id": "e9ece708be494b3794ed9b9a1c1920ee",
       "version_major": 2,
       "version_minor": 0
      },
      "text/plain": [
       "Validation: 0it [00:00, ?it/s]"
      ]
     },
     "metadata": {},
     "output_type": "display_data"
    },
    {
     "data": {
      "application/vnd.jupyter.widget-view+json": {
       "model_id": "c967a72895064092b3dd771c176fbf95",
       "version_major": 2,
       "version_minor": 0
      },
      "text/plain": [
       "Validation: 0it [00:00, ?it/s]"
      ]
     },
     "metadata": {},
     "output_type": "display_data"
    },
    {
     "data": {
      "application/vnd.jupyter.widget-view+json": {
       "model_id": "d18f3cb9e1a54a33a74b8941886b2020",
       "version_major": 2,
       "version_minor": 0
      },
      "text/plain": [
       "Validation: 0it [00:00, ?it/s]"
      ]
     },
     "metadata": {},
     "output_type": "display_data"
    },
    {
     "data": {
      "application/vnd.jupyter.widget-view+json": {
       "model_id": "a18a25f2581543ca83203f25612579ca",
       "version_major": 2,
       "version_minor": 0
      },
      "text/plain": [
       "Validation: 0it [00:00, ?it/s]"
      ]
     },
     "metadata": {},
     "output_type": "display_data"
    },
    {
     "data": {
      "application/vnd.jupyter.widget-view+json": {
       "model_id": "0315c0c3efea48929935ea379658549b",
       "version_major": 2,
       "version_minor": 0
      },
      "text/plain": [
       "Validation: 0it [00:00, ?it/s]"
      ]
     },
     "metadata": {},
     "output_type": "display_data"
    },
    {
     "data": {
      "application/vnd.jupyter.widget-view+json": {
       "model_id": "cf45cf76658842fdbf4c075b43b360c5",
       "version_major": 2,
       "version_minor": 0
      },
      "text/plain": [
       "Validation: 0it [00:00, ?it/s]"
      ]
     },
     "metadata": {},
     "output_type": "display_data"
    },
    {
     "data": {
      "application/vnd.jupyter.widget-view+json": {
       "model_id": "0a9ee21fa6b54f15a7b8f19d05d11706",
       "version_major": 2,
       "version_minor": 0
      },
      "text/plain": [
       "Validation: 0it [00:00, ?it/s]"
      ]
     },
     "metadata": {},
     "output_type": "display_data"
    },
    {
     "data": {
      "application/vnd.jupyter.widget-view+json": {
       "model_id": "4c043b12a2574460adfbcf348456fb32",
       "version_major": 2,
       "version_minor": 0
      },
      "text/plain": [
       "Validation: 0it [00:00, ?it/s]"
      ]
     },
     "metadata": {},
     "output_type": "display_data"
    },
    {
     "data": {
      "application/vnd.jupyter.widget-view+json": {
       "model_id": "dee82a4bb231403cb01c82a35776d363",
       "version_major": 2,
       "version_minor": 0
      },
      "text/plain": [
       "Validation: 0it [00:00, ?it/s]"
      ]
     },
     "metadata": {},
     "output_type": "display_data"
    },
    {
     "data": {
      "application/vnd.jupyter.widget-view+json": {
       "model_id": "87b2cfa74c5944ddbfa92997c37acb88",
       "version_major": 2,
       "version_minor": 0
      },
      "text/plain": [
       "Validation: 0it [00:00, ?it/s]"
      ]
     },
     "metadata": {},
     "output_type": "display_data"
    },
    {
     "data": {
      "application/vnd.jupyter.widget-view+json": {
       "model_id": "71f0c7356477447193b82b0f4ebffc9b",
       "version_major": 2,
       "version_minor": 0
      },
      "text/plain": [
       "Validation: 0it [00:00, ?it/s]"
      ]
     },
     "metadata": {},
     "output_type": "display_data"
    },
    {
     "data": {
      "application/vnd.jupyter.widget-view+json": {
       "model_id": "38d3504f9a544e4185f2c48fa5922622",
       "version_major": 2,
       "version_minor": 0
      },
      "text/plain": [
       "Validation: 0it [00:00, ?it/s]"
      ]
     },
     "metadata": {},
     "output_type": "display_data"
    },
    {
     "data": {
      "application/vnd.jupyter.widget-view+json": {
       "model_id": "2fd6ebd5bda0453b92948df9c22ce979",
       "version_major": 2,
       "version_minor": 0
      },
      "text/plain": [
       "Validation: 0it [00:00, ?it/s]"
      ]
     },
     "metadata": {},
     "output_type": "display_data"
    },
    {
     "data": {
      "application/vnd.jupyter.widget-view+json": {
       "model_id": "b20d02208ed6443b9b20905f0ce8df7f",
       "version_major": 2,
       "version_minor": 0
      },
      "text/plain": [
       "Validation: 0it [00:00, ?it/s]"
      ]
     },
     "metadata": {},
     "output_type": "display_data"
    },
    {
     "data": {
      "application/vnd.jupyter.widget-view+json": {
       "model_id": "fc6b255e5e2b433ca60a3c68a1f1404d",
       "version_major": 2,
       "version_minor": 0
      },
      "text/plain": [
       "Validation: 0it [00:00, ?it/s]"
      ]
     },
     "metadata": {},
     "output_type": "display_data"
    },
    {
     "data": {
      "application/vnd.jupyter.widget-view+json": {
       "model_id": "bd654e60f5c3463e87c6d526e191be72",
       "version_major": 2,
       "version_minor": 0
      },
      "text/plain": [
       "Validation: 0it [00:00, ?it/s]"
      ]
     },
     "metadata": {},
     "output_type": "display_data"
    },
    {
     "data": {
      "application/vnd.jupyter.widget-view+json": {
       "model_id": "f9f84d9d04324b538b9b4865fcab0e5e",
       "version_major": 2,
       "version_minor": 0
      },
      "text/plain": [
       "Validation: 0it [00:00, ?it/s]"
      ]
     },
     "metadata": {},
     "output_type": "display_data"
    },
    {
     "data": {
      "application/vnd.jupyter.widget-view+json": {
       "model_id": "d6778a7cba52415691473d57aeba7b55",
       "version_major": 2,
       "version_minor": 0
      },
      "text/plain": [
       "Validation: 0it [00:00, ?it/s]"
      ]
     },
     "metadata": {},
     "output_type": "display_data"
    },
    {
     "data": {
      "application/vnd.jupyter.widget-view+json": {
       "model_id": "f98339166d15471e994ea1f29bd6d434",
       "version_major": 2,
       "version_minor": 0
      },
      "text/plain": [
       "Validation: 0it [00:00, ?it/s]"
      ]
     },
     "metadata": {},
     "output_type": "display_data"
    },
    {
     "data": {
      "application/vnd.jupyter.widget-view+json": {
       "model_id": "b86a73da3a7146dab4766c67f22accac",
       "version_major": 2,
       "version_minor": 0
      },
      "text/plain": [
       "Validation: 0it [00:00, ?it/s]"
      ]
     },
     "metadata": {},
     "output_type": "display_data"
    },
    {
     "data": {
      "application/vnd.jupyter.widget-view+json": {
       "model_id": "acfdf9cff839415e8fc25111d0ee3c05",
       "version_major": 2,
       "version_minor": 0
      },
      "text/plain": [
       "Validation: 0it [00:00, ?it/s]"
      ]
     },
     "metadata": {},
     "output_type": "display_data"
    },
    {
     "data": {
      "application/vnd.jupyter.widget-view+json": {
       "model_id": "63cf4f1578b543efb791247d72abd6c6",
       "version_major": 2,
       "version_minor": 0
      },
      "text/plain": [
       "Validation: 0it [00:00, ?it/s]"
      ]
     },
     "metadata": {},
     "output_type": "display_data"
    },
    {
     "data": {
      "application/vnd.jupyter.widget-view+json": {
       "model_id": "e6e5b0c4030f4cd9b87f98f6d2f5e505",
       "version_major": 2,
       "version_minor": 0
      },
      "text/plain": [
       "Validation: 0it [00:00, ?it/s]"
      ]
     },
     "metadata": {},
     "output_type": "display_data"
    },
    {
     "data": {
      "application/vnd.jupyter.widget-view+json": {
       "model_id": "ec29d18f80a94adb9cec4f08d91f7795",
       "version_major": 2,
       "version_minor": 0
      },
      "text/plain": [
       "Validation: 0it [00:00, ?it/s]"
      ]
     },
     "metadata": {},
     "output_type": "display_data"
    },
    {
     "data": {
      "application/vnd.jupyter.widget-view+json": {
       "model_id": "60f4ef7f74dc437d8bcdfc4336e2dbaf",
       "version_major": 2,
       "version_minor": 0
      },
      "text/plain": [
       "Validation: 0it [00:00, ?it/s]"
      ]
     },
     "metadata": {},
     "output_type": "display_data"
    },
    {
     "data": {
      "application/vnd.jupyter.widget-view+json": {
       "model_id": "b9bd1003af224e2295b430d609b3561e",
       "version_major": 2,
       "version_minor": 0
      },
      "text/plain": [
       "Validation: 0it [00:00, ?it/s]"
      ]
     },
     "metadata": {},
     "output_type": "display_data"
    },
    {
     "data": {
      "application/vnd.jupyter.widget-view+json": {
       "model_id": "d38e21522d994d519115fdb7ea536388",
       "version_major": 2,
       "version_minor": 0
      },
      "text/plain": [
       "Validation: 0it [00:00, ?it/s]"
      ]
     },
     "metadata": {},
     "output_type": "display_data"
    },
    {
     "data": {
      "application/vnd.jupyter.widget-view+json": {
       "model_id": "8ce7c3febc8b4537b3707369762b31ea",
       "version_major": 2,
       "version_minor": 0
      },
      "text/plain": [
       "Validation: 0it [00:00, ?it/s]"
      ]
     },
     "metadata": {},
     "output_type": "display_data"
    },
    {
     "data": {
      "application/vnd.jupyter.widget-view+json": {
       "model_id": "6ab2be2f6b37481b8d6a868bec44c6a6",
       "version_major": 2,
       "version_minor": 0
      },
      "text/plain": [
       "Validation: 0it [00:00, ?it/s]"
      ]
     },
     "metadata": {},
     "output_type": "display_data"
    },
    {
     "data": {
      "application/vnd.jupyter.widget-view+json": {
       "model_id": "7a93a5b23b984b4e80fb57cd1a9355f2",
       "version_major": 2,
       "version_minor": 0
      },
      "text/plain": [
       "Validation: 0it [00:00, ?it/s]"
      ]
     },
     "metadata": {},
     "output_type": "display_data"
    },
    {
     "data": {
      "application/vnd.jupyter.widget-view+json": {
       "model_id": "9aca08de4ce14a41992fe0cf9fbe5d91",
       "version_major": 2,
       "version_minor": 0
      },
      "text/plain": [
       "Validation: 0it [00:00, ?it/s]"
      ]
     },
     "metadata": {},
     "output_type": "display_data"
    },
    {
     "data": {
      "application/vnd.jupyter.widget-view+json": {
       "model_id": "bc5e79fee4dc4318ae5a61478c938540",
       "version_major": 2,
       "version_minor": 0
      },
      "text/plain": [
       "Validation: 0it [00:00, ?it/s]"
      ]
     },
     "metadata": {},
     "output_type": "display_data"
    },
    {
     "data": {
      "application/vnd.jupyter.widget-view+json": {
       "model_id": "7820a0c234714cea964cd675bf9a087d",
       "version_major": 2,
       "version_minor": 0
      },
      "text/plain": [
       "Validation: 0it [00:00, ?it/s]"
      ]
     },
     "metadata": {},
     "output_type": "display_data"
    },
    {
     "data": {
      "application/vnd.jupyter.widget-view+json": {
       "model_id": "fdffc27e801a4ee29506fd98d57cf7e3",
       "version_major": 2,
       "version_minor": 0
      },
      "text/plain": [
       "Validation: 0it [00:00, ?it/s]"
      ]
     },
     "metadata": {},
     "output_type": "display_data"
    }
   ],
   "source": [
    "trainer.fit(model_diffusion, sheaf_dm)"
   ]
  },
  {
   "cell_type": "code",
   "execution_count": 40,
   "id": "7f78fd26-5c90-4cbd-9124-b013c3a9f19a",
   "metadata": {},
   "outputs": [],
   "source": [
    "import wandb"
   ]
  },
  {
   "cell_type": "code",
   "execution_count": 41,
   "id": "46e677f7-1698-40f0-83c4-cd4b84029a51",
   "metadata": {},
   "outputs": [
    {
     "name": "stdout",
     "output_type": "stream",
     "text": [
      "/root/projects/temp_checkpoints/texas_2/addenergy_hunt2/memory-functoredge-vertex-edge-Jan02-epoch=39-val_loss=0.9260-val_acc=0.6780.ckpt\n"
     ]
    },
    {
     "ename": "TypeError",
     "evalue": "sheaf_gradient_flow_functor.__init__() missing 14 required positional arguments: 'from_vertex_outgoing_edges', 'from_vertex_incoming_edges', 'from_vertex_outgoing_vertex', 'from_vertex_incoming_vertex', 'degree_list', 'NVertEnergy', 'NEdgeEnergy', 'nonlinearoutput', 'add_adjacency', 'add_stalk_mixing', 'add_channel_mixing', 'apply_spectralnorm', 'apply_symmetrize', and 'vertex_potential_type'",
     "output_type": "error",
     "traceback": [
      "\u001b[0;31m---------------------------------------------------------------------------\u001b[0m",
      "\u001b[0;31mTypeError\u001b[0m                                 Traceback (most recent call last)",
      "Cell \u001b[0;32mIn [41], line 9\u001b[0m\n\u001b[1;32m      7\u001b[0m path \u001b[38;5;241m=\u001b[39m os\u001b[38;5;241m.\u001b[39mpath\u001b[38;5;241m.\u001b[39mjoin(mypath,files)\n\u001b[1;32m      8\u001b[0m \u001b[38;5;28mprint\u001b[39m(path)\n\u001b[0;32m----> 9\u001b[0m model_diffusion \u001b[38;5;241m=\u001b[39m \u001b[43msheaf_gradient_flow_functor\u001b[49m\u001b[38;5;241;43m.\u001b[39;49m\u001b[43mload_from_checkpoint\u001b[49m\u001b[43m(\u001b[49m\u001b[43mpath\u001b[49m\u001b[43m)\u001b[49m\n\u001b[1;32m     10\u001b[0m a \u001b[38;5;241m=\u001b[39m trainer\u001b[38;5;241m.\u001b[39mtest(model_diffusion, sheaf_dm)\n\u001b[1;32m     11\u001b[0m test_acc_list\u001b[38;5;241m.\u001b[39mappend(a[\u001b[38;5;241m0\u001b[39m][\u001b[38;5;124m'\u001b[39m\u001b[38;5;124mtest_acc\u001b[39m\u001b[38;5;124m'\u001b[39m])\n",
      "File \u001b[0;32m~/miniconda3/envs/sheaflearn/lib/python3.10/site-packages/pytorch_lightning/core/saving.py:137\u001b[0m, in \u001b[0;36mModelIO.load_from_checkpoint\u001b[0;34m(cls, checkpoint_path, map_location, hparams_file, strict, **kwargs)\u001b[0m\n\u001b[1;32m     57\u001b[0m \u001b[38;5;129m@classmethod\u001b[39m\n\u001b[1;32m     58\u001b[0m \u001b[38;5;28;01mdef\u001b[39;00m \u001b[38;5;21mload_from_checkpoint\u001b[39m(\n\u001b[1;32m     59\u001b[0m     \u001b[38;5;28mcls\u001b[39m,\n\u001b[0;32m   (...)\u001b[0m\n\u001b[1;32m     64\u001b[0m     \u001b[38;5;241m*\u001b[39m\u001b[38;5;241m*\u001b[39mkwargs,\n\u001b[1;32m     65\u001b[0m ):\n\u001b[1;32m     66\u001b[0m     \u001b[38;5;124mr\u001b[39m\u001b[38;5;124;03m\"\"\"\u001b[39;00m\n\u001b[1;32m     67\u001b[0m \u001b[38;5;124;03m    Primary way of loading a model from a checkpoint. When Lightning saves a checkpoint\u001b[39;00m\n\u001b[1;32m     68\u001b[0m \u001b[38;5;124;03m    it stores the arguments passed to ``__init__``  in the checkpoint under ``\"hyper_parameters\"``.\u001b[39;00m\n\u001b[0;32m   (...)\u001b[0m\n\u001b[1;32m    135\u001b[0m \u001b[38;5;124;03m        y_hat = pretrained_model(x)\u001b[39;00m\n\u001b[1;32m    136\u001b[0m \u001b[38;5;124;03m    \"\"\"\u001b[39;00m\n\u001b[0;32m--> 137\u001b[0m     \u001b[38;5;28;01mreturn\u001b[39;00m \u001b[43m_load_from_checkpoint\u001b[49m\u001b[43m(\u001b[49m\n\u001b[1;32m    138\u001b[0m \u001b[43m        \u001b[49m\u001b[38;5;28;43mcls\u001b[39;49m\u001b[43m,\u001b[49m\n\u001b[1;32m    139\u001b[0m \u001b[43m        \u001b[49m\u001b[43mcheckpoint_path\u001b[49m\u001b[43m,\u001b[49m\n\u001b[1;32m    140\u001b[0m \u001b[43m        \u001b[49m\u001b[43mmap_location\u001b[49m\u001b[43m,\u001b[49m\n\u001b[1;32m    141\u001b[0m \u001b[43m        \u001b[49m\u001b[43mhparams_file\u001b[49m\u001b[43m,\u001b[49m\n\u001b[1;32m    142\u001b[0m \u001b[43m        \u001b[49m\u001b[43mstrict\u001b[49m\u001b[43m,\u001b[49m\n\u001b[1;32m    143\u001b[0m \u001b[43m        \u001b[49m\u001b[38;5;241;43m*\u001b[39;49m\u001b[38;5;241;43m*\u001b[39;49m\u001b[43mkwargs\u001b[49m\u001b[43m,\u001b[49m\n\u001b[1;32m    144\u001b[0m \u001b[43m    \u001b[49m\u001b[43m)\u001b[49m\n",
      "File \u001b[0;32m~/miniconda3/envs/sheaflearn/lib/python3.10/site-packages/pytorch_lightning/core/saving.py:205\u001b[0m, in \u001b[0;36m_load_from_checkpoint\u001b[0;34m(cls, checkpoint_path, map_location, hparams_file, strict, **kwargs)\u001b[0m\n\u001b[1;32m    203\u001b[0m \u001b[38;5;28;01mif\u001b[39;00m \u001b[38;5;28missubclass\u001b[39m(\u001b[38;5;28mcls\u001b[39m, pl\u001b[38;5;241m.\u001b[39mLightningDataModule):\n\u001b[1;32m    204\u001b[0m     \u001b[38;5;28;01mreturn\u001b[39;00m _load_state(\u001b[38;5;28mcls\u001b[39m, checkpoint, \u001b[38;5;241m*\u001b[39m\u001b[38;5;241m*\u001b[39mkwargs)\n\u001b[0;32m--> 205\u001b[0m \u001b[38;5;28;01mreturn\u001b[39;00m \u001b[43m_load_state\u001b[49m\u001b[43m(\u001b[49m\u001b[38;5;28;43mcls\u001b[39;49m\u001b[43m,\u001b[49m\u001b[43m \u001b[49m\u001b[43mcheckpoint\u001b[49m\u001b[43m,\u001b[49m\u001b[43m \u001b[49m\u001b[43mstrict\u001b[49m\u001b[38;5;241;43m=\u001b[39;49m\u001b[43mstrict\u001b[49m\u001b[43m,\u001b[49m\u001b[43m \u001b[49m\u001b[38;5;241;43m*\u001b[39;49m\u001b[38;5;241;43m*\u001b[39;49m\u001b[43mkwargs\u001b[49m\u001b[43m)\u001b[49m\n",
      "File \u001b[0;32m~/miniconda3/envs/sheaflearn/lib/python3.10/site-packages/pytorch_lightning/core/saving.py:250\u001b[0m, in \u001b[0;36m_load_state\u001b[0;34m(cls, checkpoint, strict, **cls_kwargs_new)\u001b[0m\n\u001b[1;32m    246\u001b[0m \u001b[38;5;28;01mif\u001b[39;00m \u001b[38;5;129;01mnot\u001b[39;00m cls_spec\u001b[38;5;241m.\u001b[39mvarkw:\n\u001b[1;32m    247\u001b[0m     \u001b[38;5;66;03m# filter kwargs according to class init unless it allows any argument via kwargs\u001b[39;00m\n\u001b[1;32m    248\u001b[0m     _cls_kwargs \u001b[38;5;241m=\u001b[39m {k: v \u001b[38;5;28;01mfor\u001b[39;00m k, v \u001b[38;5;129;01min\u001b[39;00m _cls_kwargs\u001b[38;5;241m.\u001b[39mitems() \u001b[38;5;28;01mif\u001b[39;00m k \u001b[38;5;129;01min\u001b[39;00m cls_init_args_name}\n\u001b[0;32m--> 250\u001b[0m obj \u001b[38;5;241m=\u001b[39m \u001b[38;5;28;43mcls\u001b[39;49m\u001b[43m(\u001b[49m\u001b[38;5;241;43m*\u001b[39;49m\u001b[38;5;241;43m*\u001b[39;49m\u001b[43m_cls_kwargs\u001b[49m\u001b[43m)\u001b[49m\n\u001b[1;32m    252\u001b[0m \u001b[38;5;66;03m# give model a chance to load something\u001b[39;00m\n\u001b[1;32m    253\u001b[0m obj\u001b[38;5;241m.\u001b[39mon_load_checkpoint(checkpoint)\n",
      "\u001b[0;31mTypeError\u001b[0m: sheaf_gradient_flow_functor.__init__() missing 14 required positional arguments: 'from_vertex_outgoing_edges', 'from_vertex_incoming_edges', 'from_vertex_outgoing_vertex', 'from_vertex_incoming_vertex', 'degree_list', 'NVertEnergy', 'NEdgeEnergy', 'nonlinearoutput', 'add_adjacency', 'add_stalk_mixing', 'add_channel_mixing', 'apply_spectralnorm', 'apply_symmetrize', and 'vertex_potential_type'"
     ]
    }
   ],
   "source": [
    "from os import listdir\n",
    "from os.path import isfile, join\n",
    "mypath = f'/root/projects/temp_checkpoints/texas_2/addenergy_hunt2'\n",
    "onlyfiles = [f for f in listdir(mypath) if isfile(join(mypath, f))]\n",
    "test_acc_list = []\n",
    "for files in onlyfiles:\n",
    "    path = os.path.join(mypath,files)\n",
    "    print(path)\n",
    "    model_diffusion = sheaf_gradient_flow_functor.load_from_checkpoint(path)\n",
    "    a = trainer.test(model_diffusion, sheaf_dm)\n",
    "    test_acc_list.append(a[0]['test_acc'])\n",
    "print(max(test_acc_list))\n",
    "wandb.log({\"max_test_acc\":max(test_acc_list)})"
   ]
  },
  {
   "cell_type": "code",
   "execution_count": 30,
   "id": "aaad69be-8cf4-4c27-b2ef-e03879961fb1",
   "metadata": {},
   "outputs": [
    {
     "name": "stdout",
     "output_type": "stream",
     "text": [
      "0.6486486196517944\n"
     ]
    }
   ],
   "source": [
    "print(max(test_acc_list))\n"
   ]
  },
  {
   "cell_type": "code",
   "execution_count": null,
   "id": "c59bc057-d449-465b-8773-c264c399f54e",
   "metadata": {},
   "outputs": [],
   "source": []
  },
  {
   "cell_type": "code",
   "execution_count": null,
   "id": "6e174711-cb5f-407b-984f-7bf82321dab2",
   "metadata": {},
   "outputs": [],
   "source": []
  },
  {
   "cell_type": "code",
   "execution_count": null,
   "id": "913efaf1-a34f-4f2a-af6d-549f65e6b167",
   "metadata": {},
   "outputs": [],
   "source": []
  },
  {
   "cell_type": "code",
   "execution_count": null,
   "id": "9b2ea272-17e2-4f24-92d5-4e87405459b5",
   "metadata": {},
   "outputs": [],
   "source": [
    "torch.diag(1.+5*torch.ones(3))"
   ]
  },
  {
   "cell_type": "code",
   "execution_count": 19,
   "id": "44fb5533-8bbd-4604-971c-fa66e79da456",
   "metadata": {},
   "outputs": [],
   "source": [
    "import torch\n",
    "from torch_sparse import coalesce"
   ]
  },
  {
   "cell_type": "code",
   "execution_count": 23,
   "id": "e96c320d-15d8-4ee6-8b3b-a77a06ad5fce",
   "metadata": {},
   "outputs": [],
   "source": [
    "index = torch.tensor([[1, 0, 1, 0, 2, 1],\n",
    "                      [0, 1, 1, 1, 0, 0]])\n",
    "value = torch.Tensor([1,2,3,4,5,6])\n",
    "\n",
    "index, value = coalesce(index, value, m=3, n=2)"
   ]
  },
  {
   "cell_type": "code",
   "execution_count": 24,
   "id": "4ad61eea-e82a-4174-9128-d8ea3b1c5c0e",
   "metadata": {},
   "outputs": [
    {
     "data": {
      "text/plain": [
       "tensor([[0, 1, 1, 2],\n",
       "        [1, 0, 1, 0]])"
      ]
     },
     "execution_count": 24,
     "metadata": {},
     "output_type": "execute_result"
    }
   ],
   "source": [
    "index"
   ]
  },
  {
   "cell_type": "code",
   "execution_count": 25,
   "id": "e665a99d-8a9a-4c81-ab40-c651c3768575",
   "metadata": {},
   "outputs": [
    {
     "data": {
      "text/plain": [
       "tensor([6., 7., 3., 5.])"
      ]
     },
     "execution_count": 25,
     "metadata": {},
     "output_type": "execute_result"
    }
   ],
   "source": [
    "value"
   ]
  },
  {
   "cell_type": "code",
   "execution_count": null,
   "id": "e071ddef-8b42-4b40-88d5-fe9de4c3004f",
   "metadata": {},
   "outputs": [],
   "source": []
  }
 ],
 "metadata": {
  "kernelspec": {
   "display_name": "sheaflearn",
   "language": "python",
   "name": "sheaflearn"
  },
  "language_info": {
   "codemirror_mode": {
    "name": "ipython",
    "version": 3
   },
   "file_extension": ".py",
   "mimetype": "text/x-python",
   "name": "python",
   "nbconvert_exporter": "python",
   "pygments_lexer": "ipython3",
   "version": "3.10.8"
  }
 },
 "nbformat": 4,
 "nbformat_minor": 5
}
