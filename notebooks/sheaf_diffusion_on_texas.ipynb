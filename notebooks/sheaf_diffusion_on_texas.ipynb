{
 "cells": [
  {
   "cell_type": "code",
   "execution_count": 1,
   "id": "d316883c-965c-4967-a922-c89da8c7ef6f",
   "metadata": {},
   "outputs": [],
   "source": [
    "%load_ext autoreload\n",
    "%autoreload 2"
   ]
  },
  {
   "cell_type": "code",
   "execution_count": 2,
   "id": "83eda096-1e67-44c6-a916-5c8b28148cb6",
   "metadata": {},
   "outputs": [],
   "source": [
    "import os\n",
    "\n",
    "import torch\n",
    "import torch.nn.functional as F\n",
    "from torch.utils.data import DataLoader, random_split\n",
    "import torch.nn as nn\n",
    "import torch.optim as optim\n",
    "\n",
    "from torch_geometric.utils import from_networkx, to_networkx\n",
    "\n",
    "\n",
    "import pytorch_lightning as pl\n",
    "from pytorch_lightning import LightningDataModule, LightningModule, Trainer\n",
    "from pytorch_lightning.callbacks.early_stopping import EarlyStopping\n",
    "from pytorch_lightning.callbacks import ModelCheckpoint, Callback, TQDMProgressBar\n",
    "from pytorch_lightning.loggers import WandbLogger\n",
    "\n",
    "\n",
    "\n",
    "from typing import Callable, Optional"
   ]
  },
  {
   "cell_type": "code",
   "execution_count": 3,
   "id": "aeaeb114-e6a7-43d4-bc13-7097f3e35b7f",
   "metadata": {},
   "outputs": [],
   "source": [
    "import sys\n",
    "sys.path.insert(0,'..')"
   ]
  },
  {
   "cell_type": "code",
   "execution_count": 4,
   "id": "e992f628-0d18-4d60-a710-25a95795a4dd",
   "metadata": {},
   "outputs": [],
   "source": [
    "from utils.heterophilic import get_dataset, get_fixed_splits, WebKB, Actor\n",
    "from project.sheaf_datamodule import SheafDataset_ForGraphs, SheafDataModule_ForGraphs\n",
    "from project.sheaf_learner import coboundary_learner_on_graph_signal\n",
    "from project.sheaf_diffusion import sheaf_diffusion"
   ]
  },
  {
   "cell_type": "code",
   "execution_count": 5,
   "id": "09a38f34-11d0-4eeb-bb7b-e628f2cdaa07",
   "metadata": {},
   "outputs": [],
   "source": [
    "dataset = get_dataset('texas')\n"
   ]
  },
  {
   "cell_type": "code",
   "execution_count": 6,
   "id": "b420acfc-4c0a-418b-ae05-e1e6b6f8d3e0",
   "metadata": {},
   "outputs": [
    {
     "data": {
      "text/plain": [
       "1703"
      ]
     },
     "execution_count": 6,
     "metadata": {},
     "output_type": "execute_result"
    }
   ],
   "source": [
    "dataset.num_features"
   ]
  },
  {
   "cell_type": "code",
   "execution_count": 7,
   "id": "bd394add-ba00-4208-a67c-a940f03fade4",
   "metadata": {},
   "outputs": [
    {
     "data": {
      "text/plain": [
       "5"
      ]
     },
     "execution_count": 7,
     "metadata": {},
     "output_type": "execute_result"
    }
   ],
   "source": [
    "dataset.num_classes\n"
   ]
  },
  {
   "cell_type": "code",
   "execution_count": 8,
   "id": "182aff60-56ec-4291-92e6-a6561183c1e7",
   "metadata": {},
   "outputs": [],
   "source": [
    "dataset = get_dataset('texas')\n",
    "data = dataset[0]\n",
    "data = get_fixed_splits(data, 'texas', 0)"
   ]
  },
  {
   "cell_type": "code",
   "execution_count": 9,
   "id": "6e1ba8d9-e4b9-4fc2-93ac-597ea218deec",
   "metadata": {},
   "outputs": [],
   "source": [
    "sheaf_dm = SheafDataModule_ForGraphs(data, 200, 1)"
   ]
  },
  {
   "cell_type": "code",
   "execution_count": null,
   "id": "f2d886de-c11a-44cb-9657-a7f8048f1571",
   "metadata": {},
   "outputs": [],
   "source": []
  },
  {
   "cell_type": "markdown",
   "id": "7e729b7b-1666-4816-8739-2b1e5edd913c",
   "metadata": {},
   "source": [
    "graph = to_networkx(data)"
   ]
  },
  {
   "cell_type": "code",
   "execution_count": 11,
   "id": "d70a8a2f-e652-406a-ac97-50bb93b81015",
   "metadata": {},
   "outputs": [
    {
     "name": "stdout",
     "output_type": "stream",
     "text": [
      "Has isolated nodes: False\n",
      "Has self-loops: False\n",
      "Is undirected: True\n"
     ]
    }
   ],
   "source": [
    "print(f'Has isolated nodes: {data.has_isolated_nodes()}')\n",
    "print(f'Has self-loops: {data.has_self_loops()}')\n",
    "print(f'Is undirected: {data.is_undirected()}')"
   ]
  },
  {
   "cell_type": "code",
   "execution_count": 12,
   "id": "ad129a55-0aa8-40c8-955c-defc3b22bd86",
   "metadata": {},
   "outputs": [],
   "source": [
    "#     def __init__(self, graph, Nv, dv, Ne, de, alpha, beta, learning_rate, true_sheaf = None):\n"
   ]
  },
  {
   "cell_type": "code",
   "execution_count": 13,
   "id": "413f1ad0-b6da-4bbd-9608-64bdc0a73367",
   "metadata": {},
   "outputs": [],
   "source": [
    "model = coboundary_learner_on_graph_signal(to_networkx(data), len(graph), 4, graph.number_of_edges(), 4, .00, .0, 0.0001,1703, 4,0.1,0.1)"
   ]
  },
  {
   "cell_type": "code",
   "execution_count": 14,
   "id": "8905634b-9b87-42b9-b76b-117a1f53049c",
   "metadata": {},
   "outputs": [],
   "source": [
    "early_stop_callback = EarlyStopping(monitor=\"val_loss\", min_delta=0.01, patience=5, verbose=False)\n",
    "checkpoint_callback = ModelCheckpoint(\n",
    "    monitor=\"val_loss\",\n",
    "    dirpath=\"/root/projects/temp_checkpoints\",\n",
    "    filename=\"test-1-sheaflearn-{epoch:02d}-{val_loss:.2f}\",\n",
    "    save_top_k=4,\n",
    "    mode=\"min\",\n",
    ")\n",
    "class PrintCallbacks(Callback):\n",
    "    def on_init_start(self, trainer):\n",
    "        print(\"Starting to init trainer!\")\n",
    "\n",
    "    def on_init_end(self, trainer):\n",
    "        print(\"Trainer is init now\")\n",
    "\n",
    "    def on_train_end(self, trainer, pl_module):\n",
    "        print(\"Training ended\")\n"
   ]
  },
  {
   "cell_type": "code",
   "execution_count": 15,
   "id": "2f5437ed-7d45-4c0a-a135-38e3241c45a5",
   "metadata": {},
   "outputs": [
    {
     "name": "stderr",
     "output_type": "stream",
     "text": [
      "\u001b[34m\u001b[1mwandb\u001b[0m: Currently logged in as: \u001b[33msaepark\u001b[0m. Use \u001b[1m`wandb login --relogin`\u001b[0m to force relogin\n"
     ]
    },
    {
     "data": {
      "text/html": [
       "Tracking run with wandb version 0.13.5"
      ],
      "text/plain": [
       "<IPython.core.display.HTML object>"
      ]
     },
     "metadata": {},
     "output_type": "display_data"
    },
    {
     "data": {
      "text/html": [
       "Run data is saved locally in <code>./wandb/run-20221119_091014-tr10jyxf</code>"
      ],
      "text/plain": [
       "<IPython.core.display.HTML object>"
      ]
     },
     "metadata": {},
     "output_type": "display_data"
    },
    {
     "data": {
      "text/html": [
       "Syncing run <strong><a href=\"https://wandb.ai/saepark/sheaf_learning_coboundary_learner/runs/tr10jyxf\" target=\"_blank\">rich-night-5</a></strong> to <a href=\"https://wandb.ai/saepark/sheaf_learning_coboundary_learner\" target=\"_blank\">Weights & Biases</a> (<a href=\"https://wandb.me/run\" target=\"_blank\">docs</a>)<br/>"
      ],
      "text/plain": [
       "<IPython.core.display.HTML object>"
      ]
     },
     "metadata": {},
     "output_type": "display_data"
    }
   ],
   "source": [
    "wandb_logger = WandbLogger(project=\"sheaf_learning_coboundary_learner\")"
   ]
  },
  {
   "cell_type": "code",
   "execution_count": 16,
   "id": "3a1b2cd9-ea6a-489f-8770-aad3247937d0",
   "metadata": {},
   "outputs": [
    {
     "data": {
      "text/plain": [
       "True"
      ]
     },
     "execution_count": 16,
     "metadata": {},
     "output_type": "execute_result"
    }
   ],
   "source": [
    "torch.cuda.is_available()"
   ]
  },
  {
   "cell_type": "code",
   "execution_count": 17,
   "id": "e61fb322-c69e-4eaf-bd56-2a2732bc8f4f",
   "metadata": {},
   "outputs": [
    {
     "name": "stdout",
     "output_type": "stream",
     "text": [
      "Starting to init trainer!\n"
     ]
    },
    {
     "name": "stderr",
     "output_type": "stream",
     "text": [
      "GPU available: True (cuda), used: True\n",
      "TPU available: False, using: 0 TPU cores\n",
      "IPU available: False, using: 0 IPUs\n",
      "HPU available: False, using: 0 HPUs\n"
     ]
    },
    {
     "name": "stdout",
     "output_type": "stream",
     "text": [
      "Trainer is init now\n"
     ]
    }
   ],
   "source": [
    "trainer = Trainer(accelerator='gpu',callbacks=[TQDMProgressBar(refresh_rate=10),PrintCallbacks(),early_stop_callback,checkpoint_callback],logger=wandb_logger,auto_lr_find=True)"
   ]
  },
  {
   "cell_type": "code",
   "execution_count": 19,
   "id": "44c81771-cec0-46aa-9779-b2a24397057c",
   "metadata": {},
   "outputs": [
    {
     "name": "stderr",
     "output_type": "stream",
     "text": [
      "LOCAL_RANK: 0 - CUDA_VISIBLE_DEVICES: [0]\n"
     ]
    },
    {
     "data": {
      "application/vnd.jupyter.widget-view+json": {
       "model_id": "722f0f957f3a41e885c609f7fe5c22a4",
       "version_major": 2,
       "version_minor": 0
      },
      "text/plain": [
       "Finding best initial lr:   0%|          | 0/100 [00:00<?, ?it/s]"
      ]
     },
     "metadata": {},
     "output_type": "display_data"
    },
    {
     "name": "stderr",
     "output_type": "stream",
     "text": [
      "`Trainer.fit` stopped: `max_steps=99` reached.\n",
      "LR finder stopped early after 99 steps due to diverging loss.\n",
      "Restoring states from the checkpoint path at /root/projects/sheaf-learn-project/notebooks/.lr_find_96d4d20b-d83f-4430-b44a-ad137946fac6.ckpt\n"
     ]
    }
   ],
   "source": [
    "lr_finder = trainer.tuner.lr_find(model, sheaf_dm)"
   ]
  },
  {
   "cell_type": "code",
   "execution_count": 20,
   "id": "97ac3348-eda7-462c-ae8b-87dd98539305",
   "metadata": {},
   "outputs": [
    {
     "data": {
      "image/png": "[encoded data removed]",
      "text/plain": [
       "<Figure size 640x480 with 1 Axes>"
      ]
     },
     "metadata": {},
     "output_type": "display_data"
    }
   ],
   "source": [
    "fig = lr_finder.plot(suggest=True)\n",
    "fig.show()"
   ]
  },
  {
   "cell_type": "code",
   "execution_count": 21,
   "id": "b9963059-ac0a-49c6-ba83-feaf67872a23",
   "metadata": {},
   "outputs": [],
   "source": [
    "new_lr = lr_finder.suggestion()\n",
    "model.hparams.learning_rate = new_lr\n",
    "model.learning_rate = new_lr"
   ]
  },
  {
   "cell_type": "code",
   "execution_count": 22,
   "id": "e7a27f72-d4a8-4e11-8e0b-a1c961c46028",
   "metadata": {},
   "outputs": [
    {
     "data": {
      "text/plain": [
       "0.01"
      ]
     },
     "execution_count": 22,
     "metadata": {},
     "output_type": "execute_result"
    }
   ],
   "source": [
    "new_lr"
   ]
  },
  {
   "cell_type": "code",
   "execution_count": 23,
   "id": "cd5a86a5-c35c-4f8c-9ef7-007af2308065",
   "metadata": {},
   "outputs": [
    {
     "name": "stderr",
     "output_type": "stream",
     "text": [
      "/root/miniconda3/envs/sheaflearn/lib/python3.10/site-packages/pytorch_lightning/trainer/configuration_validator.py:229: LightningDeprecationWarning: The `on_init_start` callback hook was deprecated in v1.6 and will be removed in v1.8.\n",
      "  rank_zero_deprecation(\n",
      "/root/miniconda3/envs/sheaflearn/lib/python3.10/site-packages/pytorch_lightning/trainer/configuration_validator.py:233: LightningDeprecationWarning: The `on_init_end` callback hook was deprecated in v1.6 and will be removed in v1.8.\n",
      "  rank_zero_deprecation(\"The `on_init_end` callback hook was deprecated in v1.6 and will be removed in v1.8.\")\n",
      "/root/miniconda3/envs/sheaflearn/lib/python3.10/site-packages/pytorch_lightning/callbacks/model_checkpoint.py:616: UserWarning: Checkpoint directory /root/projects/temp_checkpoints exists and is not empty.\n",
      "  rank_zero_warn(f\"Checkpoint directory {dirpath} exists and is not empty.\")\n",
      "LOCAL_RANK: 0 - CUDA_VISIBLE_DEVICES: [0]\n",
      "\n",
      "  | Name               | Type          | Params\n",
      "-----------------------------------------------------\n",
      "0 | coboundary_vec_out | ParameterList | 8.9 K \n",
      "1 | coboundary_vec_in  | ParameterList | 8.9 K \n",
      "2 | graph_to_sheaf     | Linear        | 27.3 K\n",
      "3 | graph_to_sheaf2    | Linear        | 272   \n",
      "-----------------------------------------------------\n",
      "45.4 K    Trainable params\n",
      "0         Non-trainable params\n",
      "45.4 K    Total params\n",
      "0.182     Total estimated model params size (MB)\n"
     ]
    },
    {
     "data": {
      "application/vnd.jupyter.widget-view+json": {
       "model_id": "",
       "version_major": 2,
       "version_minor": 0
      },
      "text/plain": [
       "Sanity Checking: 0it [00:00, ?it/s]"
      ]
     },
     "metadata": {},
     "output_type": "display_data"
    },
    {
     "data": {
      "application/vnd.jupyter.widget-view+json": {
       "model_id": "1c91fa264eb64e3b9ec1f769ec920ee2",
       "version_major": 2,
       "version_minor": 0
      },
      "text/plain": [
       "Training: 0it [00:00, ?it/s]"
      ]
     },
     "metadata": {},
     "output_type": "display_data"
    },
    {
     "data": {
      "application/vnd.jupyter.widget-view+json": {
       "model_id": "",
       "version_major": 2,
       "version_minor": 0
      },
      "text/plain": [
       "Validation: 0it [00:00, ?it/s]"
      ]
     },
     "metadata": {},
     "output_type": "display_data"
    },
    {
     "data": {
      "application/vnd.jupyter.widget-view+json": {
       "model_id": "",
       "version_major": 2,
       "version_minor": 0
      },
      "text/plain": [
       "Validation: 0it [00:00, ?it/s]"
      ]
     },
     "metadata": {},
     "output_type": "display_data"
    },
    {
     "data": {
      "application/vnd.jupyter.widget-view+json": {
       "model_id": "",
       "version_major": 2,
       "version_minor": 0
      },
      "text/plain": [
       "Validation: 0it [00:00, ?it/s]"
      ]
     },
     "metadata": {},
     "output_type": "display_data"
    },
    {
     "data": {
      "application/vnd.jupyter.widget-view+json": {
       "model_id": "",
       "version_major": 2,
       "version_minor": 0
      },
      "text/plain": [
       "Validation: 0it [00:00, ?it/s]"
      ]
     },
     "metadata": {},
     "output_type": "display_data"
    },
    {
     "data": {
      "application/vnd.jupyter.widget-view+json": {
       "model_id": "",
       "version_major": 2,
       "version_minor": 0
      },
      "text/plain": [
       "Validation: 0it [00:00, ?it/s]"
      ]
     },
     "metadata": {},
     "output_type": "display_data"
    },
    {
     "data": {
      "application/vnd.jupyter.widget-view+json": {
       "model_id": "",
       "version_major": 2,
       "version_minor": 0
      },
      "text/plain": [
       "Validation: 0it [00:00, ?it/s]"
      ]
     },
     "metadata": {},
     "output_type": "display_data"
    },
    {
     "data": {
      "application/vnd.jupyter.widget-view+json": {
       "model_id": "",
       "version_major": 2,
       "version_minor": 0
      },
      "text/plain": [
       "Validation: 0it [00:00, ?it/s]"
      ]
     },
     "metadata": {},
     "output_type": "display_data"
    },
    {
     "data": {
      "application/vnd.jupyter.widget-view+json": {
       "model_id": "",
       "version_major": 2,
       "version_minor": 0
      },
      "text/plain": [
       "Validation: 0it [00:00, ?it/s]"
      ]
     },
     "metadata": {},
     "output_type": "display_data"
    },
    {
     "data": {
      "application/vnd.jupyter.widget-view+json": {
       "model_id": "",
       "version_major": 2,
       "version_minor": 0
      },
      "text/plain": [
       "Validation: 0it [00:00, ?it/s]"
      ]
     },
     "metadata": {},
     "output_type": "display_data"
    },
    {
     "name": "stdout",
     "output_type": "stream",
     "text": [
      "Training ended\n"
     ]
    }
   ],
   "source": [
    "trainer.fit(model, sheaf_dm)"
   ]
  },
  {
   "cell_type": "code",
   "execution_count": 29,
   "id": "a0a478b2-11d1-4e44-9131-9617bbbf448e",
   "metadata": {},
   "outputs": [],
   "source": [
    "laplacian = model.build_laplacian_from_vector().detach()"
   ]
  },
  {
   "cell_type": "code",
   "execution_count": 30,
   "id": "567915e2-2941-4e7f-8c7f-b32039907bae",
   "metadata": {},
   "outputs": [
    {
     "data": {
      "text/plain": [
       "False"
      ]
     },
     "execution_count": 30,
     "metadata": {},
     "output_type": "execute_result"
    }
   ],
   "source": [
    "laplacian.requires_grad"
   ]
  },
  {
   "cell_type": "code",
   "execution_count": 31,
   "id": "9dc661c8-d054-41ce-a224-0d3fa5a8f415",
   "metadata": {},
   "outputs": [
    {
     "data": {
      "text/plain": [
       "torch.Size([732, 732])"
      ]
     },
     "execution_count": 31,
     "metadata": {},
     "output_type": "execute_result"
    }
   ],
   "source": [
    "laplacian.size()"
   ]
  },
  {
   "cell_type": "code",
   "execution_count": 32,
   "id": "f4c19c2d-f14a-40b9-b2d9-e0472e5268a3",
   "metadata": {},
   "outputs": [],
   "source": [
    "def normalize_laplacian(laplacian, Nv, dv):\n",
    "    diagonal_blocks = [laplacian[i*dv:(i+1)*dv, i*dv:(i+1)*dv] for i in range(Nv)]\n",
    "    D = torch.block_diag(*diagonal_blocks)\n",
    "    evals, evecs = torch.linalg.eig(D)\n",
    "    evpow = evals**(-1/2)    \n",
    "    D_pow = torch.matmul (evecs, torch.matmul (torch.diag (evpow), torch.inverse (evecs))).real\n",
    "    normalized_laplacian = D_pow @ laplacian * D_pow\n",
    "    return normalized_laplacian"
   ]
  },
  {
   "cell_type": "code",
   "execution_count": 33,
   "id": "462ec7a1-32ca-4156-9c32-966b9fbef9cc",
   "metadata": {},
   "outputs": [],
   "source": [
    "normalized_laplacian = normalize_laplacian(laplacian, 183, 4)"
   ]
  },
  {
   "cell_type": "code",
   "execution_count": 34,
   "id": "f2be4293-f61b-421e-ad76-e6736c4da232",
   "metadata": {},
   "outputs": [
    {
     "data": {
      "text/plain": [
       "tensor([[ 1.0164e+00, -1.3622e-02, -1.9387e-03,  ...,  0.0000e+00,\n",
       "          0.0000e+00,  0.0000e+00],\n",
       "        [-1.3622e-02,  1.0415e+00, -2.4082e-02,  ...,  0.0000e+00,\n",
       "          0.0000e+00,  0.0000e+00],\n",
       "        [-1.9387e-03, -2.4082e-02,  1.0312e+00,  ...,  0.0000e+00,\n",
       "          0.0000e+00,  0.0000e+00],\n",
       "        ...,\n",
       "        [ 0.0000e+00,  0.0000e+00,  0.0000e+00,  ...,  1.1676e+00,\n",
       "          3.0796e-04, -8.2153e-02],\n",
       "        [ 0.0000e+00,  0.0000e+00,  0.0000e+00,  ...,  3.0796e-04,\n",
       "          1.0175e+00, -1.7763e-02],\n",
       "        [ 0.0000e+00,  0.0000e+00,  0.0000e+00,  ..., -8.2153e-02,\n",
       "         -1.7763e-02,  1.0998e+00]])"
      ]
     },
     "execution_count": 34,
     "metadata": {},
     "output_type": "execute_result"
    }
   ],
   "source": [
    "normalized_laplacian"
   ]
  },
  {
   "cell_type": "code",
   "execution_count": 35,
   "id": "1f045e39-6315-4092-914e-51af3871d7aa",
   "metadata": {},
   "outputs": [],
   "source": [
    "from project.sheaf_diffusion import sheaf_diffusion"
   ]
  },
  {
   "cell_type": "code",
   "execution_count": 36,
   "id": "7d016973-686b-4f4d-9abc-7bcfd96b7218",
   "metadata": {},
   "outputs": [],
   "source": [
    "mask = {'train_mask':data.train_mask, \n",
    "        'val_mask':data.val_mask, \n",
    "        'test_mask':data.test_mask\n",
    "       }"
   ]
  },
  {
   "cell_type": "code",
   "execution_count": 37,
   "id": "a8910146-3c35-4929-b77b-0cf298ff9f18",
   "metadata": {},
   "outputs": [
    {
     "data": {
      "text/plain": [
       "torch.float32"
      ]
     },
     "execution_count": 37,
     "metadata": {},
     "output_type": "execute_result"
    }
   ],
   "source": [
    "normalized_laplacian.dtype"
   ]
  },
  {
   "cell_type": "code",
   "execution_count": 38,
   "id": "3390cecc-5b44-4548-81ec-cfa38ec77149",
   "metadata": {},
   "outputs": [
    {
     "data": {
      "text/plain": [
       "tensor([[ 1.0164e+00, -1.3622e-02, -1.9387e-03,  ...,  0.0000e+00,\n",
       "          0.0000e+00,  0.0000e+00],\n",
       "        [-1.3622e-02,  1.0415e+00, -2.4082e-02,  ...,  0.0000e+00,\n",
       "          0.0000e+00,  0.0000e+00],\n",
       "        [-1.9387e-03, -2.4082e-02,  1.0312e+00,  ...,  0.0000e+00,\n",
       "          0.0000e+00,  0.0000e+00],\n",
       "        ...,\n",
       "        [ 0.0000e+00,  0.0000e+00,  0.0000e+00,  ...,  1.1676e+00,\n",
       "          3.0796e-04, -8.2153e-02],\n",
       "        [ 0.0000e+00,  0.0000e+00,  0.0000e+00,  ...,  3.0796e-04,\n",
       "          1.0175e+00, -1.7763e-02],\n",
       "        [ 0.0000e+00,  0.0000e+00,  0.0000e+00,  ..., -8.2153e-02,\n",
       "         -1.7763e-02,  1.0998e+00]])"
      ]
     },
     "execution_count": 38,
     "metadata": {},
     "output_type": "execute_result"
    }
   ],
   "source": [
    "normalized_laplacian"
   ]
  },
  {
   "cell_type": "code",
   "execution_count": 39,
   "id": "46b62360-e846-476c-9edf-64afd7adaf74",
   "metadata": {},
   "outputs": [],
   "source": [
    "#       def __init__(self, Nv, dv, Ne, de, layers, input_dim, output_dim, channels, left_weights, right_weights, sheaf_laplacian, mask, use_act, dropout, learning_rate = 0.01):\n",
    "\n",
    "\n",
    "\n",
    "model_diffusion = sheaf_diffusion(183, 4, graph.number_of_edges(), 4, 7, 1703,5, 4, True, True, normalized_laplacian, mask, True, 0, 0.0001)"
   ]
  },
  {
   "cell_type": "code",
   "execution_count": 40,
   "id": "07de62d4-2b63-4133-abe4-9b67d9a0242f",
   "metadata": {},
   "outputs": [
    {
     "data": {
      "text/plain": [
       "sheaf_diffusion(\n",
       "  (graph_to_sheaf): Linear(in_features=1703, out_features=16, bias=True)\n",
       "  (graph_to_sheaf2): Linear(in_features=16, out_features=16, bias=True)\n",
       "  (lin_left_weights): ModuleList(\n",
       "    (0): Linear(in_features=4, out_features=4, bias=False)\n",
       "    (1): Linear(in_features=4, out_features=4, bias=False)\n",
       "    (2): Linear(in_features=4, out_features=4, bias=False)\n",
       "    (3): Linear(in_features=4, out_features=4, bias=False)\n",
       "    (4): Linear(in_features=4, out_features=4, bias=False)\n",
       "    (5): Linear(in_features=4, out_features=4, bias=False)\n",
       "    (6): Linear(in_features=4, out_features=4, bias=False)\n",
       "  )\n",
       "  (lin_right_weights): ModuleList(\n",
       "    (0): Linear(in_features=4, out_features=4, bias=False)\n",
       "    (1): Linear(in_features=4, out_features=4, bias=False)\n",
       "    (2): Linear(in_features=4, out_features=4, bias=False)\n",
       "    (3): Linear(in_features=4, out_features=4, bias=False)\n",
       "    (4): Linear(in_features=4, out_features=4, bias=False)\n",
       "    (5): Linear(in_features=4, out_features=4, bias=False)\n",
       "    (6): Linear(in_features=4, out_features=4, bias=False)\n",
       "  )\n",
       "  (batch_norms): ModuleList()\n",
       "  (epsilons): ParameterList(\n",
       "      (0): Parameter containing: [torch.float32 of size 4x1]\n",
       "      (1): Parameter containing: [torch.float32 of size 4x1]\n",
       "      (2): Parameter containing: [torch.float32 of size 4x1]\n",
       "      (3): Parameter containing: [torch.float32 of size 4x1]\n",
       "      (4): Parameter containing: [torch.float32 of size 4x1]\n",
       "      (5): Parameter containing: [torch.float32 of size 4x1]\n",
       "      (6): Parameter containing: [torch.float32 of size 4x1]\n",
       "  )\n",
       "  (lin2): Linear(in_features=16, out_features=5, bias=True)\n",
       ")"
      ]
     },
     "execution_count": 40,
     "metadata": {},
     "output_type": "execute_result"
    }
   ],
   "source": [
    "model_diffusion"
   ]
  },
  {
   "cell_type": "code",
   "execution_count": 41,
   "id": "877f0020-c98d-4f0c-acf5-a79febbe8a43",
   "metadata": {},
   "outputs": [],
   "source": [
    "# Copy weights, \"CRUCIAL STEP\"\n",
    "with torch.no_grad():\n",
    "    model.graph_to_sheaf.weight.copy_(model_diffusion.graph_to_sheaf.weight)\n",
    "    model.graph_to_sheaf2.weight.copy_(model_diffusion.graph_to_sheaf2.weight)\n",
    "    model.graph_to_sheaf.bias.copy_(model_diffusion.graph_to_sheaf.bias)\n",
    "    model.graph_to_sheaf2.bias.copy_(model_diffusion.graph_to_sheaf2.bias)\n",
    "    \n",
    "#Make diffusion sheaf embedding weight constant\n",
    "\n",
    "model_diffusion.graph_to_sheaf.weight.requires_grad = False\n",
    "model_diffusion.graph_to_sheaf.bias.requires_grad = False\n",
    "model_diffusion.graph_to_sheaf2.weight.requires_grad = False\n",
    "model_diffusion.graph_to_sheaf2.bias.requires_grad = False"
   ]
  },
  {
   "cell_type": "code",
   "execution_count": 42,
   "id": "e26fbd9f-502d-4873-8db1-eef243135040",
   "metadata": {},
   "outputs": [
    {
     "name": "stderr",
     "output_type": "stream",
     "text": [
      "/root/miniconda3/envs/sheaflearn/lib/python3.10/site-packages/pytorch_lightning/loggers/wandb.py:352: UserWarning: There is a wandb run already in progress and newly created instances of `WandbLogger` will reuse this run. If this is not desired, call `wandb.finish()` before instantiating `WandbLogger`.\n",
      "  rank_zero_warn(\n"
     ]
    }
   ],
   "source": [
    "wandb_logger_diffusion = WandbLogger(project=\"sheaf_learning_diffusion_with_coboundary\")"
   ]
  },
  {
   "cell_type": "code",
   "execution_count": 43,
   "id": "5cacf4a8-579e-425d-aaa7-ed823c785d43",
   "metadata": {},
   "outputs": [],
   "source": [
    "early_stop_callback = EarlyStopping(monitor=\"val_loss\", min_delta=0.01, patience=5, verbose=False)\n",
    "checkpoint_callback = ModelCheckpoint(\n",
    "    monitor=\"val_loss\",\n",
    "    dirpath=\"/root/projects/temp_checkpoints\",\n",
    "    filename=\"test-1-sheafdiffusion-{epoch:02d}-{val_loss:.2f}\",\n",
    "    save_top_k=4,\n",
    "    mode=\"min\",\n",
    ")\n",
    "class PrintCallbacks(Callback):\n",
    "    def on_init_start(self, trainer):\n",
    "        print(\"Starting to init trainer!\")\n",
    "\n",
    "    def on_init_end(self, trainer):\n",
    "        print(\"Trainer is init now\")\n",
    "\n",
    "    def on_train_end(self, trainer, pl_module):\n",
    "        print(\"Training ended\")\n"
   ]
  },
  {
   "cell_type": "code",
   "execution_count": 44,
   "id": "e89e35d1-2707-4071-9095-3268426597c6",
   "metadata": {},
   "outputs": [
    {
     "name": "stderr",
     "output_type": "stream",
     "text": [
      "LOCAL_RANK: 0 - CUDA_VISIBLE_DEVICES: [0]\n",
      "`Trainer.fit` stopped: `max_steps=100` reached.\n",
      "LR finder stopped early after 1800 steps due to diverging loss.\n",
      "Restoring states from the checkpoint path at /root/projects/sheaf-learn-project/notebooks/.lr_find_fa9673a7-224a-44aa-867d-e755d62f2f2d.ckpt\n"
     ]
    }
   ],
   "source": [
    "lr_finder = trainer.tuner.lr_find(model_diffusion, sheaf_dm)"
   ]
  },
  {
   "cell_type": "code",
   "execution_count": 45,
   "id": "3b33d601-d251-45b3-abb5-5eb93e6490aa",
   "metadata": {},
   "outputs": [
    {
     "name": "stderr",
     "output_type": "stream",
     "text": [
      "Failed to compute suggestion for learning rate because there are not enough points. Increase the loop iteration limits or the size of your dataset/dataloader.\n"
     ]
    },
    {
     "data": {
      "image/png": "[encoded data removed]",
      "text/plain": [
       "<Figure size 640x480 with 1 Axes>"
      ]
     },
     "metadata": {},
     "output_type": "display_data"
    }
   ],
   "source": [
    "fig = lr_finder.plot(suggest=True)\n",
    "fig.show()"
   ]
  },
  {
   "cell_type": "code",
   "execution_count": null,
   "id": "21eaccee-5a77-44fd-9723-3a4099b9cfb8",
   "metadata": {},
   "outputs": [],
   "source": []
  }
 ],
 "metadata": {
  "kernelspec": {
   "display_name": "sheaflearn",
   "language": "python",
   "name": "sheaflearn"
  },
  "language_info": {
   "codemirror_mode": {
    "name": "ipython",
    "version": 3
   },
   "file_extension": ".py",
   "mimetype": "text/x-python",
   "name": "python",
   "nbconvert_exporter": "python",
   "pygments_lexer": "ipython3",
   "version": "3.10.8"
  }
 },
 "nbformat": 4,
 "nbformat_minor": 5
}
