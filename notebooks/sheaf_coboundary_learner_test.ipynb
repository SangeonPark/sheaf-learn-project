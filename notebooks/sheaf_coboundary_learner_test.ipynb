{
 "cells": [
  {
   "cell_type": "code",
   "execution_count": 1,
   "id": "9a21228e-63ba-4d28-8a2d-c8b1af51de5a",
   "metadata": {},
   "outputs": [],
   "source": [
    "%load_ext autoreload\n",
    "%autoreload 2"
   ]
  },
  {
   "cell_type": "code",
   "execution_count": 2,
   "id": "478389bc-ddc2-48d8-86ad-3ddb13e5a4fe",
   "metadata": {},
   "outputs": [],
   "source": [
    "import os\n",
    "\n",
    "import torch\n",
    "import torch.nn.functional as F\n",
    "from torch.utils.data import DataLoader, random_split\n",
    "import torch.nn as nn\n",
    "import torch.optim as optim\n",
    "\n",
    "from torch_geometric.utils import from_networkx, to_networkx\n",
    "\n",
    "\n",
    "import pytorch_lightning as pl\n",
    "from pytorch_lightning import LightningDataModule, LightningModule, Trainer\n",
    "from pytorch_lightning.callbacks.early_stopping import EarlyStopping\n",
    "from pytorch_lightning.callbacks import ModelCheckpoint, Callback, TQDMProgressBar\n",
    "from pytorch_lightning.loggers import WandbLogger\n",
    "\n",
    "import numpy as np\n",
    "\n",
    "from typing import Callable, Optional"
   ]
  },
  {
   "cell_type": "code",
   "execution_count": 3,
   "id": "5e03ee12-a335-4160-8333-f4b7880d115f",
   "metadata": {},
   "outputs": [],
   "source": [
    "import sys\n",
    "sys.path.insert(0,'..')"
   ]
  },
  {
   "cell_type": "code",
   "execution_count": 4,
   "id": "a719eb9e-808d-43bf-8524-4c61ed574077",
   "metadata": {},
   "outputs": [],
   "source": [
    "from utils.heterophilic import get_dataset, get_fixed_splits, WebKB, Actor\n",
    "from project.sheaf_datamodule import SheafDataset_ForGraphs, SheafDataModule_ForGraphs, SheafDataset, SheafDataModule\n",
    "from project.sheaf_learner import coboundary_learner_on_graph_signal, coboundary_learner\n",
    "from project.sheaf_diffusion import sheaf_diffusion\n",
    "from project.toy_sheaf_generator import toy_sheaf_generator"
   ]
  },
  {
   "cell_type": "code",
   "execution_count": 5,
   "id": "58d91a67-88a8-4d2d-ae57-e02320fb2471",
   "metadata": {},
   "outputs": [
    {
     "data": {
      "text/plain": [
       "(10, 57)"
      ]
     },
     "execution_count": 5,
     "metadata": {},
     "output_type": "execute_result"
    }
   ],
   "source": [
    "#def __init__(self, Nv, dv, de):\n",
    "sheaf_10_2_2 = toy_sheaf_generator(5,2,2)\n",
    "\n",
    "graph = sheaf_10_2_2.generate_er_graph()\n",
    "\n",
    "true_sheaf = sheaf_10_2_2.random_gaussian_sheaf_on_graph()\n",
    "\n",
    "samples = sheaf_10_2_2.sample_signal_on_sheaf(57, 100)\n",
    "\n",
    "samples.shape"
   ]
  },
  {
   "cell_type": "code",
   "execution_count": 6,
   "id": "078c8c29-affe-4984-8cac-e0f92ad68b94",
   "metadata": {},
   "outputs": [],
   "source": [
    "train_data = SheafDataset(False, '/root/projects/', samples, 100)"
   ]
  },
  {
   "cell_type": "code",
   "execution_count": 7,
   "id": "706f4eb0-7f56-435f-91cc-f6c4e7b6a82d",
   "metadata": {},
   "outputs": [],
   "source": [
    "torch.save(train_data, os.path.join(os.getcwd(), 'testsheaf.pt'))"
   ]
  },
  {
   "cell_type": "code",
   "execution_count": 8,
   "id": "75d9653f-67ff-4a70-868a-e1a8beb6c81e",
   "metadata": {},
   "outputs": [],
   "source": [
    "basedir = os.getcwd()\n",
    "\n",
    "file_dict = {'train':os.path.join(basedir, 'testsheaf.pt'),\n",
    "             'val':os.path.join(basedir, 'testsheaf.pt'),\n",
    "             'test':os.path.join(basedir, 'testsheaf.pt'),\n",
    "             'predict':os.path.join(basedir, 'testsheaf.pt')}\n"
   ]
  },
  {
   "cell_type": "code",
   "execution_count": 9,
   "id": "9ecafc85-945e-4162-9270-5cc3d040cb96",
   "metadata": {},
   "outputs": [],
   "source": [
    "sheaf_dm = SheafDataModule(file_dict)"
   ]
  },
  {
   "cell_type": "code",
   "execution_count": 27,
   "id": "db6675c0-b828-45eb-ab69-26484fd278aa",
   "metadata": {},
   "outputs": [
    {
     "data": {
      "text/plain": [
       "7"
      ]
     },
     "execution_count": 27,
     "metadata": {},
     "output_type": "execute_result"
    }
   ],
   "source": [
    "graph.number_of_edges()"
   ]
  },
  {
   "cell_type": "code",
   "execution_count": 28,
   "id": "68bb2a67-e3a6-47d5-9746-235fe5a7fe56",
   "metadata": {},
   "outputs": [],
   "source": [
    "# def __init__(self, graph, Nv, dv, Ne, de, alpha, beta, learning_rate, true_sheaf = None):\n",
    "model = coboundary_learner(graph, 5, 2, graph.number_of_edges(), 2, 0., 0., 0.0001, true_sheaf)"
   ]
  },
  {
   "cell_type": "code",
   "execution_count": 29,
   "id": "0177fe90-1c7f-42f1-b9e7-99205c9b71bd",
   "metadata": {},
   "outputs": [
    {
     "data": {
      "text/plain": [
       "coboundary_learner(\n",
       "  (coboundary_vec_out): ParameterList(\n",
       "      (0): Parameter containing: [torch.float32 of size 2x2]\n",
       "      (1): Parameter containing: [torch.float32 of size 2x2]\n",
       "      (2): Parameter containing: [torch.float32 of size 2x2]\n",
       "      (3): Parameter containing: [torch.float32 of size 2x2]\n",
       "      (4): Parameter containing: [torch.float32 of size 2x2]\n",
       "      (5): Parameter containing: [torch.float32 of size 2x2]\n",
       "      (6): Parameter containing: [torch.float32 of size 2x2]\n",
       "  )\n",
       "  (coboundary_vec_in): ParameterList(\n",
       "      (0): Parameter containing: [torch.float32 of size 2x2]\n",
       "      (1): Parameter containing: [torch.float32 of size 2x2]\n",
       "      (2): Parameter containing: [torch.float32 of size 2x2]\n",
       "      (3): Parameter containing: [torch.float32 of size 2x2]\n",
       "      (4): Parameter containing: [torch.float32 of size 2x2]\n",
       "      (5): Parameter containing: [torch.float32 of size 2x2]\n",
       "      (6): Parameter containing: [torch.float32 of size 2x2]\n",
       "  )\n",
       ")"
      ]
     },
     "execution_count": 29,
     "metadata": {},
     "output_type": "execute_result"
    }
   ],
   "source": [
    "model"
   ]
  },
  {
   "cell_type": "code",
   "execution_count": 30,
   "id": "0d9e3112-72d4-4268-91c5-6115ba997aeb",
   "metadata": {},
   "outputs": [],
   "source": [
    "early_stop_callback = EarlyStopping(monitor=\"val_loss\", min_delta=0.000001, patience=5, verbose=False)\n",
    "checkpoint_callback = ModelCheckpoint(\n",
    "    monitor=\"val_loss\",\n",
    "    dirpath=\"/root/projects/temp_checkpoints\",\n",
    "    filename=\"test-1-sheaflearn-{epoch:02d}-{val_loss:.2f}\",\n",
    "    save_top_k=4,\n",
    "    mode=\"min\",\n",
    ")\n",
    "class PrintCallbacks(Callback):\n",
    "    def on_init_start(self, trainer):\n",
    "        print(\"Starting to init trainer!\")\n",
    "\n",
    "    def on_init_end(self, trainer):\n",
    "        print(\"Trainer is init now\")\n",
    "\n",
    "    def on_train_end(self, trainer, pl_module):\n",
    "        print(\"Training ended\")\n"
   ]
  },
  {
   "cell_type": "code",
   "execution_count": 31,
   "id": "1aacb7a8-be4f-4c50-878b-20a1b8c805cf",
   "metadata": {},
   "outputs": [],
   "source": [
    "import wandb"
   ]
  },
  {
   "cell_type": "code",
   "execution_count": 32,
   "id": "72587484-fb37-4d9d-838f-4a4ffcbb29da",
   "metadata": {},
   "outputs": [
    {
     "data": {
      "text/html": [
       "Waiting for W&B process to finish... <strong style=\"color:green\">(success).</strong>"
      ],
      "text/plain": [
       "<IPython.core.display.HTML object>"
      ]
     },
     "metadata": {},
     "output_type": "display_data"
    },
    {
     "data": {
      "application/vnd.jupyter.widget-view+json": {
       "model_id": "9ea561be7b18466dacd4e3a97a5cca86",
       "version_major": 2,
       "version_minor": 0
      },
      "text/plain": [
       "VBox(children=(Label(value='0.003 MB of 0.003 MB uploaded (0.000 MB deduped)\\r'), FloatProgress(value=1.0, max…"
      ]
     },
     "metadata": {},
     "output_type": "display_data"
    },
    {
     "data": {
      "text/html": [
       "<style>\n",
       "    table.wandb td:nth-child(1) { padding: 0 10px; text-align: left ; width: auto;} td:nth-child(2) {text-align: left ; width: 100%}\n",
       "    .wandb-row { display: flex; flex-direction: row; flex-wrap: wrap; justify-content: flex-start; width: 100% }\n",
       "    .wandb-col { display: flex; flex-direction: column; flex-basis: 100%; flex: 1; padding: 10px; }\n",
       "    </style>\n",
       "<div class=\"wandb-row\"><div class=\"wandb-col\"><h3>Run history:</h3><br/><table class=\"wandb\"><tr><td>epoch</td><td>▁▁▁▂▂▂▃▃▃▅▅▅▆▆▆▇▇▇███</td></tr><tr><td>train_conn</td><td>▁▆████████████</td></tr><tr><td>train_dirichlet</td><td>█▁▁▁▁▁▁▁▁▁▁▁▁▁</td></tr><tr><td>train_loss</td><td>█▁▁▁▁▁▁▁▁▁▁▁▁▁</td></tr><tr><td>train_sparse</td><td>█▁▃▃▃▃▃▃▃▃▃▃▃▃</td></tr><tr><td>trainer/global_step</td><td>▁▂▂▂▃▃▃▄▄▄▅▅▅▆▆▆▇▇▇██</td></tr><tr><td>val_conn</td><td>▁██████</td></tr><tr><td>val_dirichlet</td><td>█▁▁▁▁▁▁</td></tr><tr><td>val_loss</td><td>█▁▁▁▁▁▁</td></tr><tr><td>val_sparse</td><td>▁██████</td></tr></table><br/></div><div class=\"wandb-col\"><h3>Run summary:</h3><br/><table class=\"wandb\"><tr><td>epoch</td><td>6</td></tr><tr><td>train_conn</td><td>-1.11539</td></tr><tr><td>train_dirichlet</td><td>0.0</td></tr><tr><td>train_loss</td><td>0.0</td></tr><tr><td>train_sparse</td><td>20.23859</td></tr><tr><td>trainer/global_step</td><td>699</td></tr><tr><td>val_conn</td><td>-1.11539</td></tr><tr><td>val_dirichlet</td><td>-0.0</td></tr><tr><td>val_loss</td><td>-0.0</td></tr><tr><td>val_sparse</td><td>20.23862</td></tr></table><br/></div></div>"
      ],
      "text/plain": [
       "<IPython.core.display.HTML object>"
      ]
     },
     "metadata": {},
     "output_type": "display_data"
    },
    {
     "data": {
      "text/html": [
       "Synced <strong style=\"color:#cdcd00\">vital-wind-12</strong>: <a href=\"https://wandb.ai/saepark/sheaf_learning_coboundary_learner_toy/runs/3ga2hihb\" target=\"_blank\">https://wandb.ai/saepark/sheaf_learning_coboundary_learner_toy/runs/3ga2hihb</a><br/>Synced 6 W&B file(s), 0 media file(s), 0 artifact file(s) and 0 other file(s)"
      ],
      "text/plain": [
       "<IPython.core.display.HTML object>"
      ]
     },
     "metadata": {},
     "output_type": "display_data"
    },
    {
     "data": {
      "text/html": [
       "Find logs at: <code>./wandb/run-20221124_024412-3ga2hihb/logs</code>"
      ],
      "text/plain": [
       "<IPython.core.display.HTML object>"
      ]
     },
     "metadata": {},
     "output_type": "display_data"
    },
    {
     "data": {
      "application/vnd.jupyter.widget-view+json": {
       "model_id": "041a7b7c4fca4335b573f1fe72fcce00",
       "version_major": 2,
       "version_minor": 0
      },
      "text/plain": [
       "VBox(children=(Label(value='Waiting for wandb.init()...\\r'), FloatProgress(value=0.016668396899998092, max=1.0…"
      ]
     },
     "metadata": {},
     "output_type": "display_data"
    },
    {
     "data": {
      "text/html": [
       "Tracking run with wandb version 0.13.5"
      ],
      "text/plain": [
       "<IPython.core.display.HTML object>"
      ]
     },
     "metadata": {},
     "output_type": "display_data"
    },
    {
     "data": {
      "text/html": [
       "Run data is saved locally in <code>./wandb/run-20221124_024908-2ax5bkzq</code>"
      ],
      "text/plain": [
       "<IPython.core.display.HTML object>"
      ]
     },
     "metadata": {},
     "output_type": "display_data"
    },
    {
     "data": {
      "text/html": [
       "Syncing run <strong><a href=\"https://wandb.ai/saepark/sheaf_learning_coboundary_learner_toy/runs/2ax5bkzq\" target=\"_blank\">fancy-music-13</a></strong> to <a href=\"https://wandb.ai/saepark/sheaf_learning_coboundary_learner_toy\" target=\"_blank\">Weights & Biases</a> (<a href=\"https://wandb.me/run\" target=\"_blank\">docs</a>)<br/>"
      ],
      "text/plain": [
       "<IPython.core.display.HTML object>"
      ]
     },
     "metadata": {},
     "output_type": "display_data"
    }
   ],
   "source": [
    "wandb.finish()\n",
    "wandb_logger = WandbLogger(project=\"sheaf_learning_coboundary_learner_toy\")"
   ]
  },
  {
   "cell_type": "code",
   "execution_count": 33,
   "id": "ad17164a-30b9-425f-9359-9401518f8b08",
   "metadata": {},
   "outputs": [
    {
     "name": "stdout",
     "output_type": "stream",
     "text": [
      "Starting to init trainer!\n"
     ]
    },
    {
     "name": "stderr",
     "output_type": "stream",
     "text": [
      "GPU available: True (cuda), used: True\n",
      "TPU available: False, using: 0 TPU cores\n",
      "IPU available: False, using: 0 IPUs\n",
      "HPU available: False, using: 0 HPUs\n"
     ]
    },
    {
     "name": "stdout",
     "output_type": "stream",
     "text": [
      "Trainer is init now\n"
     ]
    }
   ],
   "source": [
    "trainer = Trainer(accelerator='gpu',callbacks=[TQDMProgressBar(refresh_rate=10),PrintCallbacks(),early_stop_callback,checkpoint_callback],logger=wandb_logger,auto_lr_find=True)"
   ]
  },
  {
   "cell_type": "code",
   "execution_count": 34,
   "id": "7216de3e-19f7-4008-940c-4bfd4076c09a",
   "metadata": {},
   "outputs": [
    {
     "name": "stderr",
     "output_type": "stream",
     "text": [
      "LOCAL_RANK: 0 - CUDA_VISIBLE_DEVICES: [0]\n"
     ]
    },
    {
     "data": {
      "application/vnd.jupyter.widget-view+json": {
       "model_id": "657cda9f8786413a92d7b0062d7e8ccc",
       "version_major": 2,
       "version_minor": 0
      },
      "text/plain": [
       "Finding best initial lr:   0%|          | 0/100 [00:00<?, ?it/s]"
      ]
     },
     "metadata": {},
     "output_type": "display_data"
    },
    {
     "name": "stderr",
     "output_type": "stream",
     "text": [
      "`Trainer.fit` stopped: `max_steps=100` reached.\n",
      "Restoring states from the checkpoint path at /root/projects/sheaf-learn-project/notebooks/.lr_find_d6963256-6f14-4609-8107-217cacd551af.ckpt\n"
     ]
    }
   ],
   "source": [
    "lr_finder = trainer.tuner.lr_find(model, sheaf_dm)"
   ]
  },
  {
   "cell_type": "code",
   "execution_count": 35,
   "id": "2b5f8aaa-1fed-49b1-a168-31d76971cac0",
   "metadata": {},
   "outputs": [
    {
     "data": {
      "image/png": "[encoded data removed]",
      "text/plain": [
       "<Figure size 640x480 with 1 Axes>"
      ]
     },
     "metadata": {},
     "output_type": "display_data"
    }
   ],
   "source": [
    "fig = lr_finder.plot(suggest=True)\n",
    "fig.show()"
   ]
  },
  {
   "cell_type": "code",
   "execution_count": 36,
   "id": "71997076-f840-47e9-8194-51052b370b6b",
   "metadata": {},
   "outputs": [],
   "source": [
    "new_lr = lr_finder.suggestion()\n",
    "model.hparams.learning_rate = new_lr\n",
    "model.learning_rate = new_lr"
   ]
  },
  {
   "cell_type": "code",
   "execution_count": 37,
   "id": "76a2efa6-cfb0-430b-9d3a-527a6d674cb1",
   "metadata": {},
   "outputs": [
    {
     "data": {
      "text/plain": [
       "0.13182567385564073"
      ]
     },
     "execution_count": 37,
     "metadata": {},
     "output_type": "execute_result"
    }
   ],
   "source": [
    "new_lr"
   ]
  },
  {
   "cell_type": "code",
   "execution_count": 38,
   "id": "3d1c21db-3acf-4a1b-b6c6-43369d753541",
   "metadata": {},
   "outputs": [
    {
     "name": "stderr",
     "output_type": "stream",
     "text": [
      "/root/miniconda3/envs/sheaflearn/lib/python3.10/site-packages/pytorch_lightning/trainer/configuration_validator.py:229: LightningDeprecationWarning: The `on_init_start` callback hook was deprecated in v1.6 and will be removed in v1.8.\n",
      "  rank_zero_deprecation(\n",
      "/root/miniconda3/envs/sheaflearn/lib/python3.10/site-packages/pytorch_lightning/trainer/configuration_validator.py:233: LightningDeprecationWarning: The `on_init_end` callback hook was deprecated in v1.6 and will be removed in v1.8.\n",
      "  rank_zero_deprecation(\"The `on_init_end` callback hook was deprecated in v1.6 and will be removed in v1.8.\")\n",
      "/root/miniconda3/envs/sheaflearn/lib/python3.10/site-packages/pytorch_lightning/callbacks/model_checkpoint.py:616: UserWarning: Checkpoint directory /root/projects/temp_checkpoints exists and is not empty.\n",
      "  rank_zero_warn(f\"Checkpoint directory {dirpath} exists and is not empty.\")\n",
      "LOCAL_RANK: 0 - CUDA_VISIBLE_DEVICES: [0]\n",
      "\n",
      "  | Name               | Type          | Params\n",
      "-----------------------------------------------------\n",
      "0 | coboundary_vec_out | ParameterList | 28    \n",
      "1 | coboundary_vec_in  | ParameterList | 28    \n",
      "-----------------------------------------------------\n",
      "56        Trainable params\n",
      "0         Non-trainable params\n",
      "56        Total params\n",
      "0.000     Total estimated model params size (MB)\n"
     ]
    },
    {
     "data": {
      "application/vnd.jupyter.widget-view+json": {
       "model_id": "",
       "version_major": 2,
       "version_minor": 0
      },
      "text/plain": [
       "Sanity Checking: 0it [00:00, ?it/s]"
      ]
     },
     "metadata": {},
     "output_type": "display_data"
    },
    {
     "data": {
      "application/vnd.jupyter.widget-view+json": {
       "model_id": "0a5d70e0e54d41d9918ae42df3b44cf6",
       "version_major": 2,
       "version_minor": 0
      },
      "text/plain": [
       "Training: 0it [00:00, ?it/s]"
      ]
     },
     "metadata": {},
     "output_type": "display_data"
    },
    {
     "data": {
      "application/vnd.jupyter.widget-view+json": {
       "model_id": "",
       "version_major": 2,
       "version_minor": 0
      },
      "text/plain": [
       "Validation: 0it [00:00, ?it/s]"
      ]
     },
     "metadata": {},
     "output_type": "display_data"
    },
    {
     "data": {
      "application/vnd.jupyter.widget-view+json": {
       "model_id": "",
       "version_major": 2,
       "version_minor": 0
      },
      "text/plain": [
       "Validation: 0it [00:00, ?it/s]"
      ]
     },
     "metadata": {},
     "output_type": "display_data"
    },
    {
     "data": {
      "application/vnd.jupyter.widget-view+json": {
       "model_id": "",
       "version_major": 2,
       "version_minor": 0
      },
      "text/plain": [
       "Validation: 0it [00:00, ?it/s]"
      ]
     },
     "metadata": {},
     "output_type": "display_data"
    },
    {
     "data": {
      "application/vnd.jupyter.widget-view+json": {
       "model_id": "",
       "version_major": 2,
       "version_minor": 0
      },
      "text/plain": [
       "Validation: 0it [00:00, ?it/s]"
      ]
     },
     "metadata": {},
     "output_type": "display_data"
    },
    {
     "data": {
      "application/vnd.jupyter.widget-view+json": {
       "model_id": "",
       "version_major": 2,
       "version_minor": 0
      },
      "text/plain": [
       "Validation: 0it [00:00, ?it/s]"
      ]
     },
     "metadata": {},
     "output_type": "display_data"
    },
    {
     "data": {
      "application/vnd.jupyter.widget-view+json": {
       "model_id": "",
       "version_major": 2,
       "version_minor": 0
      },
      "text/plain": [
       "Validation: 0it [00:00, ?it/s]"
      ]
     },
     "metadata": {},
     "output_type": "display_data"
    },
    {
     "data": {
      "application/vnd.jupyter.widget-view+json": {
       "model_id": "",
       "version_major": 2,
       "version_minor": 0
      },
      "text/plain": [
       "Validation: 0it [00:00, ?it/s]"
      ]
     },
     "metadata": {},
     "output_type": "display_data"
    },
    {
     "name": "stdout",
     "output_type": "stream",
     "text": [
      "Training ended\n"
     ]
    }
   ],
   "source": [
    "trainer.fit(model, sheaf_dm)"
   ]
  },
  {
   "cell_type": "code",
   "execution_count": 39,
   "id": "ff9ac4e1-43e6-47c4-8990-8d88b9e4149b",
   "metadata": {},
   "outputs": [],
   "source": [
    "learned_laplacian = model.build_laplacian_from_vector().detach()"
   ]
  },
  {
   "cell_type": "code",
   "execution_count": 40,
   "id": "48e7fad5-b142-46e9-8491-c25ebb49a91a",
   "metadata": {},
   "outputs": [
    {
     "data": {
      "text/plain": [
       "tensor([[ 8.1968,  2.0786,  0.0648, -0.9566,  0.2359, -0.6145,  1.2508, -1.1918,\n",
       "         -0.9787,  0.7306],\n",
       "        [ 2.0786, 10.6051, -0.0336, -0.7746,  0.1220, -0.8370, -2.4806,  0.1553,\n",
       "         -0.9592,  0.8845],\n",
       "        [ 0.0648, -0.0336,  0.2222,  0.3160,  0.0000,  0.0000, -0.3463, -0.3706,\n",
       "          0.0000,  0.0000],\n",
       "        [-0.9566, -0.7746,  0.3160,  1.9771,  0.0000,  0.0000, -0.1932, -0.9461,\n",
       "          0.0000,  0.0000],\n",
       "        [ 0.2359,  0.1220,  0.0000,  0.0000,  0.4148, -1.1827,  0.0000,  0.0000,\n",
       "         -0.2544,  0.0387],\n",
       "        [-0.6145, -0.8370,  0.0000,  0.0000, -1.1827,  4.6616,  0.0000,  0.0000,\n",
       "          1.0876,  0.0929],\n",
       "        [ 1.2508, -2.4806, -0.3463, -0.1932,  0.0000,  0.0000,  4.0346, -0.8955,\n",
       "          0.2136,  0.0683],\n",
       "        [-1.1918,  0.1553, -0.3706, -0.9461,  0.0000,  0.0000, -0.8955,  2.8258,\n",
       "         -0.3511,  0.1915],\n",
       "        [-0.9787, -0.9592,  0.0000,  0.0000, -0.2544,  1.0876,  0.2136, -0.3511,\n",
       "          0.9805, -0.3187],\n",
       "        [ 0.7306,  0.8845,  0.0000,  0.0000,  0.0387,  0.0929,  0.0683,  0.1915,\n",
       "         -0.3187,  0.3167]])"
      ]
     },
     "execution_count": 40,
     "metadata": {},
     "output_type": "execute_result"
    }
   ],
   "source": [
    "learned_laplacian"
   ]
  },
  {
   "cell_type": "code",
   "execution_count": 41,
   "id": "1700f633-ea39-4b77-acb9-62e67d4d9445",
   "metadata": {},
   "outputs": [
    {
     "data": {
      "text/plain": [
       "array([[ 9.04885307,  1.31413905,  0.97017794,  0.28686298, -1.17667975,\n",
       "         2.70521039, -3.62818368,  1.09488495, -0.94520877,  0.97731228],\n",
       "       [ 1.31413905,  9.24735734, -0.95736915, -0.4057546 , -1.17376256,\n",
       "         3.21709311,  1.77738292, -1.841512  , -1.23636448,  1.10345922],\n",
       "       [ 0.97017794, -0.95736915,  1.72057081,  0.49475231,  0.        ,\n",
       "         0.        ,  0.15271735, -0.25380601,  0.        ,  0.        ],\n",
       "       [ 0.28686298, -0.4057546 ,  0.49475231,  1.7199358 ,  0.        ,\n",
       "         0.        ,  0.37552205,  0.23580531,  0.        ,  0.        ],\n",
       "       [-1.17667975, -1.17376256,  0.        ,  0.        ,  7.00313665,\n",
       "        -2.26234427,  0.        ,  0.        ,  4.34204508,  1.50422948],\n",
       "       [ 2.70521039,  3.21709311,  0.        ,  0.        , -2.26234427,\n",
       "        13.50921388,  0.        ,  0.        ,  0.88158332,  1.71533554],\n",
       "       [-3.62818368,  1.77738292,  0.15271735,  0.37552205,  0.        ,\n",
       "         0.        ,  3.88782226, -1.49711064, -0.02332192,  0.25806896],\n",
       "       [ 1.09488495, -1.841512  , -0.25380601,  0.23580531,  0.        ,\n",
       "         0.        , -1.49711064,  3.19340406,  0.25208847,  0.24048411],\n",
       "       [-0.94520877, -1.23636448,  0.        ,  0.        ,  4.34204508,\n",
       "         0.88158332, -0.02332192,  0.25208847,  5.15676185,  0.29818826],\n",
       "       [ 0.97731228,  1.10345922,  0.        ,  0.        ,  1.50422948,\n",
       "         1.71533554,  0.25806896,  0.24048411,  0.29818826,  2.29565278]])"
      ]
     },
     "execution_count": 41,
     "metadata": {},
     "output_type": "execute_result"
    }
   ],
   "source": [
    "true_sheaf"
   ]
  },
  {
   "cell_type": "code",
   "execution_count": 42,
   "id": "bf8791f6-e8ef-4775-b5fd-e133b762c8d7",
   "metadata": {},
   "outputs": [
    {
     "data": {
      "text/plain": [
       "19.533631829437606"
      ]
     },
     "execution_count": 42,
     "metadata": {},
     "output_type": "execute_result"
    }
   ],
   "source": [
    "np.linalg.norm(model.build_laplacian_from_vector().detach().numpy()-true_sheaf)"
   ]
  },
  {
   "cell_type": "code",
   "execution_count": 26,
   "id": "8040e63d-60ea-4368-9e9f-1751700eb47c",
   "metadata": {},
   "outputs": [
    {
     "data": {
      "text/plain": [
       "array([17.6045447 , 11.17719474, 10.64782333,  7.57689503,  0.35341369,\n",
       "        0.69816284,  1.07075276,  3.10458087,  1.96367298,  2.58566757])"
      ]
     },
     "execution_count": 26,
     "metadata": {},
     "output_type": "execute_result"
    }
   ],
   "source": [
    "np.linalg.eig(true_sheaf)[0]"
   ]
  },
  {
   "cell_type": "code",
   "execution_count": 53,
   "id": "23fed9f8-526b-4019-8ff9-791d0e82b06f",
   "metadata": {},
   "outputs": [
    {
     "data": {
      "text/plain": [
       "array([ 1.5273423e+01,  1.2982228e+01,  7.2698336e+00,  5.4171515e+00,\n",
       "        1.6669323e+00,  1.3864189e+00,  6.6798395e-01,  2.5678313e-01,\n",
       "       -1.2255552e-07,  8.8699929e-02], dtype=float32)"
      ]
     },
     "execution_count": 53,
     "metadata": {},
     "output_type": "execute_result"
    }
   ],
   "source": [
    "np.linalg.eig(learned_laplacian)[0]"
   ]
  },
  {
   "cell_type": "code",
   "execution_count": null,
   "id": "16cff8e6-c549-4f0b-847f-6d5e12b9c462",
   "metadata": {},
   "outputs": [],
   "source": []
  }
 ],
 "metadata": {
  "kernelspec": {
   "display_name": "sheaflearn",
   "language": "python",
   "name": "sheaflearn"
  },
  "language_info": {
   "codemirror_mode": {
    "name": "ipython",
    "version": 3
   },
   "file_extension": ".py",
   "mimetype": "text/x-python",
   "name": "python",
   "nbconvert_exporter": "python",
   "pygments_lexer": "ipython3",
   "version": "3.10.8"
  }
 },
 "nbformat": 4,
 "nbformat_minor": 5
}
