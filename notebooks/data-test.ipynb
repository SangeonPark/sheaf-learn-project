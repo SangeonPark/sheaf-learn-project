{
 "cells": [
  {
   "cell_type": "code",
   "execution_count": 1,
   "id": "cfbb0a27",
   "metadata": {},
   "outputs": [],
   "source": [
    "import torch\n",
    "#import pytest\n",
    "import numpy as np\n",
    "import networkx as nx\n",
    "from torch_geometric.utils import from_networkx, to_networkx"
   ]
  },
  {
   "cell_type": "code",
   "execution_count": 3,
   "id": "21a0f347",
   "metadata": {},
   "outputs": [],
   "source": [
    "import sys\n",
    "sys.path.insert(0,'..')"
   ]
  },
  {
   "cell_type": "code",
   "execution_count": 4,
   "id": "efff9b06-a744-4028-a135-007717312d30",
   "metadata": {},
   "outputs": [],
   "source": [
    "from utils.heterophilic import get_dataset, get_fixed_splits, WebKB, Actor"
   ]
  },
  {
   "cell_type": "code",
   "execution_count": null,
   "id": "0d075c0f-2ce2-4866-9c72-cc750fd58607",
   "metadata": {},
   "outputs": [],
   "source": [
    "from pytorch_lightning.loggers import WandbLogger\n",
    "\n",
    "wandb_logger = WandbLogger(project=\"sheaf_learning_coboundary_learner\")"
   ]
  },
  {
   "cell_type": "code",
   "execution_count": 10,
   "id": "5dff266b-8f66-4197-ae3b-bd3aa1c14a64",
   "metadata": {},
   "outputs": [],
   "source": [
    "#here = WebKB('.','texas')"
   ]
  },
  {
   "cell_type": "code",
   "execution_count": 10,
   "id": "b473476f-8854-4fd1-8737-ab976b293971",
   "metadata": {},
   "outputs": [],
   "source": [
    "#here.process()"
   ]
  },
  {
   "cell_type": "code",
   "execution_count": 11,
   "id": "cc2168ae-6a21-4c18-819a-54f4c7d6d659",
   "metadata": {},
   "outputs": [
    {
     "data": {
      "text/plain": [
       "['./texas/processed/data.pt']"
      ]
     },
     "execution_count": 11,
     "metadata": {},
     "output_type": "execute_result"
    }
   ],
   "source": [
    "#here.processed_paths"
   ]
  },
  {
   "cell_type": "code",
   "execution_count": 14,
   "id": "75500218-351a-4969-bd33-a606e7dcab7c",
   "metadata": {},
   "outputs": [],
   "source": [
    "dataset = get_dataset('texas')\n",
    "\n",
    "data = dataset[0]\n",
    "\n",
    "data = get_fixed_splits(data, 'texas', 0)\n",
    "\n",
    "data.train_mask.shape"
   ]
  },
  {
   "cell_type": "code",
   "execution_count": 15,
   "id": "577ae08f-c675-4775-85d4-abbf76cf5f88",
   "metadata": {},
   "outputs": [],
   "source": [
    "from pytorch_lightning import LightningDataModule, LightningModule, Trainer\n",
    "import pytorch_lightning as pl\n",
    "import torch\n",
    "import torch.nn as nn\n",
    "import torch.optim as optim\n",
    "from typing import Callable, Optional"
   ]
  },
  {
   "cell_type": "code",
   "execution_count": 16,
   "id": "4816b9ca-7dc0-454f-9cf4-7919aa839cdb",
   "metadata": {},
   "outputs": [],
   "source": [
    "\n",
    "import os\n",
    "import torch\n",
    "from torch import nn\n",
    "import torch.nn.functional as F\n",
    "from torch.utils.data import DataLoader, random_split\n",
    "import pytorch_lightning as pl\n",
    "from pytorch_lightning import Trainer\n",
    "from pytorch_lightning.callbacks.early_stopping import EarlyStopping\n",
    "from pytorch_lightning.callbacks import ModelCheckpoint\n"
   ]
  },
  {
   "cell_type": "code",
   "execution_count": 17,
   "id": "cfd50af5-d470-49c7-ba3f-16797879f42f",
   "metadata": {},
   "outputs": [],
   "source": [
    "BATCH_SIZE = 1"
   ]
  },
  {
   "cell_type": "code",
   "execution_count": 18,
   "id": "1a7feeed-ecc8-4e28-a5b3-a23198c1f2df",
   "metadata": {},
   "outputs": [],
   "source": [
    "class SheafDataset_ForGraphs(torch.utils.data.Dataset):\n",
    "    \"\"\"It the sheaf\"\"\"\n",
    "    def __init__(self, x_data, label, total_size: int):\n",
    "        super(SheafDataset_ForGraphs, self).__init__()\n",
    "        self.x_data = x_data\n",
    "        self.label  = label\n",
    "        self.total_size = total_size\n",
    "\n",
    "    def __len__(self):\n",
    "        #return self.sheaf_data.size(0)\n",
    "        # HACKY SOLUTION\n",
    "        return self.total_size\n",
    "\n",
    "    def __getitem__(self, index):\n",
    "        return self.x_data, self.label\n"
   ]
  },
  {
   "cell_type": "code",
   "execution_count": 83,
   "id": "7c96c009-183f-48a0-ba9e-4c943c6043c6",
   "metadata": {},
   "outputs": [],
   "source": [
    "class SheafDataModule_ForGraphs(LightningDataModule):\n",
    "    \"\"\"docstring for SheafDataModule\"\"\"\n",
    "    def __init__(self, fixed_split, total_size, batch_size :int = BATCH_SIZE):\n",
    "        super(SheafDataModule_ForGraphs, self).__init__()\n",
    "        #self.num_types = len(file_dict)\n",
    "        self.data = fixed_split\n",
    "        self.batch_size = batch_size\n",
    "        self.total_size = total_size\n",
    "\n",
    "\n",
    "    # When doing distributed training, Datamodules have two optional arguments for\n",
    "    # granular control over download/prepare/splitting data:\n",
    "\n",
    "    # OPTIONAL, called only on 1 GPU/machine\n",
    "    #def prepare_data(self):\n",
    "        #MNIST(os.getcwd(), train=True, download=True)\n",
    "        #MNIST(os.getcwd(), train=False, download=True)\n",
    "\n",
    "    def setup(self, stage: Optional[str] = None):\n",
    "        # transforms\n",
    "        # split dataset\n",
    "        #if stage in (None, \"fit\"):\n",
    "        #    self.sheaf_train = SheafDataset_ForGraphs(self.data.x[data.train_mask], self.data.y[data.train_mask], self.total_size)\n",
    "        #    self.sheaf_val = SheafDataset_ForGraphs(self.data.x[data.val_mask], self.data.y[data.val_mask], self.total_size)\n",
    "        #    #self.sheaf_train, self.sheaf_val = random_split(sheaf_train, [280000, 40000])\n",
    "        #if stage == \"test\":\n",
    "        #    self.sheaf_test = SheafDataset_ForGraphs(self.data.x[data.test_mask], self.data.y[data.test_mask], self.total_size)\n",
    "        #if stage == \"predict\":\n",
    "        #    self.sheaf_predict = SheafDataset_ForGraphs(self.data.x[data.test_mask], self.data.y[data.test_mask], self.total_size)\n",
    "\n",
    "        if stage in (None, \"fit\"):\n",
    "            self.sheaf_train = SheafDataset_ForGraphs(self.data.x, self.data.y, self.total_size)\n",
    "            self.sheaf_val = SheafDataset_ForGraphs(self.data.x, self.data.y, self.total_size)\n",
    "            #self.sheaf_train, self.sheaf_val = random_split(sheaf_train, [280000, 40000])\n",
    "        if stage == \"test\":\n",
    "            self.sheaf_test = SheafDataset_ForGraphs(self.data.x, self.data.y ,self.total_size)\n",
    "        if stage == \"predict\":\n",
    "            self.sheaf_predict = SheafDataset_ForGraphs(self.data.x, self.data.y, self.total_size)\n",
    "    # return the dataloader for each split\n",
    "    def train_dataloader(self):\n",
    "        sheaf_train = DataLoader(self.sheaf_train, batch_size=self.batch_size,shuffle=True,num_workers=4)\n",
    "        return sheaf_train\n",
    "\n",
    "    def val_dataloader(self):\n",
    "        sheaf_val = DataLoader(self.sheaf_val, batch_size=self.batch_size,num_workers=4)\n",
    "        return sheaf_val\n",
    "\n",
    "    def test_dataloader(self):\n",
    "        sheaf_test = DataLoader(self.sheaf_test, batch_size=self.batch_size)\n",
    "        return sheaf_test\n",
    "\n",
    "    def predict_dataloader(self):\n",
    "        sheaf_predict = DataLoader(self.sheaf_predict, batch_size=self.batch_size)\n",
    "        return sheaf_predict\n"
   ]
  },
  {
   "cell_type": "code",
   "execution_count": 84,
   "id": "72e71cb8-1ef0-450f-97ad-1e56baa537f8",
   "metadata": {},
   "outputs": [],
   "source": [
    "sheaf_dm = SheafDataModule_ForGraphs(data, 20, 1)"
   ]
  },
  {
   "cell_type": "code",
   "execution_count": 85,
   "id": "2cdaf645-4632-4617-aab2-b32bc5272e7d",
   "metadata": {},
   "outputs": [],
   "source": [
    "sheaf_dm.setup('fit')"
   ]
  },
  {
   "cell_type": "code",
   "execution_count": 86,
   "id": "f9fd405f-cc1d-44e0-994d-7fafaa8dad2d",
   "metadata": {},
   "outputs": [],
   "source": [
    "a = sheaf_dm.train_dataloader()"
   ]
  },
  {
   "cell_type": "code",
   "execution_count": 87,
   "id": "94469eaf-e2f6-4a96-8d16-7ac2b3e84198",
   "metadata": {},
   "outputs": [
    {
     "name": "stdout",
     "output_type": "stream",
     "text": [
      "0 torch.Size([1, 183, 1703])\n",
      "1 torch.Size([1, 183, 1703])\n",
      "2 torch.Size([1, 183, 1703])\n",
      "3 torch.Size([1, 183, 1703])\n",
      "4 torch.Size([1, 183, 1703])\n",
      "5 torch.Size([1, 183, 1703])\n",
      "6 torch.Size([1, 183, 1703])\n",
      "7 torch.Size([1, 183, 1703])\n",
      "8 torch.Size([1, 183, 1703])\n",
      "9 torch.Size([1, 183, 1703])\n",
      "10 torch.Size([1, 183, 1703])\n",
      "11 torch.Size([1, 183, 1703])\n",
      "12 torch.Size([1, 183, 1703])\n",
      "13 torch.Size([1, 183, 1703])\n",
      "14 torch.Size([1, 183, 1703])\n",
      "15 torch.Size([1, 183, 1703])\n",
      "16 torch.Size([1, 183, 1703])\n",
      "17 torch.Size([1, 183, 1703])\n",
      "18 torch.Size([1, 183, 1703])\n",
      "19 torch.Size([1, 183, 1703])\n"
     ]
    }
   ],
   "source": [
    "for i,batch in enumerate(a):\n",
    "    batch , _ = batch\n",
    "    print(i, batch.shape)"
   ]
  },
  {
   "cell_type": "code",
   "execution_count": 88,
   "id": "b89ab491-6e70-4f13-9975-91cba79355c2",
   "metadata": {},
   "outputs": [
    {
     "data": {
      "text/plain": [
       "torch_geometric.data.data.Data"
      ]
     },
     "execution_count": 88,
     "metadata": {},
     "output_type": "execute_result"
    }
   ],
   "source": [
    "type(data)"
   ]
  },
  {
   "cell_type": "code",
   "execution_count": 89,
   "id": "6a5c46af-d8e0-44a5-9aa8-75959faac16b",
   "metadata": {},
   "outputs": [],
   "source": [
    "graph = to_networkx(data)"
   ]
  },
  {
   "cell_type": "code",
   "execution_count": 90,
   "id": "29f0b2cb-c41b-4a50-922b-b169d7ae3a2a",
   "metadata": {},
   "outputs": [
    {
     "data": {
      "text/plain": [
       "<networkx.classes.digraph.DiGraph at 0x7f84df73a110>"
      ]
     },
     "execution_count": 90,
     "metadata": {},
     "output_type": "execute_result"
    }
   ],
   "source": [
    "graph"
   ]
  },
  {
   "cell_type": "code",
   "execution_count": 91,
   "id": "6e2b834b-d48e-4e65-86ab-0f3f36450c17",
   "metadata": {},
   "outputs": [
    {
     "data": {
      "text/plain": [
       "183"
      ]
     },
     "execution_count": 91,
     "metadata": {},
     "output_type": "execute_result"
    }
   ],
   "source": [
    "len(graph)"
   ]
  },
  {
   "cell_type": "code",
   "execution_count": 92,
   "id": "f5b67b47-e7b7-41e2-baac-5d986e280d33",
   "metadata": {},
   "outputs": [
    {
     "data": {
      "text/plain": [
       "558"
      ]
     },
     "execution_count": 92,
     "metadata": {},
     "output_type": "execute_result"
    }
   ],
   "source": [
    "graph.number_of_edges()"
   ]
  },
  {
   "cell_type": "code",
   "execution_count": 93,
   "id": "1f36a6f2-7912-4d59-a33d-f22fb156aedf",
   "metadata": {},
   "outputs": [
    {
     "name": "stdout",
     "output_type": "stream",
     "text": [
      "Has isolated nodes: False\n",
      "Has self-loops: False\n",
      "Is undirected: True\n"
     ]
    }
   ],
   "source": [
    "print(f'Has isolated nodes: {data.has_isolated_nodes()}')\n",
    "print(f'Has self-loops: {data.has_self_loops()}')\n",
    "print(f'Is undirected: {data.is_undirected()}')"
   ]
  },
  {
   "cell_type": "code",
   "execution_count": 107,
   "id": "c5203306-47a4-4f68-a1d8-c16a23d6d9ca",
   "metadata": {},
   "outputs": [],
   "source": [
    "from pytorch_lightning import LightningDataModule, LightningModule, Trainer\n",
    "import pytorch_lightning as pl\n",
    "import torch\n",
    "import torch.nn as nn\n",
    "import torch.optim as optim\n",
    "#import torch_sparse\n",
    "\n",
    "class sheaf_learner(object):\n",
    "    \"\"\"docstring for sheaf_learner\n",
    "        rhop: consider r-hop neighbhorhood for pairwise SPSD matrix\n",
    "    \"\"\"\n",
    "    def __init__(self, arg):\n",
    "        super(sheaf_learner, self).__init__()\n",
    "        self.arg = arg\n",
    "\n",
    "    def cholesky_parametrize(self):\n",
    "\n",
    "        return None\n",
    "\n",
    "    #def generate_SPSD(self):\n",
    "\n",
    "\n",
    "\n",
    "\n",
    "\n",
    "#class coboundary(nn.Module):\n",
    "#    \"\"\"docstring for coboundary\"\"\"\n",
    "#    def __init__(self, Ne, Nv, de, dv, edges):\n",
    "#        super(coboundary, self).__init__()\n",
    "#        self.coboundary_vector = torch.zeros()\n",
    "#        self.coboundary_matrix = torch.zeros()\n",
    "\n",
    "#    def forward(self, x):\n",
    "\n",
    "\n",
    "\n",
    "\n",
    "\n",
    "\n",
    "\n",
    "class coboundary_learner(pl.LightningModule):\n",
    "    \"\"\"docstring for coboundary_learner\"\"\"\n",
    "    def __init__(self, graph, Nv, dv, Ne, de, alpha, beta, learning_rate, true_sheaf = None):\n",
    "        super(coboundary_learner, self).__init__()\n",
    "        self.save_hyperparameters()\n",
    "        self.graph = graph\n",
    "        self.learning_rate = learning_rate\n",
    "        #self.backbone = MLP(*modelparams)\n",
    "\n",
    "        self.Ne = Ne\n",
    "        self.Nv = Nv\n",
    "        self.de = de\n",
    "        self.dv = dv\n",
    "        self.alpha = alpha\n",
    "        self.beta  = beta\n",
    "\n",
    "        # Coboundary maps for vertex where edge is outgoing\n",
    "        self.coboundary_vec_out = nn.ParameterList([nn.Parameter(torch.randn(de, dv)) for i in range(self.Ne)])\n",
    "\n",
    "        # Coboundary maps for vertex where edge is coming in\n",
    "        self.coboundary_vec_in  = nn.ParameterList([nn.Parameter(torch.randn(de, dv)) for i in range(self.Ne)])\n",
    "\n",
    "        # Lifting graph to a sheaf\n",
    "        #if do_graph_to_sheaf:\n",
    "        #    # Later change to a more general backbone\n",
    "        #    self.graph_to_sheaf = nn.Linear(self.input_dim, self.Nv*self.dv)\n",
    "\n",
    "        for i in range(self.Ne):\n",
    "            nn.init.normal_(self.coboundary_vec_out[i])\n",
    "            nn.init.normal_(self.coboundary_vec_out[i])\n",
    "            #print(self.coboundary_vec_out[i].size())\n",
    "\n",
    "\n",
    "    def _common_step(self, batch, batch_idx, stage: str):\n",
    "        print(batch.size())\n",
    "        data_covariance = torch.matmul(batch.t(), batch)\n",
    "        #print(batch.size())\n",
    "        coboundary = torch.zeros((self.Ne*self.de, self.Nv*self.dv))\n",
    "\n",
    "        for i, (v1, v2) in enumerate(self.graph.edges):\n",
    "            coboundary[self.de*i:self.de*(i+1),self.dv*v1:self.dv*(v1+1)] = 1. * self.coboundary_vec_out[i]\n",
    "            coboundary[self.de*i:self.de*(i+1),self.dv*v2:self.dv*(v2+1)] = -1.* self.coboundary_vec_in[i]\n",
    "\n",
    "        sheaf_laplacian = torch.matmul(coboundary.t(), coboundary).to(batch)\n",
    "\n",
    "        # Implement Sparse Matrix Multiplication - torch or torch_sparse\n",
    "        dirichlet_energy = torch.trace(torch.matmul(data_covariance, sheaf_laplacian))\n",
    "\n",
    "\n",
    "\n",
    "        reg_connectivity = torch.tensor(0.)\n",
    "        diagonal_norm = torch.tensor(0.)\n",
    "\n",
    "        for i in range(self.Nv):\n",
    "            reg_connectivity = -torch.log(torch.trace(sheaf_laplacian[i*self.dv:(i+1)*self.dv, i*self.dv:(i+1)*self.dv]))\n",
    "            diagonal_norm = torch.norm(sheaf_laplacian[i*self.dv:(i+1)*self.dv, i*self.dv:(i+1)*self.dv])\n",
    "\n",
    "\n",
    "        reg_sparsity = torch.norm(sheaf_laplacian) - diagonal_norm\n",
    "        #print(\"sparsity: \",reg_sparsity)\n",
    "        #print(\"connectivity \", reg_connectivity)\n",
    "        loss = dirichlet_energy + self.alpha * reg_connectivity + self.beta * reg_sparsity\n",
    "        return loss\n",
    "\n",
    "\n",
    "    def calculate_error(self, true_sheaf):\n",
    "\n",
    "        return torch.norm(self.build_laplacian_from_vector()-true_sheaf)\n",
    "\n",
    "\n",
    "    def forward(self):\n",
    "\n",
    "        return self.build_laplacian_from_vector()\n",
    "\n",
    "\n",
    "\n",
    "\n",
    "\n",
    "    def build_laplacian_from_vector(self):\n",
    "\n",
    "        coboundary = torch.zeros((self.Ne*self.de, self.Nv*self.dv))\n",
    "\n",
    "        for i, (v1, v2) in enumerate(self.graph.edges):\n",
    "            coboundary[self.de*i:self.de*(i+1),self.dv*v1:self.dv*(v1+1)] = 1. * self.coboundary_vec_out[i]\n",
    "            coboundary[self.de*i:self.de*(i+1),self.dv*v2:self.dv*(v2+1)] = -1.* self.coboundary_vec_in[i]\n",
    "\n",
    "        sheaf_laplacian = torch.matmul(coboundary.t(), coboundary)\n",
    "\n",
    "        return sheaf_laplacian\n",
    "\n",
    "    #def dirichlet_energy(self, x):\n",
    "\n",
    "    #def regularizer_sparsity(self, x):\n",
    "\n",
    "    #def regularizer_connectivity(self, x):\n",
    "    def training_step(self, batch, batch_idx):\n",
    "        # training_step defined the train loop.\n",
    "        # It is independent of forwardset\n",
    "        loss = self._common_step(batch, batch_idx, \"train\")\n",
    "        self.log(\"train_loss\", loss)\n",
    "        return loss\n",
    "\n",
    "    def validation_step(self, batch, batch_idx):\n",
    "        # training_step defined the train loop.\n",
    "        # It is independent of forward\n",
    "        loss = self._common_step(batch, batch_idx, \"val\")\n",
    "        self.log(\"val_loss\", loss)\n",
    "        return loss\n",
    "\n",
    "    def test_step(self, batch, batch_idx):\n",
    "\n",
    "        loss = self._common_step(batch, batch_idx, \"test\")\n",
    "        return loss\n",
    "\n",
    "    def predict_step(self):\n",
    "        return self.build_laplacian_from_vector()\n",
    "\n",
    "\n",
    "    def configure_optimizers(self):\n",
    "        optimizer = torch.optim.Adam(self.parameters(), lr=self.learning_rate)\n",
    "        return optimizer\n",
    "\n",
    "\n",
    "\n",
    "class coboundary_learner_on_graph_signal(coboundary_learner):\n",
    "    \"\"\"docstring for coboundary_learner_on_graph\"\"\"\n",
    "    def __init__(self, graph, Nv, dv, Ne, de, alpha, beta, learning_rate, input_dim, channels, input_dropout, dropout, true_sheaf = None):\n",
    "        super(coboundary_learner_on_graph_signal, self).__init__(graph, Nv, dv, Ne, de, alpha, beta, learning_rate, true_sheaf = None)\n",
    "        # Lifting graph to a sheaf\n",
    "        # Later change to a more general backbone\n",
    "        # Add Hidden Channel\n",
    "\n",
    "        self.graph_to_sheaf = nn.Linear(input_dim, self.dv*channels)\n",
    "        self.graph_to_sheaf2 = nn.Linear(self.dv*channels, self.dv*channels)\n",
    "        self.input_dropout  = input_dropout\n",
    "        self.dropout        = dropout\n",
    "\n",
    "\n",
    "    def _common_step(self, batch, batch_idx, stage: str):\n",
    "        batch, _  = batch\n",
    "        #print(batch.size())\n",
    "        training = False\n",
    "        if stage == 'train' or 'fit':\n",
    "            training = True\n",
    "        batch = F.dropout(batch, p = self.input_dropout, training=training)\n",
    "        batch = self.graph_to_sheaf(batch)\n",
    "        batch = F.elu(batch)\n",
    "        batch = F.dropout(batch, p = self.dropout, training=training)\n",
    "        batch = self.graph_to_sheaf2(batch)\n",
    "        #if self.use_act:\n",
    "        #    x = F.elu(x)\n",
    "        batch = batch.view(-1, self.Nv * self.dv)\n",
    "\n",
    "\n",
    "        data_covariance = torch.matmul(batch.t(), batch)\n",
    "        #print(batch.size())\n",
    "        coboundary = torch.zeros((self.Ne*self.de, self.Nv*self.dv))\n",
    "\n",
    "        for i, (v1, v2) in enumerate(self.graph.edges):\n",
    "            coboundary[self.de*i:self.de*(i+1),self.dv*v1:self.dv*(v1+1)] = 1. * self.coboundary_vec_out[i]\n",
    "            coboundary[self.de*i:self.de*(i+1),self.dv*v2:self.dv*(v2+1)] = -1.* self.coboundary_vec_in[i]\n",
    "\n",
    "        sheaf_laplacian = torch.matmul(coboundary.t(), coboundary).to(batch)\n",
    "\n",
    "        # Implement Sparse Matrix Multiplication - torch or torch_sparse\n",
    "        dirichlet_energy = torch.trace(torch.matmul(data_covariance, sheaf_laplacian))\n",
    "\n",
    "\n",
    "\n",
    "        reg_connectivity = torch.tensor(0.)\n",
    "        diagonal_norm = torch.tensor(0.)\n",
    "\n",
    "        for i in range(self.Nv):\n",
    "            reg_connectivity = -torch.log(torch.trace(sheaf_laplacian[i*self.dv:(i+1)*self.dv, i*self.dv:(i+1)*self.dv]))\n",
    "            diagonal_norm = torch.norm(sheaf_laplacian[i*self.dv:(i+1)*self.dv, i*self.dv:(i+1)*self.dv])\n",
    "\n",
    "\n",
    "        reg_sparsity = torch.norm(sheaf_laplacian) - diagonal_norm\n",
    "        #print(\"sparsity: \",reg_sparsity)\n",
    "        #print(\"connectivity \", reg_connectivity)\n",
    "        loss = dirichlet_energy + self.alpha * reg_connectivity + self.beta * reg_sparsity\n",
    "        return loss\n",
    "\n"
   ]
  },
  {
   "cell_type": "code",
   "execution_count": 108,
   "id": "98691134-3009-4aeb-97c8-24a5c7434022",
   "metadata": {},
   "outputs": [],
   "source": [
    "sheaf_dm = SheafDataModule_ForGraphs(data, 200, 1)"
   ]
  },
  {
   "cell_type": "code",
   "execution_count": 109,
   "id": "4c39598f-7626-4a42-83f6-7e9f60fbc607",
   "metadata": {},
   "outputs": [
    {
     "data": {
      "text/plain": [
       "183"
      ]
     },
     "execution_count": 109,
     "metadata": {},
     "output_type": "execute_result"
    }
   ],
   "source": [
    "len(graph)"
   ]
  },
  {
   "cell_type": "code",
   "execution_count": 110,
   "id": "c0aef98f-3a98-4a23-9ba6-fe70314a68b9",
   "metadata": {},
   "outputs": [
    {
     "data": {
      "text/plain": [
       "558"
      ]
     },
     "execution_count": 110,
     "metadata": {},
     "output_type": "execute_result"
    }
   ],
   "source": [
    "graph.number_of_edges()"
   ]
  },
  {
   "cell_type": "code",
   "execution_count": 111,
   "id": "fc77846b-91f9-4c9c-972d-62bda6a54e28",
   "metadata": {},
   "outputs": [],
   "source": [
    "model = coboundary_learner_on_graph_signal( to_networkx(data), len(graph), 2,graph.number_of_edges(), 2, .01, .01, 0.0001,1703, 4,0.1,0.1)"
   ]
  },
  {
   "cell_type": "code",
   "execution_count": 112,
   "id": "b57376c1-5c1d-4de9-b1e7-d132136d4cd7",
   "metadata": {},
   "outputs": [],
   "source": [
    "early_stop_callback = EarlyStopping(monitor=\"val_loss\", min_delta=0.01, patience=5, verbose=False)"
   ]
  },
  {
   "cell_type": "code",
   "execution_count": 113,
   "id": "e106168a-53c2-4508-a52f-b60ed89af4b9",
   "metadata": {},
   "outputs": [],
   "source": [
    "\n",
    "import os\n",
    "import torch\n",
    "from torch import nn\n",
    "import torch.nn.functional as F\n",
    "from torch.utils.data import DataLoader, random_split\n",
    "import pytorch_lightning as pl\n",
    "from pytorch_lightning import Trainer\n",
    "from pytorch_lightning.callbacks.early_stopping import EarlyStopping\n",
    "from pytorch_lightning.callbacks import ModelCheckpoint\n"
   ]
  },
  {
   "cell_type": "code",
   "execution_count": 114,
   "id": "75f855ad-4bea-42d9-8673-f1cd2de8130b",
   "metadata": {},
   "outputs": [],
   "source": [
    "checkpoint_callback = ModelCheckpoint(\n",
    "    monitor=\"val_loss\",\n",
    "    dirpath=\"/root/projects/temp_checkpoints\",\n",
    "    filename=\"test-1-sheaflearn-{epoch:02d}-{val_loss:.2f}\",\n",
    "    save_top_k=4,\n",
    "    mode=\"min\",\n",
    ")"
   ]
  },
  {
   "cell_type": "code",
   "execution_count": 115,
   "id": "73969dc6-4007-4fe1-927f-e55ae131c45e",
   "metadata": {},
   "outputs": [],
   "source": [
    "from pytorch_lightning.callbacks import Callback\n",
    "class PrintCallbacks(Callback):\n",
    "    def on_init_start(self, trainer):\n",
    "        print(\"Starting to init trainer!\")\n",
    "\n",
    "    def on_init_end(self, trainer):\n",
    "        print(\"Trainer is init now\")\n",
    "\n",
    "    def on_train_end(self, trainer, pl_module):\n",
    "        print(\"Training ended\")"
   ]
  },
  {
   "cell_type": "code",
   "execution_count": 116,
   "id": "e378b2fe-1c27-4e7a-9fb9-34df7948c028",
   "metadata": {},
   "outputs": [],
   "source": [
    "from pytorch_lightning.callbacks import TQDMProgressBar\n"
   ]
  },
  {
   "cell_type": "code",
   "execution_count": 117,
   "id": "a7126ede-fbca-472a-86a6-f6dbfbe07214",
   "metadata": {},
   "outputs": [
    {
     "data": {
      "text/plain": [
       "True"
      ]
     },
     "execution_count": 117,
     "metadata": {},
     "output_type": "execute_result"
    }
   ],
   "source": [
    "torch.cuda.is_available()"
   ]
  },
  {
   "cell_type": "code",
   "execution_count": 118,
   "id": "afa018ec-64a8-4ad5-9af3-2b1871d0a63a",
   "metadata": {},
   "outputs": [
    {
     "name": "stdout",
     "output_type": "stream",
     "text": [
      "Starting to init trainer!\n"
     ]
    },
    {
     "name": "stderr",
     "output_type": "stream",
     "text": [
      "GPU available: True (cuda), used: True\n",
      "TPU available: False, using: 0 TPU cores\n",
      "IPU available: False, using: 0 IPUs\n",
      "HPU available: False, using: 0 HPUs\n"
     ]
    },
    {
     "name": "stdout",
     "output_type": "stream",
     "text": [
      "Trainer is init now\n"
     ]
    }
   ],
   "source": [
    "trainer = Trainer(accelerator='gpu',callbacks=[TQDMProgressBar(refresh_rate=10),PrintCallbacks(),early_stop_callback,checkpoint_callback],logger=wandb_logger,auto_lr_find=True)"
   ]
  },
  {
   "cell_type": "code",
   "execution_count": 119,
   "id": "a1c88324-bd4a-46e3-a46c-abe200a61c2f",
   "metadata": {},
   "outputs": [
    {
     "name": "stderr",
     "output_type": "stream",
     "text": [
      "LOCAL_RANK: 0 - CUDA_VISIBLE_DEVICES: [0]\n"
     ]
    },
    {
     "data": {
      "application/vnd.jupyter.widget-view+json": {
       "model_id": "e701aa641fc1438682345c4de512ac02",
       "version_major": 2,
       "version_minor": 0
      },
      "text/plain": [
       "Finding best initial lr:   0%|          | 0/100 [00:00<?, ?it/s]"
      ]
     },
     "metadata": {},
     "output_type": "display_data"
    },
    {
     "name": "stderr",
     "output_type": "stream",
     "text": [
      "`Trainer.fit` stopped: `max_steps=100` reached.\n",
      "Restoring states from the checkpoint path at /root/projects/sheaf-learn-project/notebooks/.lr_find_4fb97279-395a-4dbc-81ef-62442081c350.ckpt\n"
     ]
    }
   ],
   "source": [
    "lr_finder = trainer.tuner.lr_find(model, sheaf_dm)"
   ]
  },
  {
   "cell_type": "code",
   "execution_count": 120,
   "id": "beda35a4-edee-405f-bd3f-80c51053740f",
   "metadata": {},
   "outputs": [
    {
     "data": {
      "image/png": "[encoded data removed]",
      "text/plain": [
       "<Figure size 640x480 with 1 Axes>"
      ]
     },
     "metadata": {},
     "output_type": "display_data"
    }
   ],
   "source": [
    "\n",
    "\n",
    "fig = lr_finder.plot(suggest=True)\n",
    "fig.show()\n",
    "\n"
   ]
  },
  {
   "cell_type": "code",
   "execution_count": 122,
   "id": "e0074fb3-bd58-49cb-ac0f-ada823247eaf",
   "metadata": {},
   "outputs": [],
   "source": [
    "new_lr = lr_finder.suggestion()\n",
    "\n",
    "model.hparams.learning_rate = new_lr\n",
    "\n",
    "model.learning_rate = new_lr"
   ]
  },
  {
   "cell_type": "code",
   "execution_count": 123,
   "id": "422d7d8a-bdad-4625-acd5-773ba41f2aa9",
   "metadata": {},
   "outputs": [
    {
     "name": "stderr",
     "output_type": "stream",
     "text": [
      "/root/miniconda3/envs/sheaflearn/lib/python3.10/site-packages/pytorch_lightning/trainer/configuration_validator.py:229: LightningDeprecationWarning: The `on_init_start` callback hook was deprecated in v1.6 and will be removed in v1.8.\n",
      "  rank_zero_deprecation(\n",
      "/root/miniconda3/envs/sheaflearn/lib/python3.10/site-packages/pytorch_lightning/trainer/configuration_validator.py:233: LightningDeprecationWarning: The `on_init_end` callback hook was deprecated in v1.6 and will be removed in v1.8.\n",
      "  rank_zero_deprecation(\"The `on_init_end` callback hook was deprecated in v1.6 and will be removed in v1.8.\")\n",
      "/root/miniconda3/envs/sheaflearn/lib/python3.10/site-packages/pytorch_lightning/callbacks/model_checkpoint.py:616: UserWarning: Checkpoint directory /root/projects/temp_checkpoints exists and is not empty.\n",
      "  rank_zero_warn(f\"Checkpoint directory {dirpath} exists and is not empty.\")\n",
      "LOCAL_RANK: 0 - CUDA_VISIBLE_DEVICES: [0]\n",
      "\n",
      "  | Name               | Type          | Params\n",
      "-----------------------------------------------------\n",
      "0 | coboundary_vec_out | ParameterList | 2.2 K \n",
      "1 | coboundary_vec_in  | ParameterList | 2.2 K \n",
      "2 | graph_to_sheaf     | Linear        | 13.6 K\n",
      "3 | graph_to_sheaf2    | Linear        | 72    \n",
      "-----------------------------------------------------\n",
      "18.2 K    Trainable params\n",
      "0         Non-trainable params\n",
      "18.2 K    Total params\n",
      "0.073     Total estimated model params size (MB)\n"
     ]
    },
    {
     "data": {
      "application/vnd.jupyter.widget-view+json": {
       "model_id": "",
       "version_major": 2,
       "version_minor": 0
      },
      "text/plain": [
       "Sanity Checking: 0it [00:00, ?it/s]"
      ]
     },
     "metadata": {},
     "output_type": "display_data"
    },
    {
     "data": {
      "application/vnd.jupyter.widget-view+json": {
       "model_id": "79642be0444948a989e0256c381e3448",
       "version_major": 2,
       "version_minor": 0
      },
      "text/plain": [
       "Training: 0it [00:00, ?it/s]"
      ]
     },
     "metadata": {},
     "output_type": "display_data"
    },
    {
     "data": {
      "application/vnd.jupyter.widget-view+json": {
       "model_id": "",
       "version_major": 2,
       "version_minor": 0
      },
      "text/plain": [
       "Validation: 0it [00:00, ?it/s]"
      ]
     },
     "metadata": {},
     "output_type": "display_data"
    },
    {
     "data": {
      "application/vnd.jupyter.widget-view+json": {
       "model_id": "",
       "version_major": 2,
       "version_minor": 0
      },
      "text/plain": [
       "Validation: 0it [00:00, ?it/s]"
      ]
     },
     "metadata": {},
     "output_type": "display_data"
    },
    {
     "data": {
      "application/vnd.jupyter.widget-view+json": {
       "model_id": "",
       "version_major": 2,
       "version_minor": 0
      },
      "text/plain": [
       "Validation: 0it [00:00, ?it/s]"
      ]
     },
     "metadata": {},
     "output_type": "display_data"
    },
    {
     "data": {
      "application/vnd.jupyter.widget-view+json": {
       "model_id": "",
       "version_major": 2,
       "version_minor": 0
      },
      "text/plain": [
       "Validation: 0it [00:00, ?it/s]"
      ]
     },
     "metadata": {},
     "output_type": "display_data"
    },
    {
     "data": {
      "application/vnd.jupyter.widget-view+json": {
       "model_id": "",
       "version_major": 2,
       "version_minor": 0
      },
      "text/plain": [
       "Validation: 0it [00:00, ?it/s]"
      ]
     },
     "metadata": {},
     "output_type": "display_data"
    },
    {
     "data": {
      "application/vnd.jupyter.widget-view+json": {
       "model_id": "",
       "version_major": 2,
       "version_minor": 0
      },
      "text/plain": [
       "Validation: 0it [00:00, ?it/s]"
      ]
     },
     "metadata": {},
     "output_type": "display_data"
    },
    {
     "data": {
      "application/vnd.jupyter.widget-view+json": {
       "model_id": "",
       "version_major": 2,
       "version_minor": 0
      },
      "text/plain": [
       "Validation: 0it [00:00, ?it/s]"
      ]
     },
     "metadata": {},
     "output_type": "display_data"
    },
    {
     "data": {
      "application/vnd.jupyter.widget-view+json": {
       "model_id": "",
       "version_major": 2,
       "version_minor": 0
      },
      "text/plain": [
       "Validation: 0it [00:00, ?it/s]"
      ]
     },
     "metadata": {},
     "output_type": "display_data"
    },
    {
     "data": {
      "application/vnd.jupyter.widget-view+json": {
       "model_id": "",
       "version_major": 2,
       "version_minor": 0
      },
      "text/plain": [
       "Validation: 0it [00:00, ?it/s]"
      ]
     },
     "metadata": {},
     "output_type": "display_data"
    },
    {
     "data": {
      "application/vnd.jupyter.widget-view+json": {
       "model_id": "",
       "version_major": 2,
       "version_minor": 0
      },
      "text/plain": [
       "Validation: 0it [00:00, ?it/s]"
      ]
     },
     "metadata": {},
     "output_type": "display_data"
    },
    {
     "data": {
      "application/vnd.jupyter.widget-view+json": {
       "model_id": "",
       "version_major": 2,
       "version_minor": 0
      },
      "text/plain": [
       "Validation: 0it [00:00, ?it/s]"
      ]
     },
     "metadata": {},
     "output_type": "display_data"
    },
    {
     "data": {
      "application/vnd.jupyter.widget-view+json": {
       "model_id": "",
       "version_major": 2,
       "version_minor": 0
      },
      "text/plain": [
       "Validation: 0it [00:00, ?it/s]"
      ]
     },
     "metadata": {},
     "output_type": "display_data"
    },
    {
     "data": {
      "application/vnd.jupyter.widget-view+json": {
       "model_id": "",
       "version_major": 2,
       "version_minor": 0
      },
      "text/plain": [
       "Validation: 0it [00:00, ?it/s]"
      ]
     },
     "metadata": {},
     "output_type": "display_data"
    },
    {
     "data": {
      "application/vnd.jupyter.widget-view+json": {
       "model_id": "",
       "version_major": 2,
       "version_minor": 0
      },
      "text/plain": [
       "Validation: 0it [00:00, ?it/s]"
      ]
     },
     "metadata": {},
     "output_type": "display_data"
    },
    {
     "data": {
      "application/vnd.jupyter.widget-view+json": {
       "model_id": "",
       "version_major": 2,
       "version_minor": 0
      },
      "text/plain": [
       "Validation: 0it [00:00, ?it/s]"
      ]
     },
     "metadata": {},
     "output_type": "display_data"
    },
    {
     "data": {
      "application/vnd.jupyter.widget-view+json": {
       "model_id": "",
       "version_major": 2,
       "version_minor": 0
      },
      "text/plain": [
       "Validation: 0it [00:00, ?it/s]"
      ]
     },
     "metadata": {},
     "output_type": "display_data"
    },
    {
     "data": {
      "application/vnd.jupyter.widget-view+json": {
       "model_id": "",
       "version_major": 2,
       "version_minor": 0
      },
      "text/plain": [
       "Validation: 0it [00:00, ?it/s]"
      ]
     },
     "metadata": {},
     "output_type": "display_data"
    },
    {
     "data": {
      "application/vnd.jupyter.widget-view+json": {
       "model_id": "",
       "version_major": 2,
       "version_minor": 0
      },
      "text/plain": [
       "Validation: 0it [00:00, ?it/s]"
      ]
     },
     "metadata": {},
     "output_type": "display_data"
    },
    {
     "data": {
      "application/vnd.jupyter.widget-view+json": {
       "model_id": "",
       "version_major": 2,
       "version_minor": 0
      },
      "text/plain": [
       "Validation: 0it [00:00, ?it/s]"
      ]
     },
     "metadata": {},
     "output_type": "display_data"
    },
    {
     "data": {
      "application/vnd.jupyter.widget-view+json": {
       "model_id": "",
       "version_major": 2,
       "version_minor": 0
      },
      "text/plain": [
       "Validation: 0it [00:00, ?it/s]"
      ]
     },
     "metadata": {},
     "output_type": "display_data"
    },
    {
     "data": {
      "application/vnd.jupyter.widget-view+json": {
       "model_id": "",
       "version_major": 2,
       "version_minor": 0
      },
      "text/plain": [
       "Validation: 0it [00:00, ?it/s]"
      ]
     },
     "metadata": {},
     "output_type": "display_data"
    },
    {
     "name": "stdout",
     "output_type": "stream",
     "text": [
      "Training ended\n"
     ]
    }
   ],
   "source": [
    "trainer.fit(model, sheaf_dm)"
   ]
  },
  {
   "cell_type": "code",
   "execution_count": 124,
   "id": "4c297832-139c-4342-ba3e-d5aa7bae5d7b",
   "metadata": {},
   "outputs": [
    {
     "data": {
      "text/plain": [
       "tensor([[ 2.3138e-01, -5.0911e-03,  0.0000e+00,  ...,  0.0000e+00,\n",
       "          0.0000e+00,  0.0000e+00],\n",
       "        [-5.0911e-03,  1.6431e+00,  0.0000e+00,  ...,  0.0000e+00,\n",
       "          0.0000e+00,  0.0000e+00],\n",
       "        [ 0.0000e+00,  0.0000e+00,  5.6325e-02,  ...,  0.0000e+00,\n",
       "          0.0000e+00,  0.0000e+00],\n",
       "        ...,\n",
       "        [ 0.0000e+00,  0.0000e+00,  0.0000e+00,  ...,  1.1679e+00,\n",
       "          0.0000e+00,  0.0000e+00],\n",
       "        [ 0.0000e+00,  0.0000e+00,  0.0000e+00,  ...,  0.0000e+00,\n",
       "          9.0863e+02,  3.0557e+02],\n",
       "        [ 0.0000e+00,  0.0000e+00,  0.0000e+00,  ...,  0.0000e+00,\n",
       "          3.0557e+02,  1.4369e+02]], grad_fn=<MmBackward0>)"
      ]
     },
     "execution_count": 124,
     "metadata": {},
     "output_type": "execute_result"
    }
   ],
   "source": [
    "model.build_laplacian_from_vector()"
   ]
  },
  {
   "cell_type": "code",
   "execution_count": null,
   "id": "104fb013-61c7-452f-b843-a9d7d219b90b",
   "metadata": {},
   "outputs": [],
   "source": []
  }
 ],
 "metadata": {
  "kernelspec": {
   "display_name": "sheaflearn",
   "language": "python",
   "name": "sheaflearn"
  },
  "language_info": {
   "codemirror_mode": {
    "name": "ipython",
    "version": 3
   },
   "file_extension": ".py",
   "mimetype": "text/x-python",
   "name": "python",
   "nbconvert_exporter": "python",
   "pygments_lexer": "ipython3",
   "version": "3.10.8"
  }
 },
 "nbformat": 4,
 "nbformat_minor": 5
}
