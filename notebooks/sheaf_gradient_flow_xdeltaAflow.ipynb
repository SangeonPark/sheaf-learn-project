{
 "cells": [
  {
   "cell_type": "code",
   "execution_count": 1,
   "id": "52d438b8-1f7b-4829-a6c2-d71dce051bdd",
   "metadata": {},
   "outputs": [],
   "source": [
    "%load_ext autoreload\n",
    "%autoreload 2"
   ]
  },
  {
   "cell_type": "code",
   "execution_count": 2,
   "id": "3860f244-f4fb-4d21-9c58-f13c1dad470e",
   "metadata": {},
   "outputs": [],
   "source": [
    "import os\n",
    "\n",
    "import torch\n",
    "import torch.nn.functional as F\n",
    "from torch.utils.data import DataLoader, random_split\n",
    "import torch.nn as nn\n",
    "import torch.optim as optim\n",
    "\n",
    "from torch_geometric.utils import from_networkx, to_networkx\n",
    "\n",
    "\n",
    "import pytorch_lightning as pl\n",
    "from pytorch_lightning import LightningDataModule, LightningModule, Trainer\n",
    "from pytorch_lightning.callbacks.early_stopping import EarlyStopping\n",
    "from pytorch_lightning.callbacks import ModelCheckpoint, Callback, TQDMProgressBar\n",
    "from pytorch_lightning.loggers import WandbLogger\n",
    "\n",
    "\n",
    "\n",
    "from typing import Callable, Optional"
   ]
  },
  {
   "cell_type": "code",
   "execution_count": 3,
   "id": "35a18938-1f41-450b-8c2f-fdfe0f571ea7",
   "metadata": {},
   "outputs": [],
   "source": [
    "import sys\n",
    "sys.path.insert(0,'..')"
   ]
  },
  {
   "cell_type": "code",
   "execution_count": 4,
   "id": "99d976ff-eb17-4097-885c-2550d5c373a8",
   "metadata": {},
   "outputs": [],
   "source": [
    "from utils.heterophilic import get_dataset, get_fixed_splits, WebKB, Actor\n",
    "from project.sheaf_datamodule import SheafDataset_ForGraphs, SheafDataModule_ForGraphs\n",
    "from project.sheaf_learner import coboundary_learner_on_graph_signal\n",
    "from project.sheaf_diffusion import sheaf_diffusion\n",
    "from project.sheaf_simultaneous_sparse import sheaf_gradient_flow\n",
    "from project.sheaf_simultaneous_potential_xdeltaAflow import sheaf_gradient_flow_potential_xdeltaA"
   ]
  },
  {
   "cell_type": "code",
   "execution_count": 5,
   "id": "9d5469d4-4532-4bf8-8a0b-c2c3247a783f",
   "metadata": {},
   "outputs": [],
   "source": [
    "dataset = get_dataset('texas')\n",
    "data = dataset[0]\n",
    "data = get_fixed_splits(data, 'texas', 0)"
   ]
  },
  {
   "cell_type": "code",
   "execution_count": 6,
   "id": "b9aae9b0-14e5-46a7-a3dd-91fead6159d5",
   "metadata": {},
   "outputs": [],
   "source": [
    "graph = to_networkx(data)"
   ]
  },
  {
   "cell_type": "code",
   "execution_count": 7,
   "id": "049635a4-b140-4ac8-94d5-a9d45a8590c3",
   "metadata": {},
   "outputs": [],
   "source": [
    "mask = {'train_mask':data.train_mask, \n",
    "        'val_mask':data.val_mask, \n",
    "        'test_mask':data.test_mask\n",
    "       }"
   ]
  },
  {
   "cell_type": "code",
   "execution_count": 8,
   "id": "381f438d-d395-488c-833e-051a25d5b93b",
   "metadata": {},
   "outputs": [],
   "source": [
    "#    def __init__(self, graph, Nv, dv, Ne, de, layers, input_dim, output_dim, channels, left_weights, right_weights, mask, use_act, augmented, add_lp, add_hp, dropout,input_dropout, learning_rate = 0.01):\n",
    "#         def __init__(self, graph, Nv, dv, Ne, de, layers, input_dim, output_dim, channels, left_weights, right_weights, potential, mask, use_act, augmented, add_lp, add_hp, dropout, input_dropout, learning_rate = 0.01):\n",
    "#    def __init__(self, graph, Nv, dv, Ne, de, layers, input_dim, output_dim, channels, left_weights, right_weights, potential, mask, use_act, augmented, add_lp, add_hp, dropout, input_dropout, perturb_diagonal, allow_neg_potential, learning_rate = 0.01):\n",
    "\n",
    "model_diffusion = sheaf_gradient_flow_potential_xdeltaA(graph, 183, 2, graph.number_of_edges(), 2, 4, 1703,5, 3, False, True, 'radial', mask, True,True,True,True, 0.1,0.1,False, False, False, False, 0.001)"
   ]
  },
  {
   "cell_type": "code",
   "execution_count": 9,
   "id": "e8dd2b1e-d4f2-414c-878e-d9aec3e20af8",
   "metadata": {},
   "outputs": [],
   "source": [
    "#model_diffusion"
   ]
  },
  {
   "cell_type": "code",
   "execution_count": 10,
   "id": "ff56d7dd-26f9-464e-a7a5-b965fff43932",
   "metadata": {},
   "outputs": [
    {
     "name": "stderr",
     "output_type": "stream",
     "text": [
      "\u001b[34m\u001b[1mwandb\u001b[0m: Currently logged in as: \u001b[33msaepark\u001b[0m. Use \u001b[1m`wandb login --relogin`\u001b[0m to force relogin\n"
     ]
    },
    {
     "data": {
      "text/html": [
       "wandb version 0.13.7 is available!  To upgrade, please run:\n",
       " $ pip install wandb --upgrade"
      ],
      "text/plain": [
       "<IPython.core.display.HTML object>"
      ]
     },
     "metadata": {},
     "output_type": "display_data"
    },
    {
     "data": {
      "text/html": [
       "Tracking run with wandb version 0.13.5"
      ],
      "text/plain": [
       "<IPython.core.display.HTML object>"
      ]
     },
     "metadata": {},
     "output_type": "display_data"
    },
    {
     "data": {
      "text/html": [
       "Run data is saved locally in <code>./wandb/run-20221219_215032-f7kkln7k</code>"
      ],
      "text/plain": [
       "<IPython.core.display.HTML object>"
      ]
     },
     "metadata": {},
     "output_type": "display_data"
    },
    {
     "data": {
      "text/html": [
       "Syncing run <strong><a href=\"https://wandb.ai/saepark/sheaf_potential_xdeltaAflow/runs/f7kkln7k\" target=\"_blank\">earthy-yogurt-30</a></strong> to <a href=\"https://wandb.ai/saepark/sheaf_potential_xdeltaAflow\" target=\"_blank\">Weights & Biases</a> (<a href=\"https://wandb.me/run\" target=\"_blank\">docs</a>)<br/>"
      ],
      "text/plain": [
       "<IPython.core.display.HTML object>"
      ]
     },
     "metadata": {},
     "output_type": "display_data"
    }
   ],
   "source": [
    "wandb_logger_diffusion = WandbLogger(project=\"sheaf_potential_xdeltaAflow\")"
   ]
  },
  {
   "cell_type": "code",
   "execution_count": 11,
   "id": "246b78f4-ce11-468b-b7b7-d35d4908902d",
   "metadata": {},
   "outputs": [],
   "source": [
    "early_stop_callback = EarlyStopping(monitor=\"val_acc\", min_delta=0.000, patience=200, verbose=False, mode='max')\n",
    "checkpoint_callback = ModelCheckpoint(\n",
    "    monitor=\"val_acc\",\n",
    "    dirpath=\"/root/projects/temp_checkpoints\",\n",
    "    filename=\"test-potential-xdeltaAflow-{epoch:02d}-{val_loss:.2f}-{val_acc:.2f}\",\n",
    "    save_top_k=10,\n",
    "    mode=\"max\",\n",
    ")\n",
    "class PrintCallbacks(Callback):\n",
    "    def on_init_start(self, trainer):\n",
    "        print(\"Starting to init trainer!\")\n",
    "\n",
    "    def on_init_end(self, trainer):\n",
    "        print(\"Trainer is init now\")\n",
    "\n",
    "    def on_train_end(self, trainer, pl_module):\n",
    "        print(\"Training ended\")\n"
   ]
  },
  {
   "cell_type": "code",
   "execution_count": 12,
   "id": "b35ebe72-a47c-493d-9fe7-1d8ac44e2fdc",
   "metadata": {},
   "outputs": [],
   "source": [
    "sheaf_dm = SheafDataModule_ForGraphs(data, 10 , 1)"
   ]
  },
  {
   "cell_type": "code",
   "execution_count": 13,
   "id": "dffb774d-e239-4792-ae07-07ad0c326427",
   "metadata": {},
   "outputs": [
    {
     "name": "stdout",
     "output_type": "stream",
     "text": [
      "Starting to init trainer!\n"
     ]
    },
    {
     "name": "stderr",
     "output_type": "stream",
     "text": [
      "GPU available: True (cuda), used: True\n",
      "TPU available: False, using: 0 TPU cores\n",
      "IPU available: False, using: 0 IPUs\n",
      "HPU available: False, using: 0 HPUs\n"
     ]
    },
    {
     "name": "stdout",
     "output_type": "stream",
     "text": [
      "Trainer is init now\n"
     ]
    }
   ],
   "source": [
    "trainer = Trainer(accelerator='gpu',callbacks=[TQDMProgressBar(refresh_rate=10),PrintCallbacks(),early_stop_callback,checkpoint_callback],logger=wandb_logger_diffusion,auto_lr_find=True)"
   ]
  },
  {
   "cell_type": "code",
   "execution_count": 14,
   "id": "ea2e0edf-2fc4-485c-842b-c1ea6285fadf",
   "metadata": {},
   "outputs": [
    {
     "name": "stderr",
     "output_type": "stream",
     "text": [
      "LOCAL_RANK: 0 - CUDA_VISIBLE_DEVICES: [0]\n",
      "/root/miniconda3/envs/sheaflearn/lib/python3.10/site-packages/pytorch_lightning/trainer/trainer.py:1892: PossibleUserWarning: The number of training batches (10) is smaller than the logging interval Trainer(log_every_n_steps=50). Set a lower value for log_every_n_steps if you want to see logs for the training epoch.\n",
      "  rank_zero_warn(\n"
     ]
    },
    {
     "data": {
      "application/vnd.jupyter.widget-view+json": {
       "model_id": "2a15bed21ca1468382cd424cbcd21125",
       "version_major": 2,
       "version_minor": 0
      },
      "text/plain": [
       "Finding best initial lr:   0%|          | 0/100 [00:00<?, ?it/s]"
      ]
     },
     "metadata": {},
     "output_type": "display_data"
    },
    {
     "name": "stderr",
     "output_type": "stream",
     "text": [
      "`Trainer.fit` stopped: `max_steps=2` reached.\n",
      "LR finder stopped early after 2 steps due to diverging loss.\n",
      "Restoring states from the checkpoint path at /root/projects/sheaf-learn-project/notebooks/.lr_find_23a826ca-fc8b-439f-92b0-0abc9d237a75.ckpt\n"
     ]
    }
   ],
   "source": [
    "lr_finder = trainer.tuner.lr_find(model_diffusion, sheaf_dm)"
   ]
  },
  {
   "cell_type": "code",
   "execution_count": 15,
   "id": "0d90c321-9ef4-4117-ad4a-48f9b522c24c",
   "metadata": {},
   "outputs": [
    {
     "name": "stderr",
     "output_type": "stream",
     "text": [
      "Failed to compute suggestion for learning rate because there are not enough points. Increase the loop iteration limits or the size of your dataset/dataloader.\n"
     ]
    },
    {
     "data": {
      "image/png": "[encoded data removed]",
      "text/plain": [
       "<Figure size 640x480 with 1 Axes>"
      ]
     },
     "metadata": {},
     "output_type": "display_data"
    }
   ],
   "source": [
    "fig = lr_finder.plot(suggest=True)\n",
    "fig.show()"
   ]
  },
  {
   "cell_type": "code",
   "execution_count": 16,
   "id": "11bc3e0e-c0bb-4025-a0b3-40749cda9c91",
   "metadata": {},
   "outputs": [
    {
     "name": "stderr",
     "output_type": "stream",
     "text": [
      "Failed to compute suggestion for learning rate because there are not enough points. Increase the loop iteration limits or the size of your dataset/dataloader.\n"
     ]
    }
   ],
   "source": [
    "new_lr = lr_finder.suggestion()\n",
    "model_diffusion.hparams.learning_rate = 0.01\n",
    "model_diffusion.learning_rate = 0.01\n",
    "#model_diffusion.hparams.learning_rate = new_lr\n",
    "#model_diffusion.learning_rate = new_lr"
   ]
  },
  {
   "cell_type": "code",
   "execution_count": 17,
   "id": "972548d4-534a-4a65-80b6-20a8ea65794a",
   "metadata": {},
   "outputs": [
    {
     "name": "stderr",
     "output_type": "stream",
     "text": [
      "/root/miniconda3/envs/sheaflearn/lib/python3.10/site-packages/pytorch_lightning/trainer/configuration_validator.py:229: LightningDeprecationWarning: The `on_init_start` callback hook was deprecated in v1.6 and will be removed in v1.8.\n",
      "  rank_zero_deprecation(\n",
      "/root/miniconda3/envs/sheaflearn/lib/python3.10/site-packages/pytorch_lightning/trainer/configuration_validator.py:233: LightningDeprecationWarning: The `on_init_end` callback hook was deprecated in v1.6 and will be removed in v1.8.\n",
      "  rank_zero_deprecation(\"The `on_init_end` callback hook was deprecated in v1.6 and will be removed in v1.8.\")\n",
      "/root/miniconda3/envs/sheaflearn/lib/python3.10/site-packages/pytorch_lightning/callbacks/model_checkpoint.py:616: UserWarning: Checkpoint directory /root/projects/temp_checkpoints exists and is not empty.\n",
      "  rank_zero_warn(f\"Checkpoint directory {dirpath} exists and is not empty.\")\n",
      "LOCAL_RANK: 0 - CUDA_VISIBLE_DEVICES: [0]\n",
      "\n",
      "   | Name                       | Type          | Params\n",
      "--------------------------------------------------------------\n",
      "0  | coboundary_vec_out         | ParameterList | 2.2 K \n",
      "1  | coboundary_vec_in          | ParameterList | 2.2 K \n",
      "2  | graph_to_sheaf             | Linear        | 20.4 K\n",
      "3  | graph_to_sheaf2            | Linear        | 156   \n",
      "4  | graph_to_sheaf3            | Linear        | 156   \n",
      "5  | self_energy_channel_mixing | Linear        | 12    \n",
      "6  | self_energy_stalk_mixing   | Linear        | 20    \n",
      "7  | diffusion_stalk_mixing     | Linear        | 20    \n",
      "8  | diffusion_channel_mixing   | Linear        | 12    \n",
      "9  | lin_left_weights           | ModuleList    | 0     \n",
      "10 | lin_right_weights          | ModuleList    | 36    \n",
      "11 | batch_norms                | ModuleList    | 0     \n",
      "12 | epsilons                   | ParameterList | 16    \n",
      "13 | lin2                       | Linear        | 65    \n",
      "--------------------------------------------------------------\n",
      "26.0 K    Trainable params\n",
      "0         Non-trainable params\n",
      "26.0 K    Total params\n",
      "0.104     Total estimated model params size (MB)\n"
     ]
    },
    {
     "data": {
      "application/vnd.jupyter.widget-view+json": {
       "model_id": "",
       "version_major": 2,
       "version_minor": 0
      },
      "text/plain": [
       "Sanity Checking: 0it [00:00, ?it/s]"
      ]
     },
     "metadata": {},
     "output_type": "display_data"
    },
    {
     "name": "stderr",
     "output_type": "stream",
     "text": [
      "/root/miniconda3/envs/sheaflearn/lib/python3.10/site-packages/pytorch_lightning/trainer/trainer.py:1892: PossibleUserWarning: The number of training batches (10) is smaller than the logging interval Trainer(log_every_n_steps=50). Set a lower value for log_every_n_steps if you want to see logs for the training epoch.\n",
      "  rank_zero_warn(\n"
     ]
    },
    {
     "data": {
      "application/vnd.jupyter.widget-view+json": {
       "model_id": "2a00642baad24e0e94be867cc8b9d774",
       "version_major": 2,
       "version_minor": 0
      },
      "text/plain": [
       "Training: 0it [00:00, ?it/s]"
      ]
     },
     "metadata": {},
     "output_type": "display_data"
    },
    {
     "data": {
      "application/vnd.jupyter.widget-view+json": {
       "model_id": "",
       "version_major": 2,
       "version_minor": 0
      },
      "text/plain": [
       "Validation: 0it [00:00, ?it/s]"
      ]
     },
     "metadata": {},
     "output_type": "display_data"
    },
    {
     "data": {
      "application/vnd.jupyter.widget-view+json": {
       "model_id": "",
       "version_major": 2,
       "version_minor": 0
      },
      "text/plain": [
       "Validation: 0it [00:00, ?it/s]"
      ]
     },
     "metadata": {},
     "output_type": "display_data"
    },
    {
     "data": {
      "application/vnd.jupyter.widget-view+json": {
       "model_id": "",
       "version_major": 2,
       "version_minor": 0
      },
      "text/plain": [
       "Validation: 0it [00:00, ?it/s]"
      ]
     },
     "metadata": {},
     "output_type": "display_data"
    },
    {
     "data": {
      "application/vnd.jupyter.widget-view+json": {
       "model_id": "",
       "version_major": 2,
       "version_minor": 0
      },
      "text/plain": [
       "Validation: 0it [00:00, ?it/s]"
      ]
     },
     "metadata": {},
     "output_type": "display_data"
    },
    {
     "data": {
      "application/vnd.jupyter.widget-view+json": {
       "model_id": "",
       "version_major": 2,
       "version_minor": 0
      },
      "text/plain": [
       "Validation: 0it [00:00, ?it/s]"
      ]
     },
     "metadata": {},
     "output_type": "display_data"
    },
    {
     "data": {
      "application/vnd.jupyter.widget-view+json": {
       "model_id": "",
       "version_major": 2,
       "version_minor": 0
      },
      "text/plain": [
       "Validation: 0it [00:00, ?it/s]"
      ]
     },
     "metadata": {},
     "output_type": "display_data"
    },
    {
     "data": {
      "application/vnd.jupyter.widget-view+json": {
       "model_id": "",
       "version_major": 2,
       "version_minor": 0
      },
      "text/plain": [
       "Validation: 0it [00:00, ?it/s]"
      ]
     },
     "metadata": {},
     "output_type": "display_data"
    },
    {
     "data": {
      "application/vnd.jupyter.widget-view+json": {
       "model_id": "",
       "version_major": 2,
       "version_minor": 0
      },
      "text/plain": [
       "Validation: 0it [00:00, ?it/s]"
      ]
     },
     "metadata": {},
     "output_type": "display_data"
    },
    {
     "data": {
      "application/vnd.jupyter.widget-view+json": {
       "model_id": "",
       "version_major": 2,
       "version_minor": 0
      },
      "text/plain": [
       "Validation: 0it [00:00, ?it/s]"
      ]
     },
     "metadata": {},
     "output_type": "display_data"
    },
    {
     "data": {
      "application/vnd.jupyter.widget-view+json": {
       "model_id": "",
       "version_major": 2,
       "version_minor": 0
      },
      "text/plain": [
       "Validation: 0it [00:00, ?it/s]"
      ]
     },
     "metadata": {},
     "output_type": "display_data"
    },
    {
     "data": {
      "application/vnd.jupyter.widget-view+json": {
       "model_id": "",
       "version_major": 2,
       "version_minor": 0
      },
      "text/plain": [
       "Validation: 0it [00:00, ?it/s]"
      ]
     },
     "metadata": {},
     "output_type": "display_data"
    },
    {
     "data": {
      "application/vnd.jupyter.widget-view+json": {
       "model_id": "",
       "version_major": 2,
       "version_minor": 0
      },
      "text/plain": [
       "Validation: 0it [00:00, ?it/s]"
      ]
     },
     "metadata": {},
     "output_type": "display_data"
    },
    {
     "data": {
      "application/vnd.jupyter.widget-view+json": {
       "model_id": "",
       "version_major": 2,
       "version_minor": 0
      },
      "text/plain": [
       "Validation: 0it [00:00, ?it/s]"
      ]
     },
     "metadata": {},
     "output_type": "display_data"
    },
    {
     "data": {
      "application/vnd.jupyter.widget-view+json": {
       "model_id": "",
       "version_major": 2,
       "version_minor": 0
      },
      "text/plain": [
       "Validation: 0it [00:00, ?it/s]"
      ]
     },
     "metadata": {},
     "output_type": "display_data"
    },
    {
     "data": {
      "application/vnd.jupyter.widget-view+json": {
       "model_id": "",
       "version_major": 2,
       "version_minor": 0
      },
      "text/plain": [
       "Validation: 0it [00:00, ?it/s]"
      ]
     },
     "metadata": {},
     "output_type": "display_data"
    },
    {
     "data": {
      "application/vnd.jupyter.widget-view+json": {
       "model_id": "",
       "version_major": 2,
       "version_minor": 0
      },
      "text/plain": [
       "Validation: 0it [00:00, ?it/s]"
      ]
     },
     "metadata": {},
     "output_type": "display_data"
    },
    {
     "data": {
      "application/vnd.jupyter.widget-view+json": {
       "model_id": "",
       "version_major": 2,
       "version_minor": 0
      },
      "text/plain": [
       "Validation: 0it [00:00, ?it/s]"
      ]
     },
     "metadata": {},
     "output_type": "display_data"
    },
    {
     "name": "stderr",
     "output_type": "stream",
     "text": [
      "/root/miniconda3/envs/sheaflearn/lib/python3.10/site-packages/pytorch_lightning/trainer/trainer.py:653: UserWarning: Detected KeyboardInterrupt, attempting graceful shutdown...\n",
      "  rank_zero_warn(\"Detected KeyboardInterrupt, attempting graceful shutdown...\")\n"
     ]
    }
   ],
   "source": [
    "trainer.fit(model_diffusion, sheaf_dm)"
   ]
  },
  {
   "cell_type": "code",
   "execution_count": 18,
   "id": "9def7a66-b8ce-4d5b-ae26-6133d5eb847b",
   "metadata": {},
   "outputs": [
    {
     "name": "stderr",
     "output_type": "stream",
     "text": [
      "LOCAL_RANK: 0 - CUDA_VISIBLE_DEVICES: [0]\n",
      "/root/miniconda3/envs/sheaflearn/lib/python3.10/site-packages/pytorch_lightning/trainer/connectors/data_connector.py:236: PossibleUserWarning: The dataloader, test_dataloader 0, does not have many workers which may be a bottleneck. Consider increasing the value of the `num_workers` argument` (try 16 which is the number of cpus on this machine) in the `DataLoader` init to improve performance.\n",
      "  rank_zero_warn(\n"
     ]
    },
    {
     "data": {
      "application/vnd.jupyter.widget-view+json": {
       "model_id": "d8458942d57d4ea3acc062e670e886e3",
       "version_major": 2,
       "version_minor": 0
      },
      "text/plain": [
       "Testing: 0it [00:00, ?it/s]"
      ]
     },
     "metadata": {},
     "output_type": "display_data"
    },
    {
     "name": "stdout",
     "output_type": "stream",
     "text": [
      "────────────────────────────────────────────────────────────────────────────────────────────────────────────────────────\n",
      "       Test metric             DataLoader 0\n",
      "────────────────────────────────────────────────────────────────────────────────────────────────────────────────────────\n",
      "        test_acc            0.7027026414871216\n",
      "        test_loss           1.1670796871185303\n",
      "────────────────────────────────────────────────────────────────────────────────────────────────────────────────────────\n"
     ]
    },
    {
     "data": {
      "text/plain": [
       "[{'test_loss': 1.1670796871185303, 'test_acc': 0.7027026414871216}]"
      ]
     },
     "execution_count": 18,
     "metadata": {},
     "output_type": "execute_result"
    }
   ],
   "source": [
    "trainer.test(model_diffusion, sheaf_dm)"
   ]
  },
  {
   "cell_type": "code",
   "execution_count": null,
   "id": "9b2ea272-17e2-4f24-92d5-4e87405459b5",
   "metadata": {},
   "outputs": [],
   "source": [
    "torch.diag(1.+5*torch.ones(3))"
   ]
  },
  {
   "cell_type": "code",
   "execution_count": 19,
   "id": "44fb5533-8bbd-4604-971c-fa66e79da456",
   "metadata": {},
   "outputs": [],
   "source": [
    "import torch\n",
    "from torch_sparse import coalesce"
   ]
  },
  {
   "cell_type": "code",
   "execution_count": 23,
   "id": "e96c320d-15d8-4ee6-8b3b-a77a06ad5fce",
   "metadata": {},
   "outputs": [],
   "source": [
    "index = torch.tensor([[1, 0, 1, 0, 2, 1],\n",
    "                      [0, 1, 1, 1, 0, 0]])\n",
    "value = torch.Tensor([1,2,3,4,5,6])\n",
    "\n",
    "index, value = coalesce(index, value, m=3, n=2)"
   ]
  },
  {
   "cell_type": "code",
   "execution_count": 24,
   "id": "4ad61eea-e82a-4174-9128-d8ea3b1c5c0e",
   "metadata": {},
   "outputs": [
    {
     "data": {
      "text/plain": [
       "tensor([[0, 1, 1, 2],\n",
       "        [1, 0, 1, 0]])"
      ]
     },
     "execution_count": 24,
     "metadata": {},
     "output_type": "execute_result"
    }
   ],
   "source": [
    "index"
   ]
  },
  {
   "cell_type": "code",
   "execution_count": 25,
   "id": "e665a99d-8a9a-4c81-ab40-c651c3768575",
   "metadata": {},
   "outputs": [
    {
     "data": {
      "text/plain": [
       "tensor([6., 7., 3., 5.])"
      ]
     },
     "execution_count": 25,
     "metadata": {},
     "output_type": "execute_result"
    }
   ],
   "source": [
    "value"
   ]
  },
  {
   "cell_type": "code",
   "execution_count": null,
   "id": "e071ddef-8b42-4b40-88d5-fe9de4c3004f",
   "metadata": {},
   "outputs": [],
   "source": []
  }
 ],
 "metadata": {
  "kernelspec": {
   "display_name": "sheaflearn",
   "language": "python",
   "name": "sheaflearn"
  },
  "language_info": {
   "codemirror_mode": {
    "name": "ipython",
    "version": 3
   },
   "file_extension": ".py",
   "mimetype": "text/x-python",
   "name": "python",
   "nbconvert_exporter": "python",
   "pygments_lexer": "ipython3",
   "version": "3.10.8"
  }
 },
 "nbformat": 4,
 "nbformat_minor": 5
}
